{
 "cells": [
  {
   "attachments": {},
   "cell_type": "markdown",
   "id": "4d2c698f",
   "metadata": {},
   "source": [
    "# 1. Numpy \n",
    "Numpy is a powerful Python module that should be in the toolbelt of any AI/Deep learning practitioner. It provides functions and data structures that allow fast, efficient manipulation of mathematical structures like matrices and vectors. It represents these structures internally using Numpy arrays, which are like Python Lists, but highly optimised for calculations on large amounts of numerical data. Let's import this module now.\n",
    "\n",
    "Numpy arrays are almost the exact same as Pytorch Tensors, which you will have heard about by now. The only difference is that Pytorch Tensors can be operated on by the GPU; Numpy array operations are always performed by the CPU.  "
   ]
  },
  {
   "cell_type": "code",
<<<<<<< HEAD
   "execution_count": 371,
=======
   "execution_count": 102,
>>>>>>> 95239bcaaad35ab96f4cecf3e761153bd069c86f
   "id": "a352c02e",
   "metadata": {},
   "outputs": [],
   "source": [
    "import numpy as np"
   ]
  },
  {
   "attachments": {},
   "cell_type": "markdown",
   "id": "fe0a2fda",
   "metadata": {},
   "source": [
    "### 1.1.1 Array creation\n",
    "Numpy arrays can be created in a few different ways. Common ones are:\n",
    "1. Instantiated using values from a normal Python list\n",
    "2. Filled with sequential values upto a target number\n",
    "3. Filled with a specific value\n",
    "4. Filled with random values (various random distributions available) - see https://numpy.org/doc/stable/reference/random/index.html\n",
    "\n",
    "For a full list of array creation routines, please see: https://numpy.org/doc/stable/reference/routines.array-creation.html\n"
   ]
  },
  {
   "cell_type": "code",
<<<<<<< HEAD
   "execution_count": 372,
=======
   "execution_count": 103,
>>>>>>> 95239bcaaad35ab96f4cecf3e761153bd069c86f
   "id": "cc36ef32",
   "metadata": {},
   "outputs": [
    {
<<<<<<< HEAD
     "data": {
      "text/plain": [
       "array([ 1,  2,  3,  4,  5,  6, 85, 48,  5,  4, 87,  4, 87,  8])"
      ]
     },
     "execution_count": 372,
     "metadata": {},
     "output_type": "execute_result"
=======
     "name": "stdout",
     "output_type": "stream",
     "text": [
      "[ 2  4  8 16 32]\n"
     ]
>>>>>>> 95239bcaaad35ab96f4cecf3e761153bd069c86f
    }
   ],
   "source": [
    "#Array creation from python list\n",
<<<<<<< HEAD
    "ary = np.array([1,2,3,4,5,6,85,48,5,4,87,4,87,8])\n",
    "ary"
=======
    "python_list = [2, 4, 8, 16, 32]\n",
    "np_from_list = np.array(python_list)\n",
    "print(np_from_list)"
>>>>>>> 95239bcaaad35ab96f4cecf3e761153bd069c86f
   ]
  },
  {
   "cell_type": "code",
<<<<<<< HEAD
   "execution_count": 373,
=======
   "execution_count": 104,
>>>>>>> 95239bcaaad35ab96f4cecf3e761153bd069c86f
   "id": "0ccacf1d",
   "metadata": {},
   "outputs": [
    {
     "data": {
      "text/plain": [
<<<<<<< HEAD
       "array([ 0,  2,  4,  6,  8, 10, 12, 14, 16, 18])"
      ]
     },
     "execution_count": 373,
=======
       "array([10, 15, 20, 25, 30, 35, 40, 45])"
      ]
     },
     "execution_count": 104,
>>>>>>> 95239bcaaad35ab96f4cecf3e761153bd069c86f
     "metadata": {},
     "output_type": "execute_result"
    }
   ],
   "source": [
    "#Array creation with sequential values \n",
<<<<<<< HEAD
    "ary = np.arange(0,20,2)\n",
    "ary"
=======
    "seq_array = np.arange(start=10, stop=50, step=5)\n",
    "seq_array"
>>>>>>> 95239bcaaad35ab96f4cecf3e761153bd069c86f
   ]
  },
  {
   "cell_type": "code",
<<<<<<< HEAD
   "execution_count": 374,
=======
   "execution_count": 105,
>>>>>>> 95239bcaaad35ab96f4cecf3e761153bd069c86f
   "id": "3b4a7775",
   "metadata": {},
   "outputs": [
    {
     "data": {
      "text/plain": [
<<<<<<< HEAD
       "array([ 8,  9,  3, 13,  8,  8, 15,  2,  0, 14])"
      ]
     },
     "execution_count": 374,
=======
       "array([0.0558312 , 0.55795473, 0.85109954, 0.89719848, 0.81816223,\n",
       "       0.99459988, 0.81678427, 0.68479151, 0.69150509, 0.08798084,\n",
       "       0.33840512, 0.74235266, 0.75673493, 0.96929529, 0.393403  ,\n",
       "       0.38768088, 0.67991731, 0.92771085, 0.16915778, 0.7987478 ])"
      ]
     },
     "execution_count": 105,
>>>>>>> 95239bcaaad35ab96f4cecf3e761153bd069c86f
     "metadata": {},
     "output_type": "execute_result"
    }
   ],
   "source": [
<<<<<<< HEAD
    "#Array creation with random values\n",
    "ary = np.random.randint(0,20 ,10)\n",
    "ary\n",
    "\n"
=======
    "#Array creation with random values \n",
    "random_array = np.random.rand(20)\n",
    "random_array"
>>>>>>> 95239bcaaad35ab96f4cecf3e761153bd069c86f
   ]
  },
  {
   "cell_type": "code",
<<<<<<< HEAD
   "execution_count": 375,
   "id": "6b1ca14d",
   "metadata": {},
   "outputs": [
    {
     "name": "stdout",
     "output_type": "stream",
     "text": [
      "[0.22634337 0.94844257 0.40336877 0.00480963 0.0560117  0.26793197\n",
      " 0.72412615 0.56993015 0.68507918 0.5541768  0.77985272 0.9283095\n",
      " 0.98646922 0.86223316 0.33883759 0.64787511 0.25745824 0.42014317\n",
      " 0.37311111 0.10060836]\n"
     ]
    }
   ],
   "source": [
    "ary = np.random.rand(20)\n",
    "print(ary)"
   ]
  },
  {
   "cell_type": "code",
   "execution_count": 376,
   "id": "68a1cf04",
   "metadata": {},
   "outputs": [
    {
     "data": {
      "text/plain": [
       "array([0., 0., 0., 0., 0., 0., 0., 0., 0., 0.])"
      ]
     },
     "execution_count": 376,
     "metadata": {},
     "output_type": "execute_result"
    }
   ],
   "source": [
    "#Array filled with the same specific value\n",
    "ary = np.zeros(10)\n",
    "ary"
   ]
  },
  {
   "cell_type": "code",
   "execution_count": 377,
   "id": "0fcc2394",
   "metadata": {},
   "outputs": [
    {
     "data": {
      "text/plain": [
       "array([1., 1., 1., 1., 1., 1., 1., 1., 1., 1.])"
      ]
     },
     "execution_count": 377,
     "metadata": {},
     "output_type": "execute_result"
    }
   ],
   "source": [
    "ary = np.ones(10)\n",
    "ary"
   ]
  },
  {
   "cell_type": "code",
   "execution_count": 378,
   "id": "e3b50f8c",
   "metadata": {},
   "outputs": [
    {
     "data": {
      "text/plain": [
       "array([256., 256., 256., 256., 256., 256., 256., 256., 256., 256.])"
      ]
     },
     "execution_count": 378,
     "metadata": {},
     "output_type": "execute_result"
    }
   ],
   "source": [
    "ary = np.zeros(10)\n",
    "ary.fill(256)\n",
    "ary"
   ]
  },
  {
=======
   "execution_count": 106,
   "id": "68a1cf04",
   "metadata": {},
   "outputs": [
    {
     "data": {
      "text/plain": [
       "array([256, 256, 256, 256, 256, 256, 256, 256, 256, 256])"
      ]
     },
     "execution_count": 106,
     "metadata": {},
     "output_type": "execute_result"
    }
   ],
   "source": [
    "#Array filled with the same specific value\n",
    "filled_array = np.full(10, 256)\n",
    "filled_array"
   ]
  },
  {
>>>>>>> 95239bcaaad35ab96f4cecf3e761153bd069c86f
   "attachments": {},
   "cell_type": "markdown",
   "id": "e92f617f",
   "metadata": {},
   "source": [
    "### 1.1.2 Reshaping arrays\n",
    "\n",
    "One of the many things that set Numpy arrays apart from Python lists is their `reshape` method. This allows you to define the number of dimensions that the structure represented by the array has. For example, the array `np_from_list` that we have just defined is just a flat list of numbers at the moment. `reshape` helps us represent it as a 2D data structure (a matrix). Keep in mind that the shape that you put into this method must agree with the number of elements in the array. In our example, the array has 10 elements, so acceptable shapes include:\n",
    "* 5, 2\n",
    "* 2, 5\n",
    "* 1, 10\n",
    "* 10, 1"
   ]
  },
  {
   "cell_type": "code",
<<<<<<< HEAD
   "execution_count": 379,
=======
   "execution_count": 107,
>>>>>>> 95239bcaaad35ab96f4cecf3e761153bd069c86f
   "id": "e5e2f39c",
   "metadata": {},
   "outputs": [
    {
     "name": "stdout",
     "output_type": "stream",
     "text": [
<<<<<<< HEAD
      "[[256. 256.]\n",
      " [256. 256.]\n",
      " [256. 256.]\n",
      " [256. 256.]\n",
      " [256. 256.]]\n",
      "\n",
      "(5, 2)\n"
=======
      "[[256 256]\n",
      " [256 256]\n",
      " [256 256]\n",
      " [256 256]\n",
      " [256 256]]\n",
      "matrix has shape: (5, 2)\n"
>>>>>>> 95239bcaaad35ab96f4cecf3e761153bd069c86f
     ]
    }
   ],
   "source": [
<<<<<<< HEAD
    "res = ary.reshape((5,2))\n",
    "print(f\"{res}\\n\\n{res.shape}\") "
=======
    "matrix_5_2 = filled_array.reshape(5, 2)\n",
    "print(matrix_5_2)\n",
    "print(f\"matrix has shape: {matrix_5_2.shape}\")"
>>>>>>> 95239bcaaad35ab96f4cecf3e761153bd069c86f
   ]
  },
  {
   "cell_type": "code",
<<<<<<< HEAD
   "execution_count": 380,
=======
   "execution_count": 108,
>>>>>>> 95239bcaaad35ab96f4cecf3e761153bd069c86f
   "id": "440acb3f",
   "metadata": {},
   "outputs": [
    {
     "name": "stdout",
     "output_type": "stream",
     "text": [
<<<<<<< HEAD
      "[[256.]\n",
      " [256.]\n",
      " [256.]\n",
      " [256.]\n",
      " [256.]\n",
      " [256.]\n",
      " [256.]\n",
      " [256.]\n",
      " [256.]\n",
      " [256.]]\n",
      "\n",
      "(10, 1)\n"
=======
      "[[0.0558312  0.55795473 0.85109954 0.89719848 0.81816223 0.99459988\n",
      "  0.81678427 0.68479151 0.69150509 0.08798084]\n",
      " [0.33840512 0.74235266 0.75673493 0.96929529 0.393403   0.38768088\n",
      "  0.67991731 0.92771085 0.16915778 0.7987478 ]]\n",
      "matrix has shape: (2, 10)\n"
>>>>>>> 95239bcaaad35ab96f4cecf3e761153bd069c86f
     ]
    }
   ],
   "source": [
<<<<<<< HEAD
    "res_2 = ary.reshape((10,1))\n",
    "print(f\"{res_2}\\n\\n{res_2.shape}\") "
=======
    "matrix_2_10 = random_array.reshape(2, 10)\n",
    "print(matrix_2_10)\n",
    "print(f\"matrix has shape: {matrix_2_10.shape}\")"
>>>>>>> 95239bcaaad35ab96f4cecf3e761153bd069c86f
   ]
  },
  {
   "cell_type": "code",
<<<<<<< HEAD
   "execution_count": 381,
=======
   "execution_count": 109,
>>>>>>> 95239bcaaad35ab96f4cecf3e761153bd069c86f
   "id": "5b7ecc7c",
   "metadata": {},
   "outputs": [
    {
<<<<<<< HEAD
     "name": "stdout",
     "output_type": "stream",
     "text": [
      "[128 128 128 128 128 128 128 128 128 128]\n",
      "[[2023]\n",
      " [2023]\n",
      " [2023]\n",
      " [2023]\n",
      " [2023]\n",
      " [2023]\n",
      " [2023]\n",
      " [2023]\n",
      " [2023]\n",
      " [2023]]\n"
     ]
    }
   ],
   "source": [
    "\"\"\"\n",
    "You can also pass a desired shape into the array creation function to instantiate\n",
    "an array with a pre-defined shape\n",
    "\"\"\"\n",
    "\n",
    "arr = np.full(ary.shape, 128)\n",
    "print(arr)\n",
    "arr2 = np.full(res_2.shape, 2023)\n",
    "print(arr2)"
=======
     "data": {
      "text/plain": [
       "array([[32, 32],\n",
       "       [32, 32],\n",
       "       [32, 32],\n",
       "       [32, 32],\n",
       "       [32, 32]])"
      ]
     },
     "execution_count": 109,
     "metadata": {},
     "output_type": "execute_result"
    }
   ],
   "source": [
    "# You can also pass a desired shape into the array creation function to instantiate\n",
    "# an array with a pre-defined shape\n",
    "array_from_shape = np.full(matrix_5_2.shape, 32)\n",
    "array_from_shape\n"
>>>>>>> 95239bcaaad35ab96f4cecf3e761153bd069c86f
   ]
  },
  {
   "attachments": {},
   "cell_type": "markdown",
   "id": "e5f458bc",
   "metadata": {},
   "source": [
    "### 1.1.3 Exercises"
   ]
  },
  {
   "cell_type": "code",
<<<<<<< HEAD
   "execution_count": 382,
=======
   "execution_count": 110,
>>>>>>> 95239bcaaad35ab96f4cecf3e761153bd069c86f
   "id": "f97ac428",
   "metadata": {},
   "outputs": [
    {
     "name": "stdout",
     "output_type": "stream",
     "text": [
      "[ 0  1  2  3  4  5  6  7  8  9 10 11 12 13 14 15 16 17 18 19 20 21 22 23\n",
      " 24 25 26 27 28 29 30 31]\n"
     ]
    }
   ],
   "source": [
    "# Create a Numpy array A that contains the integers from 0 - 31 (32 elements long)\n",
<<<<<<< HEAD
    "A = np.array([x for x in range (0,32)])\n",
=======
    "A = np.arange(32)\n",
>>>>>>> 95239bcaaad35ab96f4cecf3e761153bd069c86f
    "print(A)"
   ]
  },
  {
   "cell_type": "code",
<<<<<<< HEAD
   "execution_count": 383,
=======
   "execution_count": 111,
>>>>>>> 95239bcaaad35ab96f4cecf3e761153bd069c86f
   "id": "4c06fa53",
   "metadata": {},
   "outputs": [
    {
     "name": "stdout",
     "output_type": "stream",
     "text": [
<<<<<<< HEAD
      "[0.87857304 0.17994165 0.79057309 0.06699572 0.60209845 0.78545974\n",
      " 0.20578286 0.6286183  0.51175568 0.78809242 0.40306669 0.7459709 ]\n",
      "\n",
      "\n",
      "[0.89460706 0.56407343 0.12893484 0.09815297 0.40660024 0.84650977\n",
      " 0.72816901 0.67432221 0.48525895 0.4202382  0.95621384 0.02515489]\n"
=======
      "[0.99899732 0.26085224 0.69718724 0.04511611 0.66449267 0.34984788\n",
      " 0.37932433 0.53465679 0.67605431 0.61273308 0.07041292 0.20024893]\n"
>>>>>>> 95239bcaaad35ab96f4cecf3e761153bd069c86f
     ]
    }
   ],
   "source": [
    "# Create a Numpy array B that contains 12 random numbers between 0 and 1\n",
    "B = np.random.rand(12)\n",
<<<<<<< HEAD
    "C = np.random.random(size=12)\n",
    "print(f\"{B}\\n\\n\\n{C}\")"
=======
    "print(B)"
>>>>>>> 95239bcaaad35ab96f4cecf3e761153bd069c86f
   ]
  },
  {
   "cell_type": "code",
<<<<<<< HEAD
   "execution_count": 384,
=======
   "execution_count": 112,
>>>>>>> 95239bcaaad35ab96f4cecf3e761153bd069c86f
   "id": "b5ad76b4",
   "metadata": {},
   "outputs": [
    {
     "name": "stdout",
     "output_type": "stream",
     "text": [
      "[[ 0  1  2  3]\n",
      " [ 4  5  6  7]\n",
      " [ 8  9 10 11]\n",
      " [12 13 14 15]\n",
      " [16 17 18 19]\n",
      " [20 21 22 23]\n",
      " [24 25 26 27]\n",
      " [28 29 30 31]]\n"
     ]
    }
   ],
   "source": [
    "# Turn A into a 2d matrix of shape (8, 4) - 8 rows, 4 columns\n",
<<<<<<< HEAD
    "A = A.reshape((8,4))\n",
=======
    "A = A.reshape(8, 4)\n",
>>>>>>> 95239bcaaad35ab96f4cecf3e761153bd069c86f
    "print(A)"
   ]
  },
  {
   "cell_type": "code",
<<<<<<< HEAD
   "execution_count": 385,
=======
   "execution_count": 113,
>>>>>>> 95239bcaaad35ab96f4cecf3e761153bd069c86f
   "id": "f28e3f39",
   "metadata": {},
   "outputs": [
    {
     "name": "stdout",
     "output_type": "stream",
     "text": [
<<<<<<< HEAD
      "[[0.87857304 0.17994165 0.79057309]\n",
      " [0.06699572 0.60209845 0.78545974]\n",
      " [0.20578286 0.6286183  0.51175568]\n",
      " [0.78809242 0.40306669 0.7459709 ]]\n"
=======
      "[[0.99899732 0.26085224 0.69718724]\n",
      " [0.04511611 0.66449267 0.34984788]\n",
      " [0.37932433 0.53465679 0.67605431]\n",
      " [0.61273308 0.07041292 0.20024893]]\n"
>>>>>>> 95239bcaaad35ab96f4cecf3e761153bd069c86f
     ]
    }
   ],
   "source": [
    "# Turn B into a 2d matrix of shape (4, 3)\n",
<<<<<<< HEAD
    "B = B.reshape ((4,3))\n",
=======
    "B = B.reshape(4, 3)\n",
>>>>>>> 95239bcaaad35ab96f4cecf3e761153bd069c86f
    "print(B)"
   ]
  },
  {
   "attachments": {},
   "cell_type": "markdown",
   "id": "e3e3ea19",
   "metadata": {},
   "source": [
    "## 1.2 Array operations\n",
    "Once you have created an array, there are various operations you may want to perform on them. We'll go through some of the most common ones in the next few cells.\n",
    "\n",
    "### 1.2.1 Binary operators\n",
    "Similar to normal counting numbers, Numpy arrays can be used as arguments to binary arithmetic operators like `*` (multiplication), `+` (addition), `-`(subtraction) and `/`(division). However, these can only be applied to arrays under certain conditions:\n",
    "1. The arrays have the same shape, OR\n",
    "2. The operation is between an array and a scalar, OR\n",
    "3. The operations is between 2 arrays of different shapes that can be \"broadcast\" together - more on this later\n",
    "\n",
    "These operations are applied **element-wise** meaning each element in the array is combined with its corresponding element at the same position in the other array"
   ]
  },
  {
   "cell_type": "code",
<<<<<<< HEAD
   "execution_count": 386,
=======
   "execution_count": 114,
>>>>>>> 95239bcaaad35ab96f4cecf3e761153bd069c86f
   "id": "d630c356",
   "metadata": {},
   "outputs": [
    {
<<<<<<< HEAD
     "name": "stdout",
     "output_type": "stream",
     "text": [
      "[[ 0  1  2  3]\n",
      " [ 4  5  6  7]\n",
      " [ 8  9 10 11]\n",
      " [12 13 14 15]\n",
      " [16 17 18 19]\n",
      " [20 21 22 23]\n",
      " [24 25 26 27]\n",
      " [28 29 30 31]]\n",
      "\n",
      "and A+3 is\n",
      "\n",
      "[[ 3  4  5  6]\n",
      " [ 7  8  9 10]\n",
      " [11 12 13 14]\n",
      " [15 16 17 18]\n",
      " [19 20 21 22]\n",
      " [23 24 25 26]\n",
      " [27 28 29 30]\n",
      " [31 32 33 34]] \n"
     ]
=======
     "data": {
      "text/plain": [
       "array([[11.90374858, 11.13704644, 11.99761466, 11.58659545],\n",
       "       [11.93997586, 11.25169205, 11.39017383, 11.887816  ],\n",
       "       [11.15400018, 11.14766971, 11.18396393, 11.79222709],\n",
       "       [11.96812249, 11.44261924, 11.57567083, 11.15782329],\n",
       "       [11.31233315, 11.90362521, 11.53315133, 11.74771463],\n",
       "       [11.55444117, 11.1325504 , 11.29449117, 11.97480948],\n",
       "       [11.60965251, 11.82979361, 11.56039823, 11.33596708],\n",
       "       [11.35541464, 11.46476937, 11.86548446, 11.57900587]])"
      ]
     },
     "execution_count": 114,
     "metadata": {},
     "output_type": "execute_result"
>>>>>>> 95239bcaaad35ab96f4cecf3e761153bd069c86f
    }
   ],
   "source": [
    "# Addition with a scalar\n",
<<<<<<< HEAD
    "print (f\"{A}\\n\\nand A+3 is\\n\\n{A+3} \")"
=======
    "arr = np.random.rand(32).reshape(A.shape)\n",
    "scalar_add = arr + 11\n",
    "scalar_add"
>>>>>>> 95239bcaaad35ab96f4cecf3e761153bd069c86f
   ]
  },
  {
   "cell_type": "code",
<<<<<<< HEAD
   "execution_count": 387,
   "id": "fde5b6c4",
   "metadata": {},
   "outputs": [],
   "source": [
    "#B = np.full(A,7)\n",
    "#print (f\"{A}\\n\\nand B is\\n\\n{A}\\n\\nA+B is\\n\\n{A+B}\")"
   ]
  },
  {
   "cell_type": "code",
   "execution_count": 388,
=======
   "execution_count": 115,
>>>>>>> 95239bcaaad35ab96f4cecf3e761153bd069c86f
   "id": "b729a52e",
   "metadata": {},
   "outputs": [
    {
<<<<<<< HEAD
     "name": "stdout",
     "output_type": "stream",
     "text": [
      "[[ 0  1  2  3]\n",
      " [ 4  5  6  7]\n",
      " [ 8  9 10 11]\n",
      " [12 13 14 15]\n",
      " [16 17 18 19]\n",
      " [20 21 22 23]\n",
      " [24 25 26 27]\n",
      " [28 29 30 31]]\n",
      "\n",
      "and A-3 is\n",
      "\n",
      "[[-3 -2 -1  0]\n",
      " [ 1  2  3  4]\n",
      " [ 5  6  7  8]\n",
      " [ 9 10 11 12]\n",
      " [13 14 15 16]\n",
      " [17 18 19 20]\n",
      " [21 22 23 24]\n",
      " [25 26 27 28]] \n"
     ]
=======
     "data": {
      "text/plain": [
       "array([[  0.90374858,  -0.86295356,  -1.00238534,  -2.41340455],\n",
       "       [ -3.06002414,  -4.74830795,  -5.60982617,  -6.112184  ],\n",
       "       [ -7.84599982,  -8.85233029,  -9.81603607, -10.20777291],\n",
       "       [-11.03187751, -12.55738076, -13.42432917, -14.84217671],\n",
       "       [-15.68766685, -16.09637479, -17.46684867, -18.25228537],\n",
       "       [-19.44555883, -20.8674496 , -21.70550883, -22.02519052],\n",
       "       [-23.39034749, -24.17020639, -25.43960177, -26.66403292],\n",
       "       [-27.64458536, -28.53523063, -29.13451554, -30.42099413]])"
      ]
     },
     "execution_count": 115,
     "metadata": {},
     "output_type": "execute_result"
>>>>>>> 95239bcaaad35ab96f4cecf3e761153bd069c86f
    }
   ],
   "source": [
    "# Subtraction with another array of same shape\n",
<<<<<<< HEAD
    "print (f\"{A}\\n\\nand A-3 is\\n\\n{A-3} \")"
=======
    "sub_array = arr - A\n",
    "sub_array"
>>>>>>> 95239bcaaad35ab96f4cecf3e761153bd069c86f
   ]
  },
  {
   "cell_type": "code",
<<<<<<< HEAD
   "execution_count": 389,
=======
   "execution_count": 116,
>>>>>>> 95239bcaaad35ab96f4cecf3e761153bd069c86f
   "id": "d3454d04",
   "metadata": {},
   "outputs": [
    {
<<<<<<< HEAD
     "name": "stdout",
     "output_type": "stream",
     "text": [
      "[[ 0  1  2  3]\n",
      " [ 4  5  6  7]\n",
      " [ 8  9 10 11]\n",
      " [12 13 14 15]\n",
      " [16 17 18 19]\n",
      " [20 21 22 23]\n",
      " [24 25 26 27]\n",
      " [28 29 30 31]]\n",
      "\n",
      "and A*3 is\n",
      "\n",
      "[[ 0  3  6  9]\n",
      " [12 15 18 21]\n",
      " [24 27 30 33]\n",
      " [36 39 42 45]\n",
      " [48 51 54 57]\n",
      " [60 63 66 69]\n",
      " [72 75 78 81]\n",
      " [84 87 90 93]] \n"
     ]
=======
     "data": {
      "text/plain": [
       "array([[ 0.        ,  0.13704644,  1.99522933,  1.75978636],\n",
       "       [ 3.75990345,  1.25846026,  2.341043  ,  6.21471202],\n",
       "       [ 1.23200144,  1.32902735,  1.83963933,  8.71449799],\n",
       "       [11.61746987,  5.75405017,  8.0593916 ,  2.36734931],\n",
       "       [ 4.99733037, 15.36162865,  9.59672399, 14.20657793],\n",
       "       [11.08882332,  2.7835583 ,  6.4788058 , 22.42061797],\n",
       "       [14.63166026, 20.74484037, 14.57035406,  9.07111113],\n",
       "       [ 9.95160993, 13.47831168, 25.96453369, 17.94918188]])"
      ]
     },
     "execution_count": 116,
     "metadata": {},
     "output_type": "execute_result"
>>>>>>> 95239bcaaad35ab96f4cecf3e761153bd069c86f
    }
   ],
   "source": [
    "# Multiplication with another array of same shape\n",
<<<<<<< HEAD
    "print (f\"{A}\\n\\nand A*3 is\\n\\n{A*3} \")"
=======
    "mul_array = arr * A\n",
    "mul_array"
>>>>>>> 95239bcaaad35ab96f4cecf3e761153bd069c86f
   ]
  },
  {
   "cell_type": "code",
<<<<<<< HEAD
   "execution_count": 390,
=======
   "execution_count": 117,
>>>>>>> 95239bcaaad35ab96f4cecf3e761153bd069c86f
   "id": "9ae00ef0",
   "metadata": {},
   "outputs": [
    {
<<<<<<< HEAD
     "name": "stdout",
     "output_type": "stream",
     "text": [
      "[[ 0  1  2  3]\n",
      " [ 4  5  6  7]\n",
      " [ 8  9 10 11]\n",
      " [12 13 14 15]\n",
      " [16 17 18 19]\n",
      " [20 21 22 23]\n",
      " [24 25 26 27]\n",
      " [28 29 30 31]]\n",
      "\n",
      "and A//3 is\n",
      "\n",
      "[[ 0  0  0  1]\n",
      " [ 1  1  2  2]\n",
      " [ 2  3  3  3]\n",
      " [ 4  4  4  5]\n",
      " [ 5  5  6  6]\n",
      " [ 6  7  7  7]\n",
      " [ 8  8  8  9]\n",
      " [ 9  9 10 10]] \n"
     ]
=======
     "data": {
      "text/plain": [
       "array([[12.17152675, 80.2647599 , 11.02630144, 18.75227627],\n",
       "       [11.70242817, 43.70420096, 28.19256207, 12.38995464],\n",
       "       [71.42848803, 74.49056644, 59.79432937, 13.88490768],\n",
       "       [11.36219861, 24.85205997, 19.10814212, 69.69820614],\n",
       "       [35.21880424, 12.17318842, 20.6320407 , 14.71149498],\n",
       "       [19.83979667, 82.98730437, 37.35256272, 11.28425632],\n",
       "       [18.04306519, 13.25630832, 19.62889844, 32.74130323],\n",
       "       [30.94976614, 23.66765271, 12.70964478, 18.99808037]])"
      ]
     },
     "execution_count": 117,
     "metadata": {},
     "output_type": "execute_result"
>>>>>>> 95239bcaaad35ab96f4cecf3e761153bd069c86f
    }
   ],
   "source": [
    "# Division by a scalar\n",
<<<<<<< HEAD
    "print (f\"{A}\\n\\nand A//3 is\\n\\n{A//3} \")"
=======
    "div_array = 11 / arr\n",
    "div_array"
>>>>>>> 95239bcaaad35ab96f4cecf3e761153bd069c86f
   ]
  },
  {
   "attachments": {},
   "cell_type": "markdown",
   "id": "2e285677",
   "metadata": {},
   "source": [
    "### 1.2.2 Broadcasting\n",
    "As long as an array's dimensions are compatible with their counterparts in the other array, they can be \"broadcasted\" together. This means that numpy will 'stretch' the smaller dimension along its axis so that element-wise operations can be applied between them. In general, 2 arrays can be broadcast together if each dimension in one array is compatible with its counterpart in the other array. Dimensions are compatible if they are equal or one of them is equal to 1. The dimension of size 1 is expanded to fit the size of its counterpart [https://numpy.org/doc/stable/user/basics.broadcasting.html]"
   ]
  },
  {
   "cell_type": "code",
<<<<<<< HEAD
   "execution_count": 391,
=======
   "execution_count": 118,
>>>>>>> 95239bcaaad35ab96f4cecf3e761153bd069c86f
   "id": "be491c00",
   "metadata": {},
   "outputs": [
    {
     "name": "stdout",
     "output_type": "stream",
     "text": [
<<<<<<< HEAD
      "arr:\n",
=======
>>>>>>> 95239bcaaad35ab96f4cecf3e761153bd069c86f
      "[[0]\n",
      " [1]\n",
      " [2]\n",
      " [3]]\n",
<<<<<<< HEAD
      "and D:\n",
=======
      "--------\n",
>>>>>>> 95239bcaaad35ab96f4cecf3e761153bd069c86f
      "[[ 0  1  2]\n",
      " [ 3  4  5]\n",
      " [ 6  7  8]\n",
      " [ 9 10 11]]\n",
<<<<<<< HEAD
      "and finalyy arr+D:\n",
=======
      "--------\n",
>>>>>>> 95239bcaaad35ab96f4cecf3e761153bd069c86f
      "[[ 0  1  2]\n",
      " [ 4  5  6]\n",
      " [ 8  9 10]\n",
      " [12 13 14]]\n"
     ]
    }
   ],
   "source": [
<<<<<<< HEAD
    "D = np.arange(12).reshape(4,3)\n",
    "arr = np.arange(4).reshape(4,1)\n",
    "print(f\"arr:\\n{arr}\\nand D:\\n{D}\\nand finalyy arr+D:\\n{arr+D}\")"
=======
    "B = np.arange(12).reshape(4, 3)\n",
    "array_4_1 = np.arange(4).reshape(4, 1)\n",
    "print(array_4_1)\n",
    "print(\"--------\")\n",
    "print(B)\n",
    "print(\"--------\")\n",
    "\n",
    "broadcasted = array_4_1 + B\n",
    "print(broadcasted)"
>>>>>>> 95239bcaaad35ab96f4cecf3e761153bd069c86f
   ]
  },
  {
   "cell_type": "code",
<<<<<<< HEAD
   "execution_count": 392,
=======
   "execution_count": 119,
>>>>>>> 95239bcaaad35ab96f4cecf3e761153bd069c86f
   "id": "8af7f502",
   "metadata": {},
   "outputs": [
    {
     "name": "stdout",
     "output_type": "stream",
     "text": [
<<<<<<< HEAD
      "arr2:\n",
      "[[0 1 2]]\n",
      "and D:\n",
=======
      "[[0 1 2]]\n",
      "-------------\n",
>>>>>>> 95239bcaaad35ab96f4cecf3e761153bd069c86f
      "[[ 0  1  2]\n",
      " [ 3  4  5]\n",
      " [ 6  7  8]\n",
      " [ 9 10 11]]\n",
<<<<<<< HEAD
      "and finalyy arr2+D:\n",
      "[[ 0  2  4]\n",
      " [ 3  5  7]\n",
      " [ 6  8 10]\n",
      " [ 9 11 13]]\n"
     ]
    }
   ],
   "source": [
    "# Similarly, we can also broadcast an array of shape (1, 2) along B's vertical axis\n",
    "arr2 = np.arange(3).reshape(1,3)\n",
    "print(f\"arr2:\\n{arr2}\\nand D:\\n{D}\\nand finalyy arr2+D:\\n{arr2+D}\")"
=======
      "-------------\n"
     ]
    },
    {
     "data": {
      "text/plain": [
       "array([[ 0,  2,  4],\n",
       "       [ 3,  5,  7],\n",
       "       [ 6,  8, 10],\n",
       "       [ 9, 11, 13]])"
      ]
     },
     "execution_count": 119,
     "metadata": {},
     "output_type": "execute_result"
    }
   ],
   "source": [
    "# Similarly, we can also broadcast an array of shape (1, 3) along B's vertical axis\n",
    "array_1_3 = np.arange(3).reshape(1, 3)\n",
    "print(array_1_3)\n",
    "print(\"-------------\")\n",
    "print(B)\n",
    "print(\"-------------\")\n",
    "broadcasted = B + array_1_3\n",
    "broadcasted\n"
>>>>>>> 95239bcaaad35ab96f4cecf3e761153bd069c86f
   ]
  },
  {
   "attachments": {},
   "cell_type": "markdown",
   "id": "5cfde7f5",
   "metadata": {},
   "source": [
    "### 1.2.3 Array products\n",
    "Contrary to the `*` operator, which performs element-wise multiplication between the arrays, `np.matmul` is the matrix product of the arrays."
   ]
  },
  {
   "cell_type": "code",
<<<<<<< HEAD
   "execution_count": 393,
=======
   "execution_count": 120,
>>>>>>> 95239bcaaad35ab96f4cecf3e761153bd069c86f
   "id": "4a8b3147",
   "metadata": {},
   "outputs": [
    {
     "name": "stdout",
     "output_type": "stream",
     "text": [
<<<<<<< HEAD
      "A shape:(8, 4)\n",
      "B shape:(4, 3)\n",
      "Matrix A * B:\n",
      " [[ 2.84283869  3.06853513  4.0468838 ]\n",
      " [10.60061485 10.32343549 15.38192142]\n",
      " [18.35839101 17.57833586 26.71695904]\n",
      " [26.11616717 24.83323623 38.05199666]\n",
      " [33.87394333 32.08813659 49.38703428]\n",
      " [41.63171948 39.34303696 60.7220719 ]\n",
      " [49.38949564 46.59793732 72.05710952]\n",
      " [57.1472718  53.85283769 83.39214714]]\n",
      "A*B shape:(8, 3)\n"
=======
      "A: (8, 4), B: (4, 3), A.B: (8, 3)\n",
      "[[ 42  48  54]\n",
      " [114 136 158]\n",
      " [186 224 262]\n",
      " [258 312 366]\n",
      " [330 400 470]\n",
      " [402 488 574]\n",
      " [474 576 678]\n",
      " [546 664 782]]\n"
>>>>>>> 95239bcaaad35ab96f4cecf3e761153bd069c86f
     ]
    }
   ],
   "source": [
<<<<<<< HEAD
    "mtrx = np.matmul(A,B)\n",
    "print(f\"A shape:{A.shape}\\nB shape:{B.shape}\")\n",
    "print(\"Matrix A * B:\\n\",mtrx)\n",
    "print(f\"A*B shape:{mtrx.shape}\")"
=======
    "matmul_matrix = np.matmul(A, B)\n",
    "print(f\"A: {A.shape}, B: {B.shape}, A.B: {matmul_matrix.shape}\")\n",
    "print(matmul_matrix)"
>>>>>>> 95239bcaaad35ab96f4cecf3e761153bd069c86f
   ]
  },
  {
   "attachments": {},
   "cell_type": "markdown",
   "id": "f70b44ed",
   "metadata": {},
   "source": [
    "### 1.2.4 Exercises"
   ]
  },
  {
   "cell_type": "code",
<<<<<<< HEAD
   "execution_count": 394,
=======
   "execution_count": 121,
>>>>>>> 95239bcaaad35ab96f4cecf3e761153bd069c86f
   "id": "9db105a1",
   "metadata": {},
   "outputs": [
    {
     "name": "stdout",
     "output_type": "stream",
     "text": [
<<<<<<< HEAD
      "[[0.35142922 0.07197666 0.31622924]\n",
      " [0.02679829 0.24083938 0.31418389]\n",
      " [0.08231314 0.25144732 0.20470227]\n",
      " [0.31523697 0.16122668 0.29838836]]\n"
=======
      "[[0.  0.4 0.8]\n",
      " [1.2 1.6 2. ]\n",
      " [2.4 2.8 3.2]\n",
      " [3.6 4.  4.4]]\n"
>>>>>>> 95239bcaaad35ab96f4cecf3e761153bd069c86f
     ]
    }
   ],
   "source": [
    "# Divide your array B by the number 2.5. Store the result in a variable C\n",
<<<<<<< HEAD
    "C = B/(2.5)\n",
=======
    "C = B / 2.5\n",
>>>>>>> 95239bcaaad35ab96f4cecf3e761153bd069c86f
    "print(C)"
   ]
  },
  {
   "cell_type": "code",
<<<<<<< HEAD
   "execution_count": 395,
=======
   "execution_count": 122,
>>>>>>> 95239bcaaad35ab96f4cecf3e761153bd069c86f
   "id": "69a4a760",
   "metadata": {},
   "outputs": [
    {
     "name": "stdout",
     "output_type": "stream",
     "text": [
      "[[-1 -1 -1]\n",
      " [-1 -1 -1]\n",
      " [-1 -1 -1]\n",
      " [-1 -1 -1]]\n"
     ]
    }
   ],
   "source": [
    "# Create a new array filled with -1. The array must have the same shape as B. Store the result in a variable D\n",
<<<<<<< HEAD
    "D = np.full(B.shape,-1)\n",
=======
    "D = np.full(B.shape, -1)\n",
>>>>>>> 95239bcaaad35ab96f4cecf3e761153bd069c86f
    "print(D)"
   ]
  },
  {
   "cell_type": "code",
<<<<<<< HEAD
   "execution_count": 396,
=======
   "execution_count": 123,
>>>>>>> 95239bcaaad35ab96f4cecf3e761153bd069c86f
   "id": "27789dc5",
   "metadata": {},
   "outputs": [
    {
     "name": "stdout",
     "output_type": "stream",
     "text": [
<<<<<<< HEAD
      "[[-0.87857304 -0.17994165 -0.79057309]\n",
      " [-0.06699572 -0.60209845 -0.78545974]\n",
      " [-0.20578286 -0.6286183  -0.51175568]\n",
      " [-0.78809242 -0.40306669 -0.7459709 ]]\n"
=======
      "[[  0  -1  -2]\n",
      " [ -3  -4  -5]\n",
      " [ -6  -7  -8]\n",
      " [ -9 -10 -11]]\n"
>>>>>>> 95239bcaaad35ab96f4cecf3e761153bd069c86f
     ]
    }
   ],
   "source": [
    "# Multiply this new array ELEMENT-WISE with B and store the result in a variable called E.\n",
<<<<<<< HEAD
    "E = np.multiply(B,D)\n",
=======
    "E = D* B\n",
>>>>>>> 95239bcaaad35ab96f4cecf3e761153bd069c86f
    "print(E)"
   ]
  },
  {
   "cell_type": "code",
<<<<<<< HEAD
   "execution_count": 397,
=======
   "execution_count": 124,
>>>>>>> 95239bcaaad35ab96f4cecf3e761153bd069c86f
   "id": "9e7d9a92",
   "metadata": {},
   "outputs": [
    {
     "name": "stdout",
     "output_type": "stream",
     "text": [
      "[[0 1]\n",
      " [2 3]]\n"
     ]
    }
   ],
   "source": [
    "# Consider the intermediate array below. \n",
    "intermediate_arr = np.arange(4).reshape(2, 2)\n",
    "print(intermediate_arr)"
   ]
  },
  {
   "cell_type": "code",
<<<<<<< HEAD
   "execution_count": 398,
=======
   "execution_count": 125,
>>>>>>> 95239bcaaad35ab96f4cecf3e761153bd069c86f
   "id": "bf5bb2bd",
   "metadata": {},
   "outputs": [
    {
     "name": "stdout",
     "output_type": "stream",
     "text": [
<<<<<<< HEAD
      "[[ 0  0  0]\n",
      " [-1 -1 -1]\n",
      " [-2 -2 -2]\n",
      " [-3 -3 -3]]\n"
=======
      "[[-42 -48 -54]]\n"
>>>>>>> 95239bcaaad35ab96f4cecf3e761153bd069c86f
     ]
    }
   ],
   "source": [
<<<<<<< HEAD
    "\"\"\"Try and multiply it with D element-wise. What happens? What could you do to make this multiplication work? (hint: try and make the intermediate array broadcastable to C)\"\"\"\n",
    "intermediate_arr = intermediate_arr.reshape((4,1))\n",
    "F =  np.multiply(D,intermediate_arr)\n",
=======
    "# Try and multiply it with D element-wise. What happens? What could \n",
    "# you do to make this multiplication work? (hint: try and make\n",
    "# the intermediate array broadcastable to C)\n",
    "intermediate_arr = intermediate_arr.reshape(1, 4)\n",
    "F = np.matmul(intermediate_arr, E)\n",
>>>>>>> 95239bcaaad35ab96f4cecf3e761153bd069c86f
    "print(F)"
   ]
  },
  {
   "attachments": {},
   "cell_type": "markdown",
   "id": "5f4be63d",
   "metadata": {},
   "source": [
    "## 1.3 Functions\n",
    "Another useful thing we might want to do with an array is to apply a function to each element. Generally speaking, it is best to use the built-in Numpy functions to work on numpy arrays instead of defining your own. This is because Numpy functions are highly optimised for speed, which is important when working with large amounts of data. Chances are, whatever kind of mathematical operation you want to perform on a Numpy array is already built in. See below for a full list:  \n",
    "https://numpy.org/doc/stable/reference/routines.math.html  \n",
    "\n",
    "### 1.3.1 Element-wise functions\n",
    "Common uses are applying trig functions to an array of values:"
   ]
  },
  {
   "cell_type": "code",
<<<<<<< HEAD
   "execution_count": 399,
=======
   "execution_count": 126,
>>>>>>> 95239bcaaad35ab96f4cecf3e761153bd069c86f
   "id": "0d99a1ba",
   "metadata": {},
   "outputs": [
    {
     "data": {
<<<<<<< HEAD
      "image/png": "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",
      "text/plain": [
       "<Figure size 350x350 with 1 Axes>"
      ]
     },
     "metadata": {},
=======
      "image/png": "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",
      "text/plain": [
       "<Figure size 252x252 with 1 Axes>"
      ]
     },
     "metadata": {
      "needs_background": "light"
     },
     "output_type": "display_data"
    },
    {
     "data": {
      "image/png": "iVBORw0KGgoAAAANSUhEUgAAAPQAAAD6CAYAAACWJWqOAAAAOXRFWHRTb2Z0d2FyZQBNYXRwbG90bGliIHZlcnNpb24zLjMuMiwgaHR0cHM6Ly9tYXRwbG90bGliLm9yZy8vihELAAAACXBIWXMAAAsTAAALEwEAmpwYAAAbrklEQVR4nO3de3hV9Z3v8fd3504IhECAkAQCclFQuRjQaj3aasVaLc708RwcbWlrpWeOvTjtsVVnOtPODKf2TJ+2zpzaDtW2eB/GS0Vr6yCWatUKQS4aIBAlkLADuUAuhNz23t/zx15btzGQTbJX1r58X8+TZ63122ut/V2VT9d1/5aoKsaY1ODzugBjTPxYoI1JIRZoY1KIBdqYFGKBNiaFWKCNSSEW6DQlIo+JyPUxzjtFRPaISI7LZZkRskCnIRE5H1gIPONMf1VE3haR7Kh5bheR7SKSqapHgT8Aq72p2MTKAp2evgw8ou8/VfRToA34WwARmQV8D7hFVQPOPI84y5kEZoFOcCIyTUSeFJFmETkgIl8TkSIRaRCR65x5xopIrYh8zpn+tYj8XEQ2ikiniPxRRGZErfaTwB8jE6oaAm4B/sbZe/8CuE9V34xa5g1g1oD1mARjgU5gIuIDngV2AqXAFcDtwFLgi8AvRGQy8GNgh6o+GLX4TcA/AZOAHYT3sIhIPjATqIn+LlWtAb4PvASUEd5DR38eAGoJH6qbBJXpdQHmtJYCxar6j870uyLyC2Clqn5BRP4T2ARMBM4bsOxvVfVlABH5W6BdRMqBkPN55yDf9wrwf4B/V9WeQT7vBApHskHGXbaHTmwzgGki0hb5A+4GpjifrwXOBX6lqq0Dlq2PjKjqCeAYMI3wuTJAQfTMzgWxfwf+DfiKcx49UEHU8iYB2R46sdUDB1R1zsAPRCSDcAAfBP5aRH6lqrVRs5RHzTsWKAL8qtolIu8Ac4HmqPm/AzQBXwe6nXV/ImodmcBswof/JkHZHjqxbQE6ROTbIpInIhkicq6ILCW8p4bwufQPgQedkEdcIyIfdfa8/wS8oaqRvfbzwGWRGUVkIfA14Fbnyvd3gQoR+ULU+pYBdap60IXtNHFigU5gqhoErgMWAQeAFuB+4OPAN4DPOfP8AFDgzqjFHwX+gfCh9gWEL5JFrAVukrAM4AFgTWQPr6rdwK3Av4hI5PD+JuDnLmymiSOxDg5Sj4j8GmhQ1b87zTyPAutV9TcxrG8y4dtci09xscwkCDuHTlOq+ldnMG8TcI6L5Zg4sUNuY1KIHXIbk0JsD21MCrFAG5NCLNDGpBALtDEpxAJtTAqxQBuTQizQxqQQC7QxKcQCbUwKsUAbk0Is0MakEAu0MSnEAm1MCrFAG5NCLNDGpJCE6LFk0qRJWlFR4XUZxiSNbdu2tahq8cD2hAh0RUUFVVVVXpdhTNIQkUF7X7VDbmNSSEyBFpE6EXlLRHaISJXTVuS8DG2/M5wQNf9dzsvTakRkuVvFG2M+6Ez20B9T1UWqWulM3wlsct7qsMmZRkTmAyuBBcDVwH0DOoA3xrhkJIfcK4B1zvg64Pqo9sdVtVdVDxB+Y+GyEXyPMSZGsQZagf8SkW0istppm6KqjQDOcLLTXkrUi9KABqftA0RktYhUiUhVc3PzwI+NMcMQ61XuS1TV77xBYaOI7D3NvDJI24f6ClbVtYRfyUJlZaX1JWzSXjCk+AREBotQbGLaQ6uq3xk2AU8TPoQ+KiIlAM6wyZm9gag3HxJ+ebh/2BUakyb+s6qeyn9+kabO4b9taMhAi0i+iBRExoGrgLeBDcAqZ7ZVwDPO+AZgpYjkiMhMYA7htygaY06j2t9BXyDEpPycYa8jlkPuKcDTzmFAJvCoqv5eRLYC60XkFuAQcAOAqlaLyHpgNxAAbnPekGiMOY1qfzvnTBuHzzf8Q+4hA62q7wILB2lvBa44xTJrgDXDrsqYNBMMKXsaO1m5rHzomU/DnhQzJgEcaOmiuz/I/JJxI1qPBdqYBFDtbwdgwbTxI1qPBdqYBLDb30F2ho85U8aOaD0WaGMSQLW/g7lTx5KVMbJIWqCN8ZiqUu1vZ0HJyA63wQJtjOca23s4frKfBaUjuyAGFmhjPFft7wBgwTQLtDFJr9rfjgicPdUCbUzSq/Z3MHNSPvk5I+8RzAJtjMd2+ztGfP85wgJtjIeOd/VxuK07LufPYIE2xlO7G+N3QQws0MZ4Kl6PfEZYoI3xULW/g5LxuRTlZ8dlfRZoYzxU7e+I2+E2WKCN8Ux3X5B3m08wP06H22CBNsYze450ENL4XRADC7QxnonnI58RFmhjPLLb3874vCxKC/Pitk4LtDEeiVwQG0k/3ANZoI3xQH8wxN4jnXE93AYLtDGeeKf5BH2BUNweKImwQBvjgerD8b8gBhZoYzxR7e8gN8vHrOKRdQo4kAXaGA9U+9s5e+o4MkbwlozBWKCNGWWqyu7G+D7yGRFzoEUkQ0S2i8hzznSRiGwUkf3OcELUvHeJSK2I1IjI8rhXbUwSqz/WTWdPIO4XxODM9tBfB/ZETd8JbFLVOcAmZxoRmQ+sBBYAVwP3iUhGfMo1Jvm9/5NJj/bQIlIGfAq4P6p5BbDOGV8HXB/V/riq9qrqAaCW8PukjTHAjoY2sjKEeVML4r7uWPfQPwG+BYSi2qaoaiOAM5zstJcC9VHzNThtHyAiq0WkSkSqmpubz7RuY5JWVd1xzisdT25W/A9cY3nh+7VAk6pui3Gdg1220w81qK5V1UpVrSwuLo5x1cYkt57+ILsa2lhaUeTK+mPpN/QS4NMicg2QC4wTkYeBoyJSoqqNIlICNDnzNwDRL7ktA/zxLNqYZLWroZ3+oFLpUqCH3EOr6l2qWqaqFYQvdr2kqjcDG4BVzmyrgGec8Q3AShHJEZGZwBxgS9wrNyYJba07BsAFMyYMMefwjKRn73uA9SJyC3AIuAFAVatFZD2wGwgAt6lqcMSVGpMCth08zuzJY+PWh9hAZxRoVd0MbHbGW4ErTjHfGmDNCGszJqWEQkpV3TE+dX6Ja99hT4oZM0r2N52goyfABTPcOX8GC7QxoyZy/ry0wp3zZ7BAGzNqquqOUVyQw/SiMa59hwXamFFSdfA4SysmxLXLoYEs0MaMgsb2bhqOd1Pp4vkzWKCNGRVVdccBXHtCLMICbcwoqKo7xpjsDM4pif8PMqJZoI0ZBVvrjrN4eiGZGe5GzgJtjMs6e/rZe6TD9fNnsEAb47rth9oIqfvnz2CBNsZ1VXXHyPAJi6YXuv5dFmhjXLa17jjzS8YxNmckv4WKjQXaGBf1B0Nsrz9OpYuPe0azQBvjot3+Dnr6Q6Ny/gwWaGNcFflBRqVLHRoMZIE2xkVVdceZXjSGyeNyR+X7LNDGuERVqTp4bNTOn8ECbYxr6lpP0nKib9TOn8ECbYxrth4Y3fNnsEAb45o/7m9mckEOsyfH95Wxp2OBNsYFgWCIV/Y1c/m8Ylc7NBjIAm2MC3bUt9HRE+DyeZOHnjmOLNDGuGBzTTMZPuGS2ZNG9Xst0Ma4YPO+Ji6YPoHxeVmj+r0WaGPirKmzh7cPd3DZvNF/CaMF2pg4e3lfCwCXJ2KgRSRXRLaIyE4RqRaR7zntRSKyUUT2O8MJUcvcJSK1IlIjIsvd3ABjEs3mmiYmF+Qwv2TcqH93LHvoXuDjqroQWARcLSIXAXcCm1R1DrDJmUZE5hN+S+UC4GrgPhGJ/5utjUlAgWCIl/c1c9nc0b1dFRHL62RVVU84k1nOnwIrgHVO+zrgemd8BfC4qvaq6gGgFlgWz6KNSVRe3a6KiOkcWkQyRGQH4Ze6b1TVN4ApqtoI4AwjW1AK1Ect3uC0DVznahGpEpGq5ubmEWyCMYkjcrvqo3NG93ZVREyBVtWgqi4CyoBlInLuaWYf7DhDB1nnWlWtVNXK4uLRv3hgjBs272tiyfTCUb9dFXFGV7lVtY3w+6GvBo6KSAmAM2xyZmsAyqMWKwP8Iy3UmEQXuV3l1eE2xHaVu1hECp3xPOBKYC+wAVjlzLYKeMYZ3wCsFJEcEZkJzAG2xLluYxJO5HbVZXO9O+KMpRvCEmCdc6XaB6xX1edE5HVgvYjcAhwCbgBQ1WoRWQ/sBgLAbaoadKd8YxLH5pomigtyWDBt9G9XRQwZaFXdBSwepL0VuOIUy6wB1oy4OmOSRCAY4pX9LXxi/hRPbldF2JNixsTBzoY22rv7PXk6LJoF2pg42FzTjE/g0tkWaGOS3uaaZpZMn8D4Md7croqwQBszQs2dvbx1uN3zw22wQBszYptrwo9geHn/OcICbcwIPberkbIJeZ7eroqwQBszAq0nevlTbQvXLZzm6e2qCAu0MSPw/FuNBEPKikXTvC4FsEAbMyIbdvqZO2UsZ0/1/nAbLNDGDNvhtm621h3n0wsTY+8MFmhjhu3ZneEfEV5ngTYm+W3Y4WdheSEzJuZ7Xcp7LNDGDENtUye7GztYkUB7Z7BAGzMsG3b48Qlce36J16V8gAXamDOkqmzY6eeiWROZPC7X63I+wAJtzBl663A7da0nE+rqdoQF2pgztGGHn6wM4ZPnJtbhNligjTkjwZDy7C4/l82d7PlPJQdjgTbmDGw5cIyjHb18OkEe9RzIAm3MGdiw009eVgZXnuP9TyUHY4E2JkZ9gRDPv9XIVQumMCY7lg5zR58F2pgYvbyvmfbu/oS8uh1hgTYmRg+/cZDighwuneN9V0OnYoE2JgYHWrrYXNPMXy2bTnZm4sYmcSszJoE8+HodmT7hpgune13KaVmgjRlCV2+AJ6oauOa8koR71HOgWF5WVy4ifxCRPSJSLSJfd9qLRGSjiOx3hhOilrlLRGpFpEZElru5Aca47ak3G+jsDbDq4gqvSxlSLHvoAPBNVT0HuAi4TUTmA3cCm1R1DrDJmcb5bCWwgPBrZ+9zXnRnTNJRVda9fpDzSsezZHqh1+UMachAq2qjqr7pjHcCe4BSYAWwzpltHXC9M74CeFxVe1X1AFALLItz3caMildrW6ltOsGqiysSolfPoZzRObSIVBB+E+UbwBRVbYRw6IHIozOlQH3UYg1O28B1rRaRKhGpam5uHkbpxrjv16/VUZSfnXC/ez6VmAMtImOBJ4HbVbXjdLMO0qYfalBdq6qVqlpZXJy49/VM+qo/dpJNe49y47JycrOS46wxpkCLSBbhMD+iqk85zUdFpMT5vARoctobgPKoxcsAf3zKNWb0PPTng/hEuPmiGV6XErNYrnIL8ACwR1V/FPXRBmCVM74KeCaqfaWI5IjITGAOsCV+JRvjvu6+IP+xtZ7lC6ZQMj7P63JiFssT5pcAnwXeEpEdTtvdwD3AehG5BTgE3ACgqtUish7YTfgK+W2qGox34ca46Tc7DtPe3c+qj1R4XcoZGTLQqvonBj8vBrjiFMusAdaMoC5jPKOqrHutjrOnFrBsZpHX5ZwRe1LMmAH+/O4x9h7p5PNJcqsqmgXamCiqyk9e3MeksTmsWPShu60JzwJtTJQ/1bbwxoFjfOVjZ5GXnRy3qqJZoI1xqCo/fKGG0sI8bkzwX1WdigXaGMfG3UfZ2dDO166YTU5m8u2dwQJtDAChkPKjjfuYOSmfzywp87qcYbNAGwM8u8vP3iOd3H7lHDIzkjcWyVu5MXHSHwzx4437OHtqAdedn7gdAMbCAm3S3pPbGqhrPck3r5qHz5dc950HskCbtNYbCPKvm/azsLwwYTvPPxMWaJPWHn3jEP72Hu64al7SPRU2GAu0SVsn+wL89A+1XDSriEtmT/S6nLiwQJu09bPN79Byoo87lqfG3hks0CZN1Rzp5Geb3+EvF5dywYzk+kXV6VigTdoJhZQ7n9pFQW4mf3ftfK/LiSsLtEk7D79xkO2H2vjOtfMpys/2upy4skCbtNLY3s3//X0Nl86ZxF8sTr6fRw7FAm3Shqrynd9UEwiFWHP9eSlzISyaBdqkjd+/fYQX9xzlb66cy/SJY7wuxxUWaJMW2rv7+fsN1cwvGcctH53pdTmuiaXXT2OS3j2/20vriV5+uWppUv+aaiipu2XGOF57p4XHthzii5fM5Lyy8V6X4yoLtElpRzt6+NpjO5g1KZ9vXDXX63JcZ4fcJmX1B0Pc9sibdPUGePTWCxmTnfr/3FN/C03a+v7ze6k6eJx7Vy5i7pQCr8sZFXbIbVLSc7v8/PLVA3z+4oqk7F97uGJ5Wd0vRaRJRN6OaisSkY0ist8ZToj67C4RqRWRGhFZ7lbhxpxKbVMn33piF0umF3L3Ned4Xc6oimUP/Wvg6gFtdwKbVHUOsMmZRkTmAyuBBc4y94lIcvaHapLSid4AX35oG3lZGdx30wVkZ6bXQeiQW6uqLwPHBjSvANY54+uA66PaH1fVXlU9ANQCy+JTqjGnp6p8+8ldHGjp4t9uXMzU8blelzTqhvt/X1NUtRHAGUY6YyoF6qPma3DaPkREVotIlYhUNTc3D7MMY95376b9/HZXI3csP5uLZ0/yuhxPxPt4ZLCn3XWwGVV1rapWqmplcXFxnMsw6eb+V97lJy/u5zNLyvifl83yuhzPDDfQR0WkBMAZNjntDUB51HxlgH/45RkztMe2HOKff7uHT547lR98JjV/RRWr4QZ6A7DKGV8FPBPVvlJEckRkJjAH2DKyEo05tWd2HObup9/i8nnF3LtycUo/px2LIR8sEZHHgMuBSSLSAPwDcA+wXkRuAQ4BNwCoarWIrAd2AwHgNlUNulS7SXMbdx/lG+t3sqyiiJ/fnH5XtAczZKBV9cZTfHTFKeZfA6wZSVHGDOXV2hZue/RNzp02jvtXVZKbZXdHwZ4UM0notXdauPXBKmZOzGfdF5dRkJvldUkJwwJtksoT2xr43ANbKJuQx0NfWkbhmNTq5G+k7McZJimoKj9+cT//umk/H509iftuXsI42zN/iAXaJLzeQJA7n3yLp7cf5r9XlrHmL84jK82vZp+KBdoktLaTfax+aBtbDhzjjuXz+F+Xn5XW95mHYoE2Cau26QSrH6qi4Vg3965clFY/gxwuC7RJOKrKw38+yJrn9zAmO5OHv3Qhy2amzvun3GSBNgmlubOXbz+5i5f2NnHZ3GL+5YbzmVyQfr+aGi4LtEkYm/Yc5VtP7KKzN8B3r5vPqosr7Hz5DFmgjee6egN8/3d7ePjPhzh7agGPrb4obfoAizcLtPFMKKT8Zsdh7vndXpo6e7n10pn87+XzyMm0xziHywJtPLH90HG+9+xudtS3sbC8kJ9/9gKWTJ8w9ILmtCzQZlQ1dfTwg9/X8OSbDRQX5PDDGxbyl4tL8fnsXDkeLNBmVDR39vLAnw7w0Ot19AeVv778LG772GzG5tg/wXiy/zWNq+qPnWTty++yvqqe/mCIa84r4Y7l85gxMd/r0lKSBdq4Yv/RTn62+R2e2enHJ/CZJWV8+bKzmDnJguwmC7SJm57+IC9UH+E/ttbz2jut5GVl8PmLK/jSpTMpGZ/ndXlpwQJtRqza3876rfU8vf0wHT0Byovy+OYn5nLTRTMoyrffK48mC7QZlgMtXbxQfYTndvl5+3AH2Zk+rl4wlf+xtJyPzJpoV609YoE2MVFVqv0d/Ff1EV6oPkrN0U4Azi0dx3evm8/1i0ut95AEYIE2p9R6opfX323l1dpWXtnfTMPxbnwCSyuK+Ptr53PVgimUTRjjdZkmigXavOdYVx/bDx3ntXdaebW2hb1HwnvhgpxMLpw1ka9+fDZXnjOFiWNzPK7UnIoFOk319AfZ3djBjkNt7KhvY2dDGwdbTwKQnemjcsYE7lg+j4vPmsh5pePTvgP7ZGGBTnGhkHK4rZuaI53UHO1k75FO9h3p5J3mEwRC4deOTR2Xy6LyQlYunc6i8kIWTy+0fq6TlAU6BagqzSd6Odh6kgMtXRxs7aKu5SR1rV3UtXTR1ff+y0tKC/M4e2oBV5wzmfPLCllUXpiWr11NVRboBBcIhjjW1UdTZy/Nnb0c7ejB396Dv637/b/2HvoCofeWyfAJ5RPyqJiUz9KKIuZOKWDe1ALmThlrndKnONcCLSJXA/cCGcD9qnqPW9+VLPoCITp6+uno7qejJ0B7dz/t3f20nezjWFcfx7v6OHayn+NdfbR29dHc2UtrVy864IW8PoHJBblMK8zl3NLxLF8wlWmFeUyfOIaZE/MpnZBn3dymKVcCLSIZwE+BTxB+xexWEdmgqrvd+L54UFX6giH6AiF6A+8PewNBevtD9PQH6Qk4w/5w28m+ACf7g3T3BTnp/HX3BTjRG+REbz9dvUFO9AbCfz0BuvtP/96+8XlZFOVnM2FMFqWFuSwqH09xQS7FBTlMLsh5bzhlXK4F1gzKrT30MqBWVd8FEJHHgRWE30p5xlpO9PL/XqolGFICISUUUoIaHgac8UAw9N7nwZDS70z3B5VAKEQgGG4LhJRAMBze/mCI/kCIfmd6uERgTFYGedmZjMnOID8nk4KcTCaNzWbGxDEU5GaSn53JuLwsxudlMS4vMzzMDU9PyM+mMC/LriSbEXMr0KVAfdR0A3DhcFfW3RfkqTcbyPAJGT4fGT7IEMHnEzJ8QqZPyPT5yPAJWRnizBduy80SsjJ8ZPqcYUZ4mJXhIzsynukjyyfkZGWQk+kjO9P33jA7I4PcLB+5WeFhTmbGe+NjnADnZPqsMzuTENwK9GD/uj9wJigiq4HVANOnTz/tysqLxrDru8vjVpwxqcqtY7wGoDxqugzwR8+gqmtVtVJVK4uLi10qw5j04lagtwJzRGSmiGQDK4ENLn2XMcbhyiG3qgZE5CvAC4RvW/1SVavd+C5jzPtcuw+tqs8Dz7u1fmPMh9l9EmNSiAXamBRigTYmhYgOfFDYiyJEmoGDMcw6CWhxuZxEkk7bm07bCiPf3hmq+qH7vQkR6FiJSJWqVnpdx2hJp+1Np20F97bXDrmNSSEWaGNSSLIFeq3XBYyydNredNpWcGl7k+oc2hhzesm2hzbGnEZSBFpErhaRGhGpFZE7va7HTSJSLiJ/EJE9IlItIl/3uqbRICIZIrJdRJ7zuha3iUihiDwhInud/84fidu6E/2Q2+nOaB9R3RkBNyZyd0YjISIlQImqvikiBcA24PpU3d4IEfkGUAmMU9Vrva7HTSKyDnhFVe93fo04RlXb4rHuZNhDv9edkar2AZHujFKSqjaq6pvOeCewh3APMClLRMqATwH3e12L20RkHPDfgAcAVLUvXmGG5Aj0YN0ZpfQ/8AgRqQAWA294XIrbfgJ8Cxh+x27JYxbQDPzKOcW4X0Ty47XyZAj0kN0ZpSIRGQs8Cdyuqh1e1+MWEbkWaFLVbV7XMkoygSXAz1R1MdAFxO26UDIEesjujFKNiGQRDvMjqvqU1/W47BLg0yJSR/h06uMi8rC3JbmqAWhQ1chR1xOEAx4XyRDotOrOSMLdhz4A7FHVH3ldj9tU9S5VLVPVCsL/bV9S1Zs9Lss1qnoEqBeReU7TFQyze+vBJPyrcNKwO6NLgM8Cb4nIDqftbqcHGJMavgo84uyg3gW+EK8VJ/xtK2NM7JLhkNsYEyMLtDEpxAJtTAqxQBuTQizQxqQQC7QxKcQCbUwKsUAbk0L+P4Qf9Y5XSQ5SAAAAAElFTkSuQmCC",
      "text/plain": [
       "<Figure size 252x252 with 1 Axes>"
      ]
     },
     "metadata": {
      "needs_background": "light"
     },
>>>>>>> 95239bcaaad35ab96f4cecf3e761153bd069c86f
     "output_type": "display_data"
    }
   ],
   "source": [
    "import matplotlib.pyplot as plt\n",
    "\n",
    "def simple_plot(x, y, label):\n",
    "    plt.plot(x, y)\n",
    "    plt.title(label)\n",
    "    plt.show()\n",
    "\n",
    "\n",
<<<<<<< HEAD
    "arr_x = np.arange(0,2*np.pi,0.2)\n",
    "arr_y = np.sin(arr_x)  \n",
    "simple_plot(arr_x,arr_y,\"sin graph\")\n"
   ]
  },
  {
   "cell_type": "code",
   "execution_count": 400,
   "id": "08a841db",
   "metadata": {},
   "outputs": [
    {
     "data": {
      "image/png": "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",
      "text/plain": [
       "<Figure size 350x350 with 1 Axes>"
      ]
     },
     "metadata": {},
     "output_type": "display_data"
    }
   ],
   "source": [
    "arr_x = np.arange(0,2*np.pi,0.2)\n",
    "arr_y = np.cos(arr_x)  \n",
    "simple_plot(arr_x,arr_y,\"cos graph\")"
   ]
  },
  {
   "cell_type": "code",
   "execution_count": 401,
   "id": "4e565f00",
   "metadata": {},
   "outputs": [
    {
     "data": {
      "image/png": "iVBORw0KGgoAAAANSUhEUgAAAVQAAAFUCAYAAAB7ksS1AAAAOXRFWHRTb2Z0d2FyZQBNYXRwbG90bGliIHZlcnNpb24zLjguMSwgaHR0cHM6Ly9tYXRwbG90bGliLm9yZy/SrBM8AAAACXBIWXMAAA9hAAAPYQGoP6dpAAAwmUlEQVR4nO3deXRTZf4/8Hf2rkk3mrZ0AQawVChbWeK+VDpMdVyY+TrIKOPwnXG0ZYSqX4f5IYyMxyqeEUURd2BcBodRR6gsVkBQKYhFlLVQtlZK0lJI0jVJk+f3R0kkUJa0aW+Svl/n3ENz75Pkc3Nm3j7Pvc+9VyaEECAioi6TS10AEVGoYKASEfkJA5WIyE8YqEREfsJAJSLyEwYqEZGfMFCJiPyEgUpE5CcMVCIiP2GgEvWwpUuXQiaT4dtvv5W6FPIzBir5hTskLrRs3boVAFBaWgqZTIYnn3zyvM84cuQIIiIi8Ktf/cqz7ne/+53X52i1WgwfPhz/+Mc/YLPZemz/iC6HUuoCKLTMmzcP/fv3P2/9wIEDAQC33HIL7rnnHhQXF2Py5MkYPHiwp81DDz0ElUqFhQsXer1Xo9HgzTffBACYzWZ8+OGHePTRR7F9+3YsX768G/eGyEeCyA+WLFkiAIjt27dfsq3JZBKxsbHixhtv9Kz717/+JQCIhQsXerWdOnWqiIyM9FrndDpFTk6OACCOHz/unx04h8vlEs3Nzd3y2b78VhRcOOSnHpeYmIhnn30WGzduxLJly2A2mzFz5kyMGTMGBQUFl3y/XC7HDTfcAAA4evToRdv+8MMPuP766xEeHo7U1FQ89dRTWLJkCWQymdd7+/Xrh1tvvRXr1q1DTk4OwsPD8dprrwEAlixZgptuugmJiYnQaDTIysrC4sWLz/su92d89tlnGDFiBMLCwpCVlYWPPvqow9psNhuKiorQp08fREZG4s4770RdXd0l958CF4f85FcWiwUnT570WieTyRAfH++17n//93+xbNkyPProo1i3bh3q6uqwevVqyOWX99/4Q4cOAcB5n3u248eP48Ybb4RMJsOsWbMQGRmJN998ExqNpsP2FRUVmDx5Mh544AH84Q9/wBVXXAEAWLx4Ma688kr88pe/hFKpxKpVq/DQQw/B5XKd9x+AgwcP4u6778af/vQnTJ06FUuWLMGvf/1rrF27FrfccotX2+nTpyM2NhZz587F0aNH8cILL6CwsBAffPDBZf0GFICk7iJTaHAPYztaNBpNh+/ZvXu3UKlUAoCYMWNGh23cQ/66ujpRV1cnKisrxdNPPy1kMpnIzs6+aE3Tp08XMplMfPfdd5519fX1Ii4uTgAQR44c8azPyMgQAMTatWvP+5yOhv55eXliwIABXuvcn/Hhhx961lksFpGcnCxGjhzpWef+rXJzc4XL5fKsnzlzplAoFMJsNl90vyhwsYdKfrVo0SKvE00AoFAoOmyr1WqhVqvhcDgwYcKEC35mU1MT+vTp47XuqquuwjvvvHPRWtauXQuDwYARI0Z41sXFxWHKlCl46aWXzmvfv39/5OXlnbc+PDzc87fFYoHD4cD111+PdevWwWKxQKfTebanpKTgzjvv9NrH++67D88++yyMRiOSkpI82/74xz9CJpN5Xl977bVYsGABjh07huzs7IvuGwUmBir51dixY5GTk3NZbQsLCyGXy5GRkYFHHnkEubm5UKlU57ULCwvDqlWrALSf8e/fvz9SU1Mv+fnHjh2DwWA4b717xsG5OpqdAABff/015s6di7KyMjQ3N3ttOzdQBw4c6BWSADz/gTl69KhXoKanp3u1i42NBQCcPn36QrtEAY6BSpL46KOPsHLlSrzwwgsYNGgQ8vPz8dxzz+Gvf/3reW0VCgVyc3O7vaaze6Juhw4dws0334zMzEw8//zzSEtLg1qtxurVq7FgwQK4XK5Of9+Feu6CTyUKWgxU6nENDQ3485//jFGjRqGwsBAKhQKTJk3CU089hcmTJ1+wp+irjIwMVFZWnre+o3UXsmrVKthsNqxcudKrR7lx48YO21dWVkII4dVLPXDgAID2WQAU2jhtinrc7NmzceLECbz22mueXtqLL74IhUKBwsJCv31PXl4eysrKsHPnTs+6U6dO4b333rvsz3DXd3av0WKxYMmSJR22r6mpwccff+x5bbVa8c9//hMjRozwGu5TaGIPlfxqzZo12L9//3nrr7rqKgwYMADl5eVYtGgRCgoKvI619u3bF/PmzUNRURE+/PBDTJo0qcu1/N///R/effdd3HLLLZg+fbpn2lR6ejpOnTp13rHOjkyYMAFqtRq33XYbHnjgATQ2NuKNN95AYmIiTpw4cV77wYMHY9q0adi+fTv0ej3efvttmEymCwYwhRiJZxlQiLjYtCkAYsmSJaKtrU2MGjVKpKSkCIvFct5ntLW1iREjRojU1FTR0NAghOj4SilffPfdd+Laa68VGo1GpKamiuLiYrFw4UIBQBiNRk+7jIwMkZ+f3+FnrFy5UmRnZ4uwsDDRr18/8eyzz4q33367w6lX+fn5Yt26dSI7O1toNBqRmZkpVqxY0eFvde6VUhs3bhQAxMaNGzu9vyQtmRA8Ak69y4wZM/Daa6+hsbHxgieGOqNfv34YOnQoSkpK/PaZFFx4DJVCWktLi9fr+vp6vPPOO7jmmmv8GqZEAI+hUogzGAy44YYbMGTIEJhMJrz11luwWq144oknpC6NQhADlULaL37xC/znP//B66+/DplMhlGjRuGtt97CddddJ3VpFIJ4DJWIyE94DJWIyE8YqEREfhKUx1BdLhdqamoQHR19WZOziYg6SwiBhoYGpKSkXPJ+vUEZqDU1NUhLS5O6DCLqRaqrqy95l7OgDNTo6GgA7Tuo1WolroaIQpnVakVaWpondy4mKAPVPczXarUMVCLqEZdzeJEnpYiI/ISBSkTkJz4F6t/+9jfIZDKvJTMz07O9tbUVBQUFiI+PR1RUFCZNmgSTyeT1GVVVVcjPz0dERAQSExPx2GOPoa2tzT97Q0QkIZ+PoV555ZX4/PPPf/oA5U8fMXPmTHz66adYsWIFdDodCgsLcdddd+Hrr78GADidTuTn5yMpKQlbtmzBiRMncN9990GlUuHpp5/2w+4QEUnIl3v9zZ07VwwfPrzDbWazWahUKq97P+7bt08AEGVlZUIIIVavXi3kcrnXfSgXL14stFqtsNlsl12HxWIRADq8pyYRkT/5kjc+H0M9ePAgUlJSMGDAAEyZMgVVVVUAgPLycjgcDq+HqWVmZiI9PR1lZWUAgLKyMgwbNgx6vd7TJi8vD1arFXv27Lngd9psNlitVq+FiCjQ+BSo48aNw9KlS7F27VosXrwYR44cwbXXXouGhgYYjUao1WrExMR4vUev18NoNAIAjEajV5i6t7u3XUhxcTF0Op1n4aR+IgpEPh1DnThxoufv7OxsjBs3DhkZGfj3v//d4SN4/WXWrFkoKiryvHZPtCUiCiRdmjYVExODwYMHo7KyEklJSbDb7TCbzV5tTCaT52mPSUlJ5531d7++2BMhNRqNZxI/J/MTUWdtrKjFDz+aYWtzdsvndylQGxsbcejQISQnJ2P06NFQqVRYv369Z3tFRQWqqqpgMBgAtN89fdeuXaitrfW0KS0thVarRVZWVldKISK6KCEEHvn39/jly19j/4mGbvkOn4b8jz76KG677TZkZGSgpqYGc+fOhUKhwOTJk6HT6TBt2jQUFRUhLi4OWq0W06dPh8FgwPjx4wG0P5I3KysL9957L+bPnw+j0YjZs2ejoKAAGo2mW3aQiAgAahtsONVkh1wGXJF06evyO8OnQP3xxx8xefJk1NfXo0+fPrjmmmuwdetW9OnTBwCwYMECyOVyTJo0CTabDXl5eXjllVc871coFCgpKcGDDz4Ig8GAyMhITJ06FfPmzfPvXhERnWPvifbZQf0TIhGm6p4HNAblI1CsVit0Oh0sFguPpxLRZXnli0rMX1uBW7OT8fI9oy77fb7kDa/lJ6JeYd+Z46ZZKd3XCWOgElGvsO/MkH9IMgOViKjTWh1OHK5rBABkMVCJiDrvgKkBLgHERaqRGN19M4oYqEQU8n4a7nfvgz0ZqEQU8twnpIYkde+sIAYqEYW8vTXdf0IKYKASUYgTQmCfkYFKRNRlP55uQUNrG1QKGQYmRnXrdzFQiSikuU9IDUyMhlrZvZHHQCWikOY5IZXcPTdEORsDlYhCmruH2p0T+t0YqEQU0nrqhBTAQCWiENZoa8Ox+mYADFQioi6pONM71Ws1iItUd/v3MVCJKGT11IR+NwYqEYWsve57oDJQiYi6pifugXo2BioRhSSnS6DC6J6DykAlIuq0Y/VNaHE4EaaSo39CZI98JwOViEKS+wqpK/TRUMi77x6oZ2OgElFI6unjpwADlYhCFAOViMhPGKhERH5gbrajxtIKAMjsgbtMuTFQiSjk7D3TO02LC4c2TNVj38tAJaKQ01MP5TsXA5WIQo4Ux08BBioRhSAGKhGRHzicLhw0NQLouZuiuDFQiSikHK5rgt3pQpRGidTY8B79bgYqEYUU93A/Myka8h665NSNgUpEIcXzUL6Unh3uAwxUIgoxeyU6IQUwUIkoxEh1hh9goBJRCKltaMXJRjvksvbb9vU0BioRhQz3FVL9EiIRrlb0+PczUIkoZEg53AcYqEQUQjxn+IMxUJ955hnIZDLMmDHDs661tRUFBQWIj49HVFQUJk2aBJPJ5PW+qqoq5OfnIyIiAomJiXjsscfQ1tbWlVKIiM7qofb88VOgC4G6fft2vPbaa8jOzvZaP3PmTKxatQorVqzApk2bUFNTg7vuusuz3el0Ij8/H3a7HVu2bMGyZcuwdOlSzJkzp/N7QUS9XqvDiUN1TQCArGSdJDV0KlAbGxsxZcoUvPHGG4iNjfWst1gseOutt/D888/jpptuwujRo7FkyRJs2bIFW7duBQB89tln2Lt3L959912MGDECEydOxN///ncsWrQIdrvdP3tFRL1OZW0jnC6B2AgV9FqNJDV0KlALCgqQn5+P3Nxcr/Xl5eVwOBxe6zMzM5Geno6ysjIAQFlZGYYNGwa9Xu9pk5eXB6vVij179nSmHCIi7Kw2AwCG9tVBJuvZS07dlL6+Yfny5dixYwe2b99+3jaj0Qi1Wo2YmBiv9Xq9Hkaj0dPm7DB1b3dv64jNZoPNZvO8tlqtvpZNRCFux7HTAICR6bGXaNl9fOqhVldX4+GHH8Z7772HsLCw7qrpPMXFxdDpdJ4lLS2tx76biILDjqr2QB2dESSBWl5ejtraWowaNQpKpRJKpRKbNm3CwoULoVQqodfrYbfbYTabvd5nMpmQlJQEAEhKSjrvrL/7tbvNuWbNmgWLxeJZqqurfSmbiELcyUYbjtY3AwBGpMVIVodPgXrzzTdj165d2Llzp2fJycnBlClTPH+rVCqsX7/e856KigpUVVXBYDAAAAwGA3bt2oXa2lpPm9LSUmi1WmRlZXX4vRqNBlqt1mshInJzD/cH66OgC++5h/Kdy6djqNHR0Rg6dKjXusjISMTHx3vWT5s2DUVFRYiLi4NWq8X06dNhMBgwfvx4AMCECROQlZWFe++9F/Pnz4fRaMTs2bNRUFAAjUaaM3NEFNx2VJkBAKMkPH4KdOKk1KUsWLAAcrkckyZNgs1mQ15eHl555RXPdoVCgZKSEjz44IMwGAyIjIzE1KlTMW/ePH+XQkS9hLuHOkrC46cAIBNCCEkr6ASr1QqdTgeLxcLhP1Ev53C6MHTuOtjaXPi86HoMTIzy6+f7kje8lp+IgtreGitsbS7ERKgwICFS0loYqEQU1NzTpUalx/b4M6TOxUAloqBW7j5+mh4jbSFgoBJRkPvOfYZf4hNSAAOViIKY0dKK4+YWyGXA8NQYqcthoBJR8HIfPx2SrEWkxu+zQH3GQCWioPXT8VPph/sAA5WIgpg7UKW8IcrZGKhEFJRaHU7sqbEAYA+ViKhLdh+3wOEUSIjSIC0uXOpyADBQiShI/TShP0ayO/Sfi4FKREEp0I6fAgxUIgpCQoifbtnHQCUi6rwfT7egrsEGlUKGYX2leWR0RxioRBR03MdPs1J0CFMpJK7mJwxUIgo6nuOnATJdyo2BSkRBx3OFVEaMtIWcg4FKREGlydaG/cYGAIF1hh9goBJRkPn+RzOcLoFkXRiSdYExod+NgUpEQSWQ7n96LgYqEQWVQD0hBTBQiSiItE/oD4xHRneEgUpEQePwySaYmx3QKOXISg68R8gzUIkoaOw4M9zPTtVBrQy8+Aq8ioiILiCQh/sAA5WIgkigPfLkXAxUIgoKlhYHDtY2AmCgEhF1yc5qM4QA0uMi0CdaI3U5HWKgElFQ2BGAN5Q+FwOViILClkMnAQA5/RioRESd1tDq8Nyh/7pBfaQt5iIYqEQU8MoO1cPpEugXH4G0uAipy7kgBioRBbwvD7YP968bHLi9U4CBSkRBYPPBOgDAtQE83AcYqEQU4I7VN+FYfTOUchnGD4iTupyLYqASUUBzD/dHZcQiOkwlcTUXx0AlooC2+UD7cP+6QQkSV3JpDFQiClgOpwtlh+oBBP7xU4CBSkQB7PtqMxpsbYiJUGFoX53U5VwSA5WIApZ7uH/NwAQo5DKJq7k0nwJ18eLFyM7OhlarhVarhcFgwJo1azzbW1tbUVBQgPj4eERFRWHSpEkwmUxen1FVVYX8/HxEREQgMTERjz32GNra2vyzN0QUUja7558GwXAf8DFQU1NT8cwzz6C8vBzffvstbrrpJtx+++3Ys2cPAGDmzJlYtWoVVqxYgU2bNqGmpgZ33XWX5/1OpxP5+fmw2+3YsmULli1bhqVLl2LOnDn+3SsiCnrmZjt++NEMALh2cOCfkAIAiC6KjY0Vb775pjCbzUKlUokVK1Z4tu3bt08AEGVlZUIIIVavXi3kcrkwGo2eNosXLxZarVbYbLbL/k6LxSIACIvF0tXyiShAffpDjch4vETk/uMLSevwJW86fQzV6XRi+fLlaGpqgsFgQHl5ORwOB3Jzcz1tMjMzkZ6ejrKyMgBAWVkZhg0bBr1e72mTl5cHq9Xq6eV2xGazwWq1ei1EFNrcx0+D4ey+m8+BumvXLkRFRUGj0eBPf/oTPv74Y2RlZcFoNEKtViMmJsarvV6vh9FoBAAYjUavMHVvd2+7kOLiYuh0Os+Slpbma9lEFESEEJ4J/UEz3EcnAvWKK67Azp07sW3bNjz44IOYOnUq9u7d2x21ecyaNQsWi8WzVFdXd+v3EZG0Dp9swnFzC9QKOcb1D+zLTc+m9PUNarUaAwcOBACMHj0a27dvx4svvoi7774bdrsdZrPZq5dqMpmQlJQEAEhKSsI333zj9XnuWQDuNh3RaDTQaALzkQdE5H/u4f6Y/rGIUPscU5Lp8jxUl8sFm82G0aNHQ6VSYf369Z5tFRUVqKqqgsFgAAAYDAbs2rULtbW1njalpaXQarXIysrqailEFCI8w/0gOn4K+NhDnTVrFiZOnIj09HQ0NDTg/fffxxdffIF169ZBp9Nh2rRpKCoqQlxcHLRaLaZPnw6DwYDx48cDACZMmICsrCzce++9mD9/PoxGI2bPno2CggL2QIkIAGBrc551uWnwHD8FfAzU2tpa3HfffThx4gR0Oh2ys7Oxbt063HLLLQCABQsWQC6XY9KkSbDZbMjLy8Mrr7zieb9CoUBJSQkefPBBGAwGREZGYurUqZg3b55/94qIglb5sdNocTiREKXBkCSt1OX4RCaEEFIX4Sur1QqdTgeLxQKtNrh+cCK6uGfX7sfiLw7hzpF9seDuEVKX41Pe8Fp+IgooX3ruzh9cw32AgUpEAaS+0Ybdx9sv3LmGgUpE1HlfVbaf3R+SrEVidJjE1fiOgUpEAWPzAffdpYKvdwowUIkoQLRfbhp81++fjYFKRAGhwtSA2gYbwlRy5PSLlbqcTmGgElFA+PLMcH9c/3iEqRQSV9M5DFQiCgibg3i6lBsDlYgk19DqwLbDpwAA1w8OzuOnAAOViALA5/tMsDtd+FmfSAxMjJK6nE5joBKR5D794QQAIH9YMmSywH+66YUwUIlIUpYWh2f+aX52isTVdA0DlYgk9fne9uH+wMQoDNYH73AfYKASkcRW7wqN4T7AQCUiCVlaHJ7pUvnZyRJX03UMVCKSTOleExxOgcH6KAzWR0tdTpcxUIlIMp/+UAMAyB8W3Cej3BioRCQJS7PD8zC+/OwLP/U4mDBQiUgS6/Ya0eYSuEIfjYGJwT/cBxioRCQRz9n9EDgZ5cZAJaIeZ26246szw/1fDGOgEhF12md7TGhzCWQmRQf1tfvnYqASUY8rOTPcvzWEhvsAA5WIetjpJju+rgy94T7AQCWiHrZujxFOl0BWshYD+oTOcB9goBJRD/s0BM/uuzFQiajHnGqyY8uhegDtN0MJNQxUIuox7uH+lSla9EuIlLocv2OgElGP8dyZPwSH+wADlYh6SH2jDVsOnbl2PwSH+wADlYh6yNo9RrgEMKyvDhnxoTfcBxioRNRDQn24DzBQiagHnGy0Yevh0D2778ZAJaJu92H5j3AJYHhaDNLiIqQup9swUImoW7lcAu9/UwUAuGdsmsTVdC8GKhF1qy8rT+JYfTOiw5S4bXhoPOrkQhioRNSt3t16DAAwaVQqItRKiavpXgxUIuo2NeYWrN9nAgBMGZcucTXdj4FKRN1m+fZquAQwrn8cBoXAY6IvhYFKRN3C4XRh+ZmTUb8dnyFxNT3Dp0AtLi7GmDFjEB0djcTERNxxxx2oqKjwatPa2oqCggLEx8cjKioKkyZNgslk8mpTVVWF/Px8REREIDExEY899hja2tq6vjdEFDA+32tCbYMNCVEa5F0ZGo+JvhSfAnXTpk0oKCjA1q1bUVpaCofDgQkTJqCpqcnTZubMmVi1ahVWrFiBTZs2oaamBnfddZdnu9PpRH5+Pux2O7Zs2YJly5Zh6dKlmDNnjv/2iogk9+629pNRd49JhVrZSwbDogtqa2sFALFp0yYhhBBms1moVCqxYsUKT5t9+/YJAKKsrEwIIcTq1auFXC4XRqPR02bx4sVCq9UKm812Wd9rsVgEAGGxWLpSPhF1k0O1DSLj8RLR7y8lovpUk9TldIkvedOl/2xYLBYAQFxcHACgvLwcDocDubm5njaZmZlIT09HWVkZAKCsrAzDhg2DXq/3tMnLy4PVasWePXs6/B6bzQar1eq1EFHgem9b+7HTG69IRGps6F4Zda5OB6rL5cKMGTNw9dVXY+jQoQAAo9EItVqNmJgYr7Z6vR5Go9HT5uwwdW93b+tIcXExdDqdZ0lLC+2rLYiCWavDif+U/wgA+O340J8qdbZOB2pBQQF2796N5cuX+7OeDs2aNQsWi8WzVFdXd/t3ElHnlPxwApYWB/rGhOP6wYlSl9OjOnXZQmFhIUpKSrB582akpqZ61iclJcFut8NsNnv1Uk0mE5KSkjxtvvnmG6/Pc88CcLc5l0ajgUaj6UypRNTD3FdG3TMuHQq5TOJqepZPPVQhBAoLC/Hxxx9jw4YN6N+/v9f20aNHQ6VSYf369Z51FRUVqKqqgsFgAAAYDAbs2rULtbW1njalpaXQarXIysrqyr4QkcR2H7dgZ7UZKoUMd4/pfYfmfOqhFhQU4P3338cnn3yC6OhozzFPnU6H8PBw6HQ6TJs2DUVFRYiLi4NWq8X06dNhMBgwfvx4AMCECROQlZWFe++9F/Pnz4fRaMTs2bNRUFDAXihRkHvvzFSpnw9NRkJUL/z/sy/TBwB0uCxZssTTpqWlRTz00EMiNjZWREREiDvvvFOcOHHC63OOHj0qJk6cKMLDw0VCQoJ45JFHhMPhuOw6OG2KKPBYWuwic/YakfF4iSg7dFLqcvzGl7yRCSGEdHHeOVarFTqdDhaLBVqtVupyiAjAsi1HMXflHgxKjMJnM6+DTBYax099yZtecvkCEXUnIYRnuD9lXHrIhKmvGKhE1GXbj57GAVMjwlUK3DU69dJvCFEMVCLqsje/PAwAuH1ECrRhKomrkQ4DlYi6ZPdxCz7ba4JMBvzvtQOkLkdSDFQi6pKF6w8CAH45PAUDE6MkrkZaDFQi6rSze6fTbxokdTmSY6ASUaexd+qNgUpEncLe6fkYqETUKS+yd3oeBioR+Wz3cQtK2Ts9DwOViHzG3mnHGKhE5BP2Ti+MgUpEPmHv9MIYqER02dg7vTgGKhFdNvZOL46BSkSXxd07lbN3ekEMVCK6LOydXhoDlYgu6ezeaSF7pxfEQCWiS3rh8wMA2Du9FAYqEV3UxopafL6vFgq5jL3TS2CgEtEFtTqcmPvJHgDA/Vf1Y+/0EhioRHRBr3xxCFWnmpGkDcOMWwZLXU7AY6ASUYcO1zXi1S8OAQDm3JaFKI1S4ooCHwOViM4jhMCcT/bA7nTh+sF9MHFoktQlBQUGKhGdp+SHE/iq8iTUSjme/OWVkMlkUpcUFBioROSlodWBv5fsBQAU3DAQ/RIiJa4oeDBQicjLgtKDqG2woV98BB64vnc/FtpXDFQi8thTY8HSLUcAAPNuH4owlULiioILA5WIAAAul8Ds/+6GSwD52cm4bnAfqUsKOgxUIgIAfPBtNb6rMiNKo8ScW7OkLicoMVCJCPWNNjyzZj8AYOYtg6HXhklcUXBioBIRnlmzH5YWB4YkazHVkCF1OUGLgUrUy20+UIcV5T8CAJ66YyiUCsZCZ/GXI+rFTNZWzPxgJwDg3vEZGJ0RK21BQY6BStRLOV0CDy//DvVNdgxJ1uL/5Q+RuqSgx0Al6qVeXH8QWw+fQqRagUX3jOScUz9goBL1Ql9XnsRLG9qfEfX0XcMwoA/vc+oPDFSiXqa2oRUPL98JIYDfjEnD7SP6Sl1SyGCgEvUiTpfAjOU7cbLRhiv00Zh725VSlxRSfA7UzZs347bbbkNKSgpkMhn++9//em0XQmDOnDlITk5GeHg4cnNzcfDgQa82p06dwpQpU6DVahETE4Np06ahsbGxSztCRJf28oZKbDlUj3CVAoumjES4msdN/cnnQG1qasLw4cOxaNGiDrfPnz8fCxcuxKuvvopt27YhMjISeXl5aG1t9bSZMmUK9uzZg9LSUpSUlGDz5s344x//2Pm9IKJLKjtUjxfXtz+99Kk7hmJgYrTEFYUg0QUAxMcff+x57XK5RFJSknjuuec868xms9BoNOJf//qXEEKIvXv3CgBi+/btnjZr1qwRMplMHD9+/LK+12KxCADCYrF0pXyiXqOuoVWMeapUZDxeIh79906pywkqvuSNX4+hHjlyBEajEbm5uZ51Op0O48aNQ1lZGQCgrKwMMTExyMnJ8bTJzc2FXC7Htm3b/FkOEaH9LlIzP9iJ2gYbBiVG4cnbedy0u/j1qVtGoxEAoNfrvdbr9XrPNqPRiMTERO8ilErExcV52pzLZrPBZrN5XlutVn+WTRTSni89gC8PnkSYSo5FU0YhQs2H7XWXoDjLX1xcDJ1O51nS0tKkLokoKCz9+ghe3lgJAHjqjmEYrOdx0+7k10BNSmp/MqLJZPJabzKZPNuSkpJQW1vrtb2trQ2nTp3ytDnXrFmzYLFYPEt1dbU/yyYKSSu/r8GTZ54NVXTLYPxqdKrEFYU+vwZq//79kZSUhPXr13vWWa1WbNu2DQaDAQBgMBhgNptRXl7uabNhwwa4XC6MGzeuw8/VaDTQarVeCxFd2JcH6/DIv9sn7081ZGD6TQOlLqlX8PlgSmNjIyorKz2vjxw5gp07dyIuLg7p6emYMWMGnnrqKQwaNAj9+/fHE088gZSUFNxxxx0AgCFDhuDnP/85/vCHP+DVV1+Fw+FAYWEhfvOb3yAlJcVvO0bUW31fbcYD75TD4RS4NTsZc2/jY6B7jK9TCDZu3CgAnLdMnTpVCNE+deqJJ54Qer1eaDQacfPNN4uKigqvz6ivrxeTJ08WUVFRQqvVivvvv180NDRcdg2cNkXUscraBjHiyXUi4/ESMeWNraLV0SZ1SUHPl7yRCSGEhHneKVarFTqdDhaLhcN/ojOMllZMWrwFx80tyE7V4f0/jEeUhmf0u8qXvAmKs/xEdHHmZjvue3sbjptbMCAhEkt+N4ZhKgEGKlGQa7E7MW3ZtzhgaoReq8Gy349FfJRG6rJ6JQYqURBrtrfhgXfLUX7sNLRhSvzz9+OQFhchdVm9FscEREGqvtGG3y/7Ft9XmxGmkuOt343BFUmcuC8lBipREKo+1Yz73v4GR042ITZChbd+Nwaj0vmAPakxUImCzO7jFty/dDvqGmzoGxOOf04bi5/xESYBgYFKFES+rjyJB94pR6OtDZlJ0Vj2+7HQa8OkLovOYKASBYmV39fgkX/vhMMpMH5AHF6/LwfaMJXUZdFZGKhEQeDNLw/jqU/3AQDyhyXj+buHQ6Pk40sCDQOVKIA5XQLPrt2P1zcfBgD87qp+mHNrFuRyXpsfiBioRAHKZG3Fw8u/w9bDpwAAj/88E3+6fgBvdBLAGKhEAWjj/lo8suJ7nGqyI0KtQPFdw3D7iL5Sl0WXwEAlCiD2NheeW7cfb3x5BACQlazFy/eMxABOiwoKDFSiAHGsvgnT//UdfvjRAqD9eOlfJmYiTMWTT8GCgUoUAFZ+X4O/frQLjbY26MJVeO5X2ZhwZcePBKLAxUAlklCTrQ3zVu3FB9+2PyctJyMWL04eib4x4RJXRp3BQCWSgBACa3Yb8feSvThhaYVMBhTeOBAP3zwISgVvAhesGKhEPexQXSP+tnIPvjx4EgCQGhuO+ZOycdXABIkro65ioBL1kGZ7G17eUIk3vjwMh1NArZTjT9f/DA/d8DOeeAoRDFSibiaEwLo9Jvy9ZC+Om1sAADdc0Qd/u+1K9EuIlLg68icGKlE3OlTXiHmr9mLTgToAQN+YcMy5LQsTsvS84ikEMVCJukFlbQNe3lCJld/XwCUAtUKOP143AAU3DkS4msP7UMVAJfKjA6YGvLShEiU/1MD9gPbcIYn46y+G8GqnXoCBSuQH+05Y8dKGg1i9y+hZNyFLj+k3DcKwVJ2ElVFPYqASdcHu4xa8tOEg1u0xedZNHJqEwpsG4soUBmlvw0Al8lGL3YmSH2rw/jdV+K7KDACQydpv/Dz9pkF88mgvxkAlukwHTQ14b1sVPtrxI6ytbQAApVyG/OxkFN44EIP0DNLejoFKdBGtDifW7jbivW3HsP3oac/6tLhwTB6bjl+PTkOfaI2EFVIgYaASncPhdGHr4Xqs3mXEmt0nYG52AAAUchlyhyTinnEZuHZgAh9DQudhoBKhPUS3HKrH6h9O4LO9Rpw+E6IAkKILw2/GpuPuMWl8ZDNdFAOVei1bmxNbKuuxetcJfLbXBEvLTyEaF6lG3pVJyB+WDMPP4qFgb5QuAwOVeg0hBA6YGvHlwTp8VXkS2w6fQovD6dmeEKXGz4cm4RdDkzG2fxxvo0c+Y6BSSKttaMXXlSfx5cGT+OrgSdQ22Ly2J0Zr8POhSZh4JkTZE6WuYKBSyHC5BA6fbMSOY2Z8V30a5cdO44Cp0atNmEqOsf3jce3ABFwzKAGZSdG8SQn5DQOVgpa11YGdVWbsqDqN76rM+K7qtGd+6NmG9tXimoF9cO2gBIzOiOW9R6nbMFAp4LlcAlWnmrHfaMW+Ew3Yd8KK/cYGVJ1qPq9tmEqO7NQYjEqPxcj0GORkxCI+ivNEqWcwUClgtDldOG5uweGTTThS14SDtY3Yb7SiwtiAZruzw/dkxEdgZFoMRmXEYlR6LK5IioaKJ5NIIgxU6lEOpwsnzK340dyMqvpmHD7ZhMN1TThyshFVp5rhcIoO36dWynGFPhqZSdEYkqxFZnI0hiRpERup7uE9ILowBir5jcslcLrZjtoGG0zWVhw3t+D46Ravf43WVs99QjuiVsrRPz4S/RMiMaBPJDKTtchKjka/+EhOY6KAx0Cli3K5BKytDtQ32XGqyY76Rve/NpgaWlFrtcHUYEOdtRV1jbYL9jDPplHK0TcmHGlxERjQJxIDEiLRPyEK/RIikKIL5yWdFLQkC9RFixbhueeeg9FoxPDhw/HSSy9h7NixUpUT0lwugWaHE42tbWi0OdDQ2gZLiwOWFgesLQ6Ymx2e1+7F3Nweoqeb7XC6Lh2SZ4uPVKNPtAZ9Y8LRNzYcfWPCkRob4fk7IUrNqUoUkiQJ1A8++ABFRUV49dVXMW7cOLzwwgvIy8tDRUUFEhMTpShJUkII2J0u2NtcsLW50Opwnlna/24583eLZ70TTTYnWuxtaLI70Wx3otnehma7Ey12JxptbWiytaHR1tYeova2iw6zL0e0Rom4KDViI9SIj1QjPkoNvTYMidEaJJ75V68NQ0KUBmolh+bUO8mE6Or/1Xw3btw4jBkzBi+//DIAwOVyIS0tDdOnT8df/vKXS77farVCp9PBYrFAq9Vesr3TJfDDj2a4hECbU8ApBFwuoM3l8qxzCQHnmXVtTgGnS6DNJeB0ueA463Wb0wWH0wWH52/heY/d2f6v40w42t1tnQL2Npdnve3MYm9zev7uCQq5DNFhSkSqldCFq7yXiPZ/tWdex0aoEBepRnykBrGRKmiUnLtJvZMvedPjPVS73Y7y8nLMmjXLs04ulyM3NxdlZWUdvsdms8Fm++mSQavV6tN3tjqcuPOVLZ0rWAIapRxhKgXCVQqEqdr/Djvr7wi1AuEqJSI1CoSrFYhUK9vXnfk7XK1AdJgS0RoVosKUiNIoER2mhEYp51CbqBv1eKCePHkSTqcTer3ea71er8f+/fs7fE9xcTGefPLJTn+nQi5D35hwKBUyKGQyKOQdLDIZ5HIZVAoZFHI5VGfWK8+8Vp55rVLIoFLIoZTLoVK0b//pbzlUCjnUSjnUZ9r99Fp+5rUMGpUCGqUcGmX7No1SAY2qvY1aIedJGaIgFRRn+WfNmoWioiLPa6vVirS0tMt+f5hKga//clN3lEZE5NHjgZqQkACFQgGTyeS13mQyISkpqcP3aDQaaDS8fJCIAluPn45Vq9UYPXo01q9f71nncrmwfv16GAyGni6HiMhvJBnyFxUVYerUqcjJycHYsWPxwgsvoKmpCffff78U5RAR+YUkgXr33Xejrq4Oc+bMgdFoxIgRI7B27drzTlQREQUTSeahdpWv81CJiDrLl7zhJS1ERH7CQCUi8hMGKhGRnzBQiYj8JCiulDqX+zyar9f0ExH5yp0zl3P+PigDtaGhAQB8uvyUiKgrGhoaoNPpLtomKKdNuVwu1NTUIDr68p+p7r7+v7q6mlOtuoi/pX/x9/Sf7vgthRBoaGhASkoK5PKLHyUNyh6qXC5Hampqp96r1Wr5P1o/4W/pX/w9/cffv+WleqZuPClFROQnDFQiIj/pNYGq0Wgwd+5c3gbQD/hb+hd/T/+R+rcMypNSRESBqNf0UImIuhsDlYjITxioRER+wkAlIvKTXhOoixYtQr9+/RAWFoZx48bhm2++kbqkoFNcXIwxY8YgOjoaiYmJuOOOO1BRUSF1WSHhmWeegUwmw4wZM6QuJSgdP34cv/3tbxEfH4/w8HAMGzYM3377bY/X0SsC9YMPPkBRURHmzp2LHTt2YPjw4cjLy0Ntba3UpQWVTZs2oaCgAFu3bkVpaSkcDgcmTJiApqYmqUsLatu3b8drr72G7OxsqUsJSqdPn8bVV18NlUqFNWvWYO/evfjHP/6B2NjYni9G9AJjx44VBQUFntdOp1OkpKSI4uJiCasKfrW1tQKA2LRpk9SlBK2GhgYxaNAgUVpaKq6//nrx8MMPS11S0Hn88cfFNddcI3UZQgghQr6HarfbUV5ejtzcXM86uVyO3NxclJWVSVhZ8LNYLACAuLg4iSsJXgUFBcjPz/f63yf5ZuXKlcjJycGvf/1rJCYmYuTIkXjjjTckqSXkA/XkyZNwOp3nPVFVr9fDaDRKVFXwc7lcmDFjBq6++moMHTpU6nKC0vLly7Fjxw4UFxdLXUpQO3z4MBYvXoxBgwZh3bp1ePDBB/HnP/8Zy5Yt6/FagvJuUyS9goIC7N69G1999ZXUpQSl6upqPPzwwygtLUVYWJjU5QQ1l8uFnJwcPP300wCAkSNHYvfu3Xj11VcxderUHq0l5HuoCQkJUCgUMJlMXutNJhOSkpIkqiq4FRYWoqSkBBs3buz0bRR7u/LyctTW1mLUqFFQKpVQKpXYtGkTFi5cCKVSCafTKXWJQSM5ORlZWVle64YMGYKqqqoeryXkA1WtVmP06NFYv369Z53L5cL69ethMBgkrCz4CCFQWFiIjz/+GBs2bED//v2lLilo3Xzzzdi1axd27tzpWXJycjBlyhTs3LkTCoVC6hKDxtVXX33e9L0DBw4gIyOjx2vpFUP+oqIiTJ06FTk5ORg7dixeeOEFNDU14f7775e6tKBSUFCA999/H5988gmio6M9x6B1Oh3Cw8Mlri64REdHn3fsOTIyEvHx8Twm7aOZM2fiqquuwtNPP43/+Z//wTfffIPXX38dr7/+es8XI/U0g57y0ksvifT0dKFWq8XYsWPF1q1bpS4p6ADocFmyZInUpYUETpvqvFWrVomhQ4cKjUYjMjMzxeuvvy5JHbx9HxGRn4T8MVQiop7CQCUi8hMGKhGRnzBQiYj8hIFKROQnDFQiIj9hoBIR+QkDlYjITxioRER+wkAlIvITBioRkZ8wUImI/OT/A3ysJbC7FGBcAAAAAElFTkSuQmCC",
      "text/plain": [
       "<Figure size 350x350 with 1 Axes>"
      ]
     },
     "metadata": {},
     "output_type": "display_data"
    }
   ],
   "source": [
    "# Element-wise functions:\n",
    "Y_1 = np.exp(arr_x)\n",
    "simple_plot(arr_x,Y_1,\"EXP graph\")"
   ]
  },
  {
=======
    "# Element-wise functions: \n",
    "X = np.arange(0, 2*np.pi, 0.2)\n",
    "Y = np.sin(X)\n",
    "simple_plot(X, Y, \"sin(X)\")\n",
    "\n",
    "Y_1  = np.exp(X)\n",
    "simple_plot(X, Y_1, \"exp(X)\")\n"
   ]
  },
  {
>>>>>>> 95239bcaaad35ab96f4cecf3e761153bd069c86f
   "attachments": {},
   "cell_type": "markdown",
   "id": "abc97f70",
   "metadata": {},
   "source": [
    "### 1.3.2 Reduce functions\n",
    "These are applied along the selected axis, consume all the elements and reduce the axis down to 1 element. If no axis is specified, the function is applied to the whole array, and reduces it to a scalar"
   ]
  },
  {
   "cell_type": "code",
<<<<<<< HEAD
   "execution_count": 402,
=======
   "execution_count": 127,
>>>>>>> 95239bcaaad35ab96f4cecf3e761153bd069c86f
   "id": "5d79e457",
   "metadata": {},
   "outputs": [
    {
     "name": "stdout",
     "output_type": "stream",
     "text": [
<<<<<<< HEAD
      "Original array:\n",
      " [[ 0  1  2  3]\n",
=======
      "[[ 0  1  2  3]\n",
>>>>>>> 95239bcaaad35ab96f4cecf3e761153bd069c86f
      " [ 4  5  6  7]\n",
      " [ 8  9 10 11]\n",
      " [12 13 14 15]\n",
      " [16 17 18 19]\n",
      " [20 21 22 23]\n",
      " [24 25 26 27]\n",
      " [28 29 30 31]]\n",
<<<<<<< HEAD
      "----------------------------------------------------------------\n",
      "\n",
      "Maximum value in the array is  31\n",
      "[[14. 15. 16. 17.]]\n"
=======
      "-----------\n",
      "max: 31\n",
      "[[ 1.5]\n",
      " [ 5.5]\n",
      " [ 9.5]\n",
      " [13.5]\n",
      " [17.5]\n",
      " [21.5]\n",
      " [25.5]\n",
      " [29.5]]\n"
>>>>>>> 95239bcaaad35ab96f4cecf3e761153bd069c86f
     ]
    }
   ],
   "source": [
    "# Max, mean minimun functions:\n",
<<<<<<< HEAD
    "F = np.arange(32).reshape(8,4)\n",
    "print(\"Original array:\\n\", F)\n",
    "print(32*\"--\")\n",
    "V = F.max()\n",
    "print(\"\\nMaximum value in the array is \", V)\n",
    "V_2 = np.mean(F, axis= 0, keepdims= True)   # average of every column\n",
    "#V_2 = np.mean(F, axis= 1, keepdims= True)  # average of every rows\n",
    "#V_2 = np.mean(F, axis= 1, keepdims= False) # same value but flattened\n",
    "print(V_2)"
=======
    "A = np.arange(32).reshape(8, 4)\n",
    "print(A)\n",
    "print(\"-----------\")\n",
    "I = A.max()\n",
    "print(f\"max: {I}\")\n",
    "\n",
    "I_2 = np.mean(A, axis=1, keepdims=True)\n",
    "print(I_2)"
>>>>>>> 95239bcaaad35ab96f4cecf3e761153bd069c86f
   ]
  },
  {
   "attachments": {},
   "cell_type": "markdown",
   "id": "c796c03c",
   "metadata": {},
   "source": [
    "### 1.3.3 Exercises\n"
   ]
  },
  {
   "cell_type": "code",
<<<<<<< HEAD
   "execution_count": 403,
=======
   "execution_count": 128,
>>>>>>> 95239bcaaad35ab96f4cecf3e761153bd069c86f
   "id": "bfef5c5f",
   "metadata": {},
   "outputs": [
    {
<<<<<<< HEAD
     "name": "stderr",
     "output_type": "stream",
     "text": [
      "/tmp/ipykernel_122801/3272697989.py:6: RuntimeWarning: invalid value encountered in log2\n",
      "  Ys = np.log2(Xs)\n"
     ]
    },
    {
     "data": {
      "image/png": "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",
      "text/plain": [
       "<Figure size 350x350 with 1 Axes>"
      ]
     },
     "metadata": {},
     "output_type": "display_data"
=======
     "name": "stdout",
     "output_type": "stream",
     "text": [
      "[-0.99999303 -0.99999148 -0.9999896  -0.99998729 -0.99998448 -0.99998104\n",
      " -0.99997684 -0.99997172 -0.99996545 -0.99995781 -0.99994846 -0.99993706\n",
      " -0.99992312 -0.9999061  -0.99988531 -0.99985992 -0.99982891 -0.99979103\n",
      " -0.99974477 -0.99968827 -0.99961927 -0.99953499 -0.99943207 -0.99930637\n",
      " -0.99915286 -0.9989654  -0.99873648 -0.99845695 -0.99811564 -0.99769892\n",
      " -0.99719016 -0.99656913 -0.99581111 -0.99488605 -0.99375734 -0.99238047\n",
      " -0.99070133 -0.98865425 -0.98615966 -0.98312123 -0.97942267 -0.97492392\n",
      " -0.96945679 -0.96282015 -0.95477457 -0.94503671 -0.93327368 -0.91909789\n",
      " -0.90206306 -0.88166254 -0.85733128 -0.82845337 -0.79437734 -0.75444149\n",
      " -0.70801148 -0.65453119 -0.59358628 -0.52497672 -0.44879099 -0.36547052\n",
      " -0.27585058 -0.1811634  -0.08299396  0.01681311  0.11628624  0.21348\n",
      "  0.30662392  0.39424359  0.47523785  0.54890634  0.61493237  0.67333244\n",
      "  0.72438705  0.76856596  0.80645811  0.83871205  0.8659896   0.88893254\n",
      "  0.90814095  0.92416076  0.93747833  0.94851987  0.95765405  0.96519649\n",
      "  0.97141513  0.9765359   0.98074828  0.98421047  0.9870541   0.98938834\n",
      "  0.99130355  0.99287433  0.99416222  0.9952179   0.99608305  0.99679194\n",
      "  0.9973727   0.99784843  0.9982381   0.99855725  0.99881862  0.99903267\n",
      "  0.99920794  0.99935147  0.999469    0.99956523  0.99964403  0.99970855\n",
      "  0.99976137  0.99980462  0.99984004  0.99986903  0.99989277  0.99991221\n",
      "  0.99992812  0.99994115  0.99995182  0.99996055  0.9999677   0.99997356\n",
      "  0.99997835  0.99998227  0.99998549  0.99998812  0.99999027  0.99999204]\n"
     ]
>>>>>>> 95239bcaaad35ab96f4cecf3e761153bd069c86f
    }
   ],
   "source": [
    "# Have a look at the trigonometric functions listed in the official numpy documentation: \n",
    "# https://numpy.org/doc/stable/reference/routines.math.html\n",
    "# Pick any element-wise function that takes 1 numpy array as an argument and apply it to the following\n",
    "# array. store the result in a variable called Ys\n",
    "Xs = np.arange(-2*np.pi, 2*np.pi, 0.1)\n",
<<<<<<< HEAD
    "Ys = np.log2(Xs)\n",
    "simple_plot(Xs,Ys,\"log2 graph\")"
=======
    "Ys = np.tanh(Xs)\n",
    "print(Ys)"
>>>>>>> 95239bcaaad35ab96f4cecf3e761153bd069c86f
   ]
  },
  {
   "cell_type": "code",
<<<<<<< HEAD
   "execution_count": 404,
   "id": "5cd2775d",
   "metadata": {},
   "outputs": [
    {
     "data": {
      "image/png": "iVBORw0KGgoAAAANSUhEUgAAAVQAAAFUCAYAAAB7ksS1AAAAOXRFWHRTb2Z0d2FyZQBNYXRwbG90bGliIHZlcnNpb24zLjguMSwgaHR0cHM6Ly9tYXRwbG90bGliLm9yZy/SrBM8AAAACXBIWXMAAA9hAAAPYQGoP6dpAAA2n0lEQVR4nO3deXhTZd4+8Dvd0jVJl3Sle6FlpywtrUhRKgXcUF8GBi9pFXEA8VVhVOrrBYLvTB1B0RcZ/bnQusC4DQq44CCyCK3sRXbovtB9SbovyfP7oxCp3SFpkvb+XNe5NCfPSb4njbfnPOfJcyRCCAEiIrplFsYugIhooGCgEhHpCQOViEhPGKhERHrCQCUi0hMGKhGRnjBQiYj0hIFKRKQnDFQiIj1hoBKZoZycHEgkEmzYsMHYpdANGKhk0lJTU/Hyyy+jurra2KUQ9YiBSiYtNTUVa9euZaCSWWCgkkHV1dUZuwSjGuz7P9gwUKlHubm5WLZsGUJDQ2FnZwdXV1fMnTsXOTk57dqlpKRAIpHgwIEDWLZsGdzd3TFkyBDd8z/88ANiYmLg5OQEmUyGSZMmYdu2bV2+78svv4znnnsOABAYGAiJRAKJRKJ73+TkZNx5551wd3eHVCrFiBEj8M4773R4nYCAANxzzz04dOgQIiIiYGtri6CgIHz88ce92v+Kigo88sgjkMlkUCgUiI+Px+nTpyGRSJCSkqJrl5CQAEdHR2RmZmL27NlwcnLCww8/DAD45ZdfMHfuXPj5+UEqlcLX1xfPPvssGhoa2r3X9dfIyspCXFwcHBwc4O3tjXXr1qGrieHee+89BAcHQyqVYtKkSTh27Fiv9ov0z8rYBZDpO3bsGFJTUzF//nwMGTIEOTk5eOeddzBt2jScP38e9vb27dovW7YMSqUSq1ev1h2hpaSk4LHHHsPIkSORmJgIhUKBU6dOYffu3ViwYEGn7/vggw/i8uXL+Ne//oWNGzfCzc0NAKBUKgEA77zzDkaOHIn77rsPVlZW2LVrF5YtWwatVosnn3yy3WtlZGTgv/7rv7Bo0SLEx8djy5YtSEhIwIQJEzBy5Mgu912r1eLee+/F0aNHsXTpUoSFhWHHjh2Ij4/vtH1rayvi4uIwZcoUbNiwQffZfPnll6ivr8fSpUvh6uqKo0ePYtOmTSgoKMCXX37Z7jU0Gg1mzpyJyZMn47XXXsPu3buxZs0atLa2Yt26de3abtu2DTU1NfjLX/4CiUSC1157DQ8++CCysrJgbW3d5X6RgQiiHtTX13dYl5aWJgCIjz/+WLcuOTlZABBTpkwRra2tuvXV1dXCyclJREZGioaGhnavo9Vqu33v9evXCwAiOzu7V3XFxcWJoKCgduv8/f0FAHHw4EHdutLSUiGVSsXKlSu7ff9///vfAoB48803des0Go248847BQCRnJysWx8fHy8AiFWrVvWq1qSkJCGRSERubm6H13jqqad067Rarbj77ruFjY2NKCsrE0IIkZ2dLQAIV1dXUVlZqWu7Y8cOAUDs2rWr2/0iw+ApP/XIzs5O9+8tLS2oqKhASEgIFAoFTp482aH94sWLYWlpqXu8Z88e1NTUYNWqVbC1tW3XViKR6KUulUqF8vJyxMTEICsrCyqVql3bESNG4Pbbb9c9ViqVCA0NRVZWVrfvsXv3blhbW2Px4sW6dRYWFh2OgG+0dOnSbmutq6tDeXk5oqOjIYTAqVOnOrRfvny57t8lEgmWL1+O5uZm/PTTT+3azZs3D87OzrrH1/exp/0iw2CgUo8aGhqwevVq+Pr6QiqVws3NDUqlEtXV1R2CC2jr77xRZmYmAGDUqFF6revw4cOIjY2Fg4MDFAoFlEolXnzxRQDoUJefn1+H7Z2dnVFVVdXte+Tm5sLLy6tDt0ZISEin7a2srNr1G1+Xl5eHhIQEuLi4wNHREUqlEjExMZ3WamFhgaCgoHbrhg0bBgAd+q3/uF/Xw7Wn/SLDYB8q9eipp55CcnIynnnmGURFRUEul0MikWD+/PnQarUd2t94NGYomZmZmD59OsLCwvDGG2/A19cXNjY2+P7777Fx48YOdd14xHwjoec7AEmlUlhYtD9O0Wg0uOuuu1BZWYkXXngBYWFhcHBwQGFhIRISEjr9DHurv/aLeoeBSj366quvEB8fj9dff123rrGxsddjQ4ODgwEAZ8+e7fLIritddQns2rULTU1N2LlzZ7ujtH379vXp9Xvi7++Pffv2ob6+vt1RakZGRq9f48yZM7h8+TI++ugjLFy4ULd+z549nbbXarXIysrSHZUCwOXLlwG0jVgg08VTfuqRpaVlhyOeTZs2QaPR9Gr7GTNmwMnJCUlJSWhsbGz3XE9HUg4ODgDQIbyvH5nduL1KpUJycnKvauqtuLg4tLS04P3339et02q12Lx5c69fo7NahRB46623utzm7bffbtf27bffhrW1NaZPn96X8qmf8QiVenTPPffgk08+gVwux4gRI5CWloaffvoJrq6uvdpeJpNh48aNePzxxzFp0iQsWLAAzs7OOH36NOrr6/HRRx91ue2ECRMAAP/zP/+D+fPnw9raGvfeey9mzJgBGxsb3HvvvfjLX/6C2tpavP/++3B3d0dRUZFe9hsA5syZg4iICKxcuRIZGRkICwvDzp07UVlZCaB3F9XCwsIQHByMv/71rygsLIRMJsO///3vLvs5bW1tsXv3bsTHxyMyMhI//PADvvvuO7z44ou6IWNkoow2voDMRlVVlXj00UeFm5ubcHR0FHFxceLixYvC399fxMfH69pdHzZ17NixTl9n586dIjo6WtjZ2QmZTCYiIiLEv/71rx7f/5VXXhE+Pj7CwsKi3RCqnTt3ijFjxghbW1sREBAg/vGPf4gtW7Z0GGbl7+8v7r777g6vGxMTI2JiYnp8/7KyMrFgwQLh5OQk5HK5SEhIEIcPHxYAxGeffaZrFx8fLxwcHDp9jfPnz4vY2Fjh6Ogo3NzcxOLFi8Xp06c7HXrl4OAgMjMzxYwZM4S9vb3w8PAQa9asERqNRtfu+rCp9evXd3gvAGLNmjU97hfpn0QI9l4T9dU333yDBx54AIcOHcJtt92mt9dNSEjAV199hdraWr29JvUf9qES9eCPPw/VaDTYtGkTZDIZxo8fb6SqyBSxD5WoB0899RQaGhoQFRWFpqYmbN++Hampqfj73//eL0PEyHwwUIl6cOedd+L111/Ht99+i8bGRoSEhGDTpk3tfs1EBADsQyUi0hP2oRIR6QkDlYhITwZcH6pWq8XVq1fh5OR0SzMZEREBbb9Uq6mpgbe3d4d5GjprbDAHDhwQ99xzj/Dy8hIAxNdff91t+3379gkAHZaioqJev2d+fn6nr8GFCxcut7Lk5+f3mD8GPUKtq6vD2LFj8dhjj+HBBx/s9XaXLl2CTCbTPXZ3d+/1tk5OTgCA/Pz8dq9BRHQz1Go1fH19ddnSHYMG6qxZszBr1qw+b+fu7g6FQnFT73n9NF8mkzFQiUhvetOFaJIXpcaNGwcvLy/cddddOHz4sLHLISLqFZO6KOXl5YV3330XEydORFNTEz744ANMmzYNR44c6fInfk1NTWhqatI9VqvV/VUuEVE7JhWooaGhCA0N1T2Ojo5GZmYmNm7ciE8++aTTbZKSkrB27dr+KpGIqEsmecp/o4iIiG5nR09MTIRKpdIt+fn5/VgdEdHvTOoItTPp6enw8vLq8nmpVAqpVNqPFRERdc6ggVpbW9vu6DI7Oxvp6elwcXGBn58fEhMTUVhYiI8//hgA8OabbyIwMBAjR45EY2MjPvjgA/z888/4z3/+Y8gyiYj0wqCBevz4cdxxxx26xytWrAAAxMfHIyUlBUVFRcjLy9M939zcjJUrV6KwsBD29vYYM2YMfvrpp3avQURkqgbcbFNqtRpyuRwqlYrjUInolvUlU0y+D5WISB9qm1pRVN2Aq6pGBLk5wNfFvueN+oiBSkRmTwiByrpmFFQ1IL+qHoVVDSisbtD982p1A9SNrbr2L909HI/fHqT3OhioRGQWtFqBYnUjcsrrkFNRj9yKOuRU1CGvsgH5lfWobWrt8TWcbK3gLbeDvY1hoo+BSkQmpbFFg8yyWmSU1iKztBaZZXXILKtFTkUdGlu03W7rIZPCR2EHXxd7+Cjs4ONs1/ZPhR28FHZwlBo28hioRGQUGq1ATkUdLhbV4GKxGheLa3ClpAa5lfXo6lK5lYUEfi72CHBzaPunqz38XR3g59oWoLbWlv27E3+sz6jvTkSDQotGi8slNThbqMKZQhXOXVXjYlENGlo0nbZX2FsjROmIEHdHBCsdEezugCA3RwxxtoOVpen+wJOBSkR6JYTAVVUjTuZW4VReNdLzq3DuqhpNrR1P122tLRDq4YQwTxlCPZ0Q5umEoR5OcHO0Mcs7bjBQieiWaLUCl0trcDS7EkezK3E8pwrF6sYO7ZxsrTDaR45RPnKM9JZhpLccgW4OsLQwv+DsCgOViPpECIHcinr8klGO1Ixy/JpVgar6lnZtLC0kGOElw3g/Bcb5KTB2iAIBrg6wGEDh2RkGKhH1qKFZg9TMcuy7VIoDl8uQX9nQ7nk7a0tMDHDGpAAXTAxwxjhfhcGGJpmywbfHRNQr5bVN2HO+BHvOl+BwRnm7PlBrSwnG+znjthA33BbiitE+CthYme7Fov7CQCUinfLaJvxwpgjf/laEYzmV0N4wfMlHYYc7w9wRM0yJqGBXOBh4TKc54idCNMg1NGvwn/PF2H6yEIcyyqG5IUVH+8gRN9IDd43wxDAPR7O88t6fGKhEg5AQAr8VqPDZsXx8e/oqam742ebYIXLcM8Ybs0Z7Yoiz/icQGcgYqESDSGOLBjtPX8XHaTk4W/j7DS19XezwYPgQzAn3QaCbgxErNG8MVKJBoKymCZ+k5eCTX3N1Q5xsrCwwe5Qn5k3yQ2Sgy4Af0tQfGKhEA1h+ZT3eO5iFz4/no/naVXofhR0eifLHnyb6wsXBxsgVDiwMVKIBqKCqHpv3ZeDL4wVovXaRaZyvAk9MDcKMER4m/Xt4c8ZAJRpAquqa8fa+DHySlotmTdsR6ZQQNzx5RwgmB7nwKr2BMVCJBoAWjRafpOXizZ8u62amnxzkgpUzQjEpwMXI1Q0eDFQiM/drVgVe+uYsMkprAQDDvWRYNSsMU4e68Yi0nzFQicyUqr4Fr3x3Hl+dKAAAuDrY4K9xofjTRN8BNYOTOWGgEpmhn86X4MWvz6C0pgkSCbAgwg/Px4VBbm9t7NIGNQYqkRlpaNbgle/OY9uRPABAkNIB6/9rDCb4s5/UFDBQiczElZIaLN16UtdX+viUQPw1LtTo91Gi3zFQiczAjvRCJG4/g/pmDdydpHjjT+MwZaibscuiP2CgEpkwrVbgtR8v4d0DmQCA20Jc8db8cLg5So1cGXWGgUpkohqaNfjvz05hz/kSAMDSacH464xQXsE3YQxUIhNUVdeMxz46hlN51bCxssBrD43BnHAfY5dFPWCgEpmYYlUjHv7gV2SW1UFuZ40P4ydiIn/tZBYYqEQmpLC6AQve/xW5FfXwktvi48ciMNTDydhlUS8xUIlMRJGqAfPfS0N+ZQN8Xeyw7fHJ8HXhjPnmhIFKZALKa5vw8AdHkF/ZAH9Xe/xr8WR4K+yMXRb1ESdFJDKymsYWxG85iqyyOnjLbbGNYWq2DBqoBw8exL333gtvb29IJBJ88803PW6zf/9+jB8/HlKpFCEhIUhJSTFkiURG1arRYvm2Uzh3VQ1XBxt8+ngkfBimZsuggVpXV4exY8di8+bNvWqfnZ2Nu+++G3fccQfS09PxzDPP4PHHH8ePP/5oyDKJjEIIgTU7z+HA5TLYWltgS8IkBCkdjV0W3QKD9qHOmjULs2bN6nX7d999F4GBgXj99dcBAMOHD8ehQ4ewceNGxMXFGapMIqPYeiQPW4/kQSIB3pofjrG+CmOXRLfIpPpQ09LSEBsb225dXFwc0tLSutymqakJarW63UJk6k7kVmHtrnMAgOfjwhA30tPIFZE+mFSgFhcXw8PDo906Dw8PqNVqNDQ0dLpNUlIS5HK5bvH19e2PUoluWkVtE5ZtPYEWjcCsUZ5YEhNk7JJIT0wqUG9GYmIiVCqVbsnPzzd2SURdEkLg+a9+Q4m6CcFKB6yfO5a3KRlATGocqqenJ0pKStqtKykpgUwmg51d51c+pVIppFLOvEPm4ZNfc7H3YilsrCzw9oLxcJSa1H+CdItM6gg1KioKe/fubbduz549iIqKMlJFRPqTUVqD//3uAgAgcVYYhnvJjFwR6ZtBA7W2thbp6elIT08H0DYsKj09HXl5bbdvSExMxMKFC3XtlyxZgqysLDz//PO4ePEi/vnPf+KLL77As88+a8gyiQxOo2071W9u1WLqMCUSogOMXRIZgEED9fjx4wgPD0d4eDgAYMWKFQgPD8fq1asBAEVFRbpwBYDAwEB899132LNnD8aOHYvXX38dH3zwAYdMkdn7KDUHJ/Oq4Si1wqsPjma/6QAlEUIIYxehT2q1GnK5HCqVCjIZT6nI+Aqq6nHXGwfR0KLB3x4YhYcj/Y1dEvVBXzLFpPpQiQaiV749j4YWDSIDXfDnSX7GLocMiIFKZEAHLpfhx3MlsLSQ4JU5o2DB25cMaAxUIgNpbtVi7c62X0MlRAdgGCeKHvAYqEQGsu1ILrLK6+DmaIOnY4cauxzqBwxUIgOobWrFpp8zAADP3jUMMltrI1dE/YGBSmQA7x/MQkVdM4LcHPCniZxfYrBgoBLpWXltE97/JQsA8FxcKKwt+Z/ZYMG/NJGevf9LFuqbNRg7RI6Zozgt32DCQCXSo6q6ZnySlgsAeDp2KH8RNcgwUIn0aMvhbNQ3azDSW4Y7Qt2NXQ71MwYqkZ6oGlqQcjgHAPDUnSE8Oh2EGKhEevLZ0TzUNLViqLsjZoxg3+lgxEAl0oNWjRYfpeYAABbfHsSfmA5SDFQiPfjhbDGuqhrh6mCD+8Z5G7scMhIGKpEebDmcDQB4eLI/bK0tjVwNGQsDlegWpedX41ReNWwsLfDIZM51OpgxUIlu0bYjbeNO7xnjBaUTbxg5mDFQiW6BurEFu04XAQAWRHLy6MGOgUp0C3acKkRDiwZD3R0xwd/Z2OWQkTFQiW6SEAJbj7TdZPLPEX4cyE8MVKKbdbpAhYvFNZBaWeDB8T7GLodMAAOV6CZtP1kAAJg5yhMKexsjV0OmgIFKdBNaNFrsOn0VAPBAOI9OqQ0DlegmHLhUhqr6Frg5SjElxM3Y5ZCJYKAS3YSvTxUCAO4b6w0rzshP1/CbQNRHqoYW7LlQAgC8GEXtMFCJ+ug/54rR3KpFiLsjRnrLjF0OmRAGKlEf/XC2GEDbT0059pRuxEAl6gN1Ywt+uVIGAJg92svI1ZCpYaAS9cHeCyVo0QiEuDtimIeTscshE8NAJeqD735rO92fzdtDUycYqES9VNPYgoPXT/fH8HSfOmKgEvXS/ktlaG7VIsjNAaE83adO9Eugbt68GQEBAbC1tUVkZCSOHj3aZduUlBRIJJJ2i62tbX+USdStn66NPb1rhAev7lOnDB6on3/+OVasWIE1a9bg5MmTGDt2LOLi4lBaWtrlNjKZDEVFRbolNzfX0GUSdatVo8X+S22n+9OHexi5GjJVBg/UN954A4sXL8ajjz6KESNG4N1334W9vT22bNnS5TYSiQSenp66xcODX2AyruO5VVA1tMDZ3hrj/RTGLodMlEEDtbm5GSdOnEBsbOzvb2hhgdjYWKSlpXW5XW1tLfz9/eHr64v7778f586d67JtU1MT1Gp1u4VI3/ZeO92/I9Sdv92nLhn0m1FeXg6NRtPhCNPDwwPFxcWdbhMaGootW7Zgx44d+PTTT6HVahEdHY2CgoJO2yclJUEul+sWX19fve8H0d4LbV1UPN2n7pjc/2qjoqKwcOFCjBs3DjExMdi+fTuUSiX+3//7f522T0xMhEql0i35+fn9XDENdJlltcgqr4O1pQRTh3GqPuqalSFf3M3NDZaWligpKWm3vqSkBJ6evRsYbW1tjfDwcGRkZHT6vFQqhVTKW/eS4Vy/GBUR6AInW2sjV0OmzKBHqDY2NpgwYQL27t2rW6fVarF3715ERUX16jU0Gg3OnDkDLy8OpCbjOHi5LVBjhimNXAmZOoMeoQLAihUrEB8fj4kTJyIiIgJvvvkm6urq8OijjwIAFi5cCB8fHyQlJQEA1q1bh8mTJyMkJATV1dVYv349cnNz8fjjjxu6VKIOGls0OJJdAQCYykClHhg8UOfNm4eysjKsXr0axcXFGDduHHbv3q27UJWXlwcLi98PlKuqqrB48WIUFxfD2dkZEyZMQGpqKkaMGGHoUok6OJZTicYWLTxkUv46inokEUIIYxehT2q1GnK5HCqVCjIZJ/+lW/O3787j/V+yMXfCEKyfO9bY5ZAR9CVTTO4qP5EpOXi5HABP96l3GKhEXShWNeJSSQ0kEvDOptQrDFSiLhzKaDs6HTNEAWcHGyNXQ+aAgUrUhdRrgTolxNXIlZC5YKASdUIIgdTMtuFS0cE83afeYaASdSK7vA7F6kbYWFlggr+zscshM8FAJerE4WtHpxP8nGFrbWnkashcMFCJOpGW2dZ/Gh3M/lPqPQYq0R9otQJp1/tPeUGK+oCBSvQHF4trUFXfAgcbS4wZojB2OWRGGKhEf5CW1XZ0OinQBdacnZ/6gN8Woj84em12qchAnu5T3zBQiW6g1Qocza4EAEQGuRi5GjI3DFSiG1wprUVVfQvsrC0x2kdu7HLIzDBQiW5w/XR/gr8z+0+pz/iNIbrBr9dP9wN5uk99x0AlukYIgSNZbYEawUClm8BAJbomu7wO5bVNsLGywFhfhbHLITPEQCW65vrV/XG+Cv5+n24KA5XommM5VQDYf0o3j4FKdM3x3LYj1IkBDFS6OQxUIgCl6kbkVtTDQgKM91MYuxwyUwxUIgDHc9tO98M8ZXCytTZyNWSuGKhE+P2C1KQAzs5PN4+BSgT2n5J+MFBp0KttasX5q2oAwEQeodItYKDSoHcqrwpaAQxxtoOX3M7Y5ZAZY6DSoHf82vjTiby7Kd0iBioNeieuXeGfwP5TukUMVBrUWjVanMq7Fqh+PEKlW8NApUHtUkkN6po1cJJaIdTTydjlkJljoNKgdv10f5yfApYWEiNXQ+aOgUqD2u8XpNh/SreuXwJ18+bNCAgIgK2tLSIjI3H06NFu23/55ZcICwuDra0tRo8eje+//74/yqRBSHdBilf4SQ8MHqiff/45VqxYgTVr1uDkyZMYO3Ys4uLiUFpa2mn71NRU/PnPf8aiRYtw6tQpzJkzB3PmzMHZs2cNXSoNMkWqBhRWN8BC0nbKT3SrJEIIYcg3iIyMxKRJk/D2228DALRaLXx9ffHUU09h1apVHdrPmzcPdXV1+Pbbb3XrJk+ejHHjxuHdd9/t8f3UajXkcjlUKhVkMpn+doQGnG9/u4rl205hhJcM3z99u7HLIRPVl0wx6BFqc3MzTpw4gdjY2N/f0MICsbGxSEtL63SbtLS0du0BIC4ursv2TU1NUKvV7Rai3rh+us+fm5K+GDRQy8vLodFo4OHh0W69h4cHiouLO92muLi4T+2TkpIgl8t1i6+vr36KpwGP/aekb2Z/lT8xMREqlUq35OfnG7skMgP1za04d21CFAYq6YuVIV/czc0NlpaWKCkpabe+pKQEnp6enW7j6enZp/ZSqRRSqVQ/BdOgcTpfBY1WwFNmCx8FJ0Qh/TDoEaqNjQ0mTJiAvXv36tZptVrs3bsXUVFRnW4TFRXVrj0A7Nmzp8v2RDfjZN7vp/sSCQf0k34Y9AgVAFasWIH4+HhMnDgRERERePPNN1FXV4dHH30UALBw4UL4+PggKSkJAPD0008jJiYGr7/+Ou6++2589tlnOH78ON577z1Dl0qDyPGctgmlebpP+mTwQJ03bx7KysqwevVqFBcXY9y4cdi9e7fuwlNeXh4sLH4/UI6Ojsa2bdvw0ksv4cUXX8TQoUPxzTffYNSoUYYulQYJrVbgZF41AF7hJ/0y+DjU/sZxqNSTKyU1uGvjQdhZW+K3l2fA2tLsr82SAZnMOFQiU3T9DqdjhsgZpqRX/DbRoHN9QpRJnFCa9IyBSoPO9TucTmD/KekZA5UGldKaRuRW1EMiAcZzhn7SMwYqDSonrp3uh3o4QW5nbeRqaKBhoNKgcpwTopABMVBpULk+oJ8XpMgQGKg0aHBCFDI0BioNGun51WjVCnjJOSEKGQYDlQaN6+NPOSEKGQoDlQaNo9lt/aeRgew/JcNgoNKg0KLR6mbojwh0NXI1NFAxUGlQOHdVjYYWDeR21hjq7mjscmiAYqDSoHA0uwJA23ApCwv2n5JhMFBpUDiaff10n8OlyHAYqDTgabUCx64N6Gf/KRkSA5UGvCultVA1tMDO2hIjvTnpOBkOA5UGvCPX+k/H+ys4oTQZFL9dNOClZbYF6mSe7pOBMVBpQNNqBX7NagvUqGAGKhkWA5UGtEslNaiqb+s/HTNEYexyaIBjoNKAdv10f2KAM2ys+HUnw+I3jAY0nu5Tf2Kg0oCl1QocuTYhSlQQA5UMj4FKA9b5IjVUDS1wlFphtI/c2OXQIMBApQHrev/ppABnWHH8KfUDfstowDp4pQwAcFuIm5ErocGCgUoDUmOLRjeh9NRhSiNXQ4MFA5UGpBO5VWhq1cJDJuX8p9RvGKg0IF0/3Z8SouT9o6jfMFBpQDp0pRwAcPtQ9p9S/2Gg0oBTXtuEc1fVAHhBivoXA5UGnMMZbUenw71kUDpJjVwNDSYGDdTKyko8/PDDkMlkUCgUWLRoEWpra7vdZtq0aZBIJO2WJUuWGLJMGmD2X2rrP506jEen1L+sDPniDz/8MIqKirBnzx60tLTg0UcfxRNPPIFt27Z1u93ixYuxbt063WN7e3tDlkkDiEYrsP9SKQDgzlB3I1dDg43BAvXChQvYvXs3jh07hokTJwIANm3ahNmzZ2PDhg3w9vbuclt7e3t4enoaqjQawNLzq1FV3wKZrRUm+POGfNS/DHbKn5aWBoVCoQtTAIiNjYWFhQWOHDnS7bZbt26Fm5sbRo0ahcTERNTX13fZtqmpCWq1ut1Cg9e+i21Hp1OHKflzU+p3BjtCLS4uhrt7+1MuKysruLi4oLi4uMvtFixYAH9/f3h7e+O3337DCy+8gEuXLmH79u2dtk9KSsLatWv1WjuZr5+vBeqdYTzdp/7X50BdtWoV/vGPf3Tb5sKFCzdd0BNPPKH799GjR8PLywvTp09HZmYmgoODO7RPTEzEihUrdI/VajV8fX1v+v3JfBWrGnG+SA2JBIjhz03JCPocqCtXrkRCQkK3bYKCguDp6YnS0tJ261tbW1FZWdmn/tHIyEgAQEZGRqeBKpVKIZVyaAz9fnQ6zlcBV0d+J6j/9TlQlUollMqe/+8fFRWF6upqnDhxAhMmTAAA/Pzzz9BqtbqQ7I309HQAgJeXV19LpUHmx3NtXUmxwz2MXAkNVgbrtR8+fDhmzpyJxYsX4+jRozh8+DCWL1+O+fPn667wFxYWIiwsDEePHgUAZGZm4pVXXsGJEyeQk5ODnTt3YuHChZg6dSrGjBljqFJpAFA3tiA1s21A/8xRHCFCxmHQy6Bbt25FWFgYpk+fjtmzZ2PKlCl47733dM+3tLTg0qVLuqv4NjY2+OmnnzBjxgyEhYVh5cqVeOihh7Br1y5DlkkDwL6LpWjRCAx1d0SwkrNLkXEYdGC/i4tLt4P4AwICIITQPfb19cWBAwcMWRINULvPtp3u8+iUjIkD9cjsNTRrdD83jRvJQCXjYaCS2Tt4pQwNLRoMcbbDSG+ZscuhQYyBSmZv1+mrAICZIz05mTQZFQOVzFptUyt+ulACALh/nI+Rq6HBjoFKZm3P+WI0tmgR6OaAUT483SfjYqCSWduR3na6f99Yb57uk9ExUMlsVdQ24Zdr9466b1zX00ES9RcGKpmt784UQaMVGOUj42B+MgkMVDJbXxzPBwA8ED7EyJUQtWGgklk6d1WFs4VqWFtK8EA4r+6TaWCgkln64ljb0emMEZ5wcbAxcjVEbRioZHYaWzT45trV/T9N4mTiZDoYqGR2fjxXDFVDC7zltpgSwltFk+lgoJLZ+TgtF0Db0amlBceekulgoJJZOVuowoncKlhZSLAgws/Y5RC1w0Als5KSmgMAmD3aC+4yW+MWQ/QHDFQyGxW1Tdh5bWap+OgA4xZD1AkGKpmNbUfy0NyqxWgfOcb7KYxdDlEHDFQyCw3NGiRfO91fNCWQE6GQSWKgkln4/FgeKuua4etih3vG8JbiZJoYqGTyWjRavP9LNgDgianBsLLk15ZME7+ZZPK+OVWIwuoGuDlKMXcCJ0Ih08VAJZPW3KrF//18BQDw+O2BsLW2NHJFRF1joJJJ+/x4PvIrG6B0kmJhlL+xyyHqFgOVTFZjiwab9rYdnS6/IwT2NlZGroioewxUMlkpqTkorWmCj8IO8yM4qxSZPgYqmaSymia8/XMGAODZu4ZBasW+UzJ9DFQySa//5xJqm1oxZogcD3JGfjITDFQyOWcLVfj82v2i1tw7Ahacoo/MBAOVTIpGK/A/35yFEMB9Y70xwd/F2CUR9RoDlUzKJ2k5OJ1fDSdbK7x093Bjl0PUJwxUMhlXqxuw/sdLAIBVs8I43ymZHQYqmQStVuCFf/+GumYNJvo748+TOBs/mR+DBerf/vY3REdHw97eHgqFolfbCCGwevVqeHl5wc7ODrGxsbhy5YqhSiQT8nFaDn65Ug5bawu8+tAYXogis2SwQG1ubsbcuXOxdOnSXm/z2muv4f/+7//w7rvv4siRI3BwcEBcXBwaGxsNVSaZgIzSGiT9cBEA8OLs4QhxdzRyRUQ3x2C/5Vu7di0AICUlpVfthRB488038dJLL+H+++8HAHz88cfw8PDAN998g/nz5xuqVDKi+uZWLNt6Ek2tWkwdpsQjk/l7fTJfJtOHmp2djeLiYsTGxurWyeVyREZGIi0trcvtmpqaoFar2y1kHoQQeOnrs7hcUgulkxQb5o7hTPxk1kwmUIuLiwEAHh4e7dZ7eHjonutMUlIS5HK5bvH15W++zcXWI3nYfqoQFhJg05/D4e7Eq/pk3voUqKtWrYJEIul2uXjxoqFq7VRiYiJUKpVuyc/P79f3p5uTmlGOl3eeAwA8FxeGyUGuRq6I6Nb1qQ915cqVSEhI6LZNUFDQTRXi6ekJACgpKYGX1+/3DCopKcG4ceO63E4qlUIqld7Ue5JxZJXVYunWk2jVCtw/zhtLYm7uO0NkavoUqEqlEkql0iCFBAYGwtPTE3v37tUFqFqtxpEjR/o0UoBMW6m6EQu3HIWqoQXhfgr84yH2m9LAYbA+1Ly8PKSnpyMvLw8ajQbp6elIT09HbW2trk1YWBi+/vprAIBEIsEzzzyD//3f/8XOnTtx5swZLFy4EN7e3pgzZ46hyqR+pGpowcItR1FQ1QB/V3u898hE3tKEBhSDDZtavXo1PvroI93j8PBwAMC+ffswbdo0AMClS5egUql0bZ5//nnU1dXhiSeeQHV1NaZMmYLdu3fD1pYXK8xdTWMLEpKP4mJxDZROUnzyWCSUTuyqoYFFIoQQxi5Cn9RqNeRyOVQqFWQymbHLIbSF6cItR3EqrxoKe2tse3wyRnjzb0PmoS+Zwpv0kEFV1DYhIfkYzhSqILezxqeLIhmmNGAxUMlgCqsb8MiHR5BVVgcXBxt8/FgERvnIjV0WkcEwUMkgfiuoxqKPjqOspgleclt8siiSv9GnAY+BSnr3w5kiPPtFOhpbtBjm4YjkRyPgo7AzdllEBsdAJb3RaAXW/3gJ7x7IBABMHabE2wvCIbO1NnJlRP2DgUp6UaxqxDOfn8KvWZUAgMenBGLVrDBYWZrMdBFEBsdApVv2n3PFeOHfv6GqvgX2NpZ49aExuG+st7HLIup3DFS6aaqGFqzddQ7bTxYCAEZ6y7Dpz+EIUvLiEw1ODFTqMyEEfjhbjDU7z6GspgkWEuCJqcF49q6hkFrxp6Q0eDFQqU+yy+uwbtc57LtUBgAIcnPA+rljMMHfxciVERkfA5V6RdXQgn/uy0Dy4Rw0a7SwtpRgaUwwlt0RwglOiK5hoFK3Gls0+CQtF5v3Z6C6vgUAMC1UidX3jGBfKdEfMFCpU40tGnx2NA//3J+J0pomAMBQd0e8OHs4poUqOYcpUScYqNSOqqEF247k4cND2SivbQtSH4Udnp4+FA+O9+G4UqJuMFAJAJBTXoeP0nLwxbF81DVrALQF6dJpwZg7cQiv3hP1AgN1EGvVaLHvUhm2HsnFgctluD4zbqiHExZPDcL947xhzSNSol5joA5CGaW1+OpEAbafLND1jwLAHaFKxEcHIGYY+0iJbgYDdZAoVjXi29+uYufpq/it4Pfbzrg42GDuxCFYEOEHf1cHI1ZIZP4YqANYQVU9fjxXgt1ni3A8t0p3Sm9lIUHMMCXmThyCO8M8YGPF03oifWCgDiBarcDpgmrsu1iKPRdKcaFI3e75if7OuHesN+4Z4wVXR94gj0jfGKhmrkjVgENXyvHLlXIcyihHZV2z7jkLCTDR3wUzR3li5ihPeHOSZyKDYqCamRJ1I45kV+LXrAr8mlmBrPK6ds87Sa1w+zA33BHqjunDPeDiYGOkSokGHwaqCdNoBS4V1+BUfhVO5FbheE4V8irr27WxkACjhygwJcQVMcPcEe6n4FAnIiNhoJoIrVYgt7IeZwpVOFuoQnp+Nc4WqlB/bZD9dRYSYIS3DBEBrogKdkVEoAvkdrzFCJEpYKAaQWOLBpdLanCxqAbni9Q4f1WN80Vq1Da1dmjrKLXCOF8Fwv0UmBjggnA/Be/RRGSiGKgGVN/ciqyyOmSU1iKjtBaXS2pwpbQWORV1uiFMN7KxssBwLxnG+Mgxeogc4b4KBCkdYWnBQfZE5oCBeouaW7UoqKpHbkU9ssvrkFNRh+zyOmSV1aGwuqHL7VwcbDDcywlhnjKM9JZhuJcMIe6O7P8kMmMM1B5otQLltU0oqG5AQVUD8ivrkV9Zj7xry9XqBmg7Odq8ztneGiHujghxd8RQdycM83BCqKcT3Bxt+PNOogFm0AdqU6sGWWV1KFY1okjViCJVA65WN+JqdQOuqhpQVN2IZo2229ews7aEv6s9AlwdEODmgCClA4LcHBCkdOSwJaJBZNAHal5FPWa99Uu3bSwkgKfMFkNc7DHE2Q6+zvbwdbGHv6s9/Fzs4e4k5dEmETFQPeW2cLa3hpfcDl5yW3jKbeGtsIO3whbecjt4K+zgKbdl3yYR9WjQB6qTrTVOrZ5h7DKIaADgYRcRkZ4YLFD/9re/ITo6Gvb29lAoFL3aJiEhARKJpN0yc+ZMQ5VIRKRXBjvlb25uxty5cxEVFYUPP/yw19vNnDkTycnJusdSKaeZIyLzYLBAXbt2LQAgJSWlT9tJpVJ4enoaoCIiIsMyuT7U/fv3w93dHaGhoVi6dCkqKiqMXRIRUa+Y1FX+mTNn4sEHH0RgYCAyMzPx4osvYtasWUhLS4OlZee3MW5qakJT0+83mlOr1Z22IyIytD4doa5atarDRaM/LhcvXrzpYubPn4/77rsPo0ePxpw5c/Dtt9/i2LFj2L9/f5fbJCUlQS6X6xZfX9+bfn8iolvRpyPUlStXIiEhods2QUFBt1JPh9dyc3NDRkYGpk+f3mmbxMRErFixQvdYrVYzVInIKPoUqEqlEkql0lC1dFBQUICKigp4eXl12UYqlXIkABGZBIP1oebl5aGyshJ5eXnQaDRIT08HAISEhMDR0REAEBYWhqSkJDzwwAOora3F2rVr8dBDD8HT0xOZmZl4/vnnERISgri4uF6/r7g20Sj7UolIH65niehsEuM/EgYSHx8vAHRY9u3bp2sDQCQnJwshhKivrxczZswQSqVSWFtbC39/f7F48WJRXFzcp/fNz8/v9H25cOHC5VaW/Pz8HvNHci3YBgytVourV6/CycnJ5GaAut6/m5+fD5lMZuxybhr3w/QMlH0xxf0QQqCmpgbe3t6wsOj+Or5JDZvSBwsLCwwZMsTYZXRLJpOZzJflVnA/TM9A2RdT2w+5XN6rdiY3sJ+IyFwxUImI9ISB2o+kUinWrFlj9sO8uB+mZ6Dsi7nvx4C7KEVEZCw8QiUi0hMGKhGRnjBQiYj0hIFKRKQnDFQDCggI6DC94auvvtrtNo2NjXjyySfh6uoKR0dHPPTQQygpKemnijuXk5ODRYsWITAwEHZ2dggODsaaNWvQ3Nzc7XbTpk3rsP9Llizpp6rbbN68GQEBAbC1tUVkZCSOHj3abfsvv/wSYWFhsLW1xejRo/H999/3U6VdS0pKwqRJk+Dk5AR3d3fMmTMHly5d6nablJSUDp+9ra1tP1XcuZdffrlDTWFhYd1uY4p/j2716Yfy1Cf+/v5i3bp1oqioSLfU1tZ2u82SJUuEr6+v2Lt3rzh+/LiYPHmyiI6O7qeKO/fDDz+IhIQE8eOPP4rMzEyxY8cO4e7uLlauXNntdjExMWLx4sXt9l+lUvVT1UJ89tlnwsbGRmzZskWcO3dOLF68WCgUClFSUtJp+8OHDwtLS0vx2muvifPnz4uXXnpJWFtbizNnzvRbzZ2Ji4sTycnJ4uzZsyI9PV3Mnj1b+Pn5dftdSk5OFjKZrN1n39d5MfRtzZo1YuTIke1qKisr67K9qf49usNANSB/f3+xcePGXrevrq4W1tbW4ssvv9Stu3DhggAg0tLSDFDhzXvttddEYGBgt21iYmLE008/3T8FdSIiIkI8+eSTuscajUZ4e3uLpKSkTtv/6U9/EnfffXe7dZGRkeIvf/mLQevsq9LSUgFAHDhwoMs2ycnJQi6X919RvbBmzRoxduzYXrc3l7/HjXjKb2CvvvoqXF1dER4ejvXr16O1tbXLtidOnEBLSwtiY2N168LCwuDn54e0tLT+KLfXVCoVXFxcemy3detWuLm5YdSoUUhMTER9fX0/VNd2190TJ060+ywtLCwQGxvb5WeZlpbWrj0AxMXFmeRnD6DHz7+2thb+/v7w9fXF/fffj3PnzvVHed26cuUKvL29ERQUhIcffhh5eXldtjWXv8eNBtzkKKbkv//7vzF+/Hi4uLggNTUViYmJKCoqwhtvvNFp++LiYtjY2EChULRb7+HhgeLi4n6ouHcyMjKwadMmbNiwodt2CxYsgL+/P7y9vfHbb7/hhRdewKVLl7B9+3aD11heXg6NRgMPD4926z08PLq8TU9xcXGn7U3ps9dqtXjmmWdw2223YdSoUV22Cw0NxZYtWzBmzBioVCps2LAB0dHROHfunNEmD4qMjERKSgpCQ0NRVFSEtWvX4vbbb8fZs2fh5OTUob05/D06MPYhsrl54YUXepw38cKFC51u++GHHworKyvR2NjY6fNbt24VNjY2HdZPmjRJPP/883rdDyFubl8KCgpEcHCwWLRoUZ/fb+/evQKAyMjI0NcudKmwsFAAEKmpqe3WP/fccyIiIqLTbaytrcW2bdvardu8ebNwd3c3WJ19tWTJEuHv79+ruTlv1NzcLIKDg8VLL71koMr6rqqqSshkMvHBBx90+rw5/D3+iEeofXQr99WKjIxEa2srcnJyEBoa2uF5T09PNDc3o7q6ut1RaklJCTw9PW+l7E71dV+uXr2KO+64A9HR0Xjvvff6/H6RkZEA2o5wg4OD+7x9X7i5ucHS0rLDCInuPktPT88+te9vy5cvx7fffouDBw/2+SjT2toa4eHhyMjIMFB1fadQKDBs2LAuazL1v0enjJ3og8mnn34qLCwsRGVlZafPX78o9dVXX+nWXbx40SQuShUUFIihQ4eK+fPni9bW1pt6jUOHDgkA4vTp03qurnMRERFi+fLluscajUb4+Ph0e1HqnnvuabcuKirK6BdBtFqtePLJJ4W3t7e4fPnyTb1Ga2urCA0NFc8++6yeq7t5NTU1wtnZWbz11ludPm+qf4/uMFANJDU1VWzcuFGkp6eLzMxM8emnnwqlUikWLlyoa1NQUCBCQ0PFkSNHdOuWLFki/Pz8xM8//yyOHz8uoqKiRFRUlDF2QaegoECEhISI6dOni4KCgnbDXm5sc+O+ZGRkiHXr1onjx4+L7OxssWPHDhEUFCSmTp3ab3V/9tlnQiqVipSUFHH+/HnxxBNPCIVCoRs+9Mgjj4hVq1bp2h8+fFhYWVmJDRs2iAsXLog1a9aYxDCdpUuXCrlcLvbv39/us6+vr9e1+eO+rF27VjfM7cSJE2L+/PnC1tZWnDt3zhi7IIQQYuXKlWL//v0iOztbHD58WMTGxgo3NzdRWloqhDCfv0d3GKgGcuLECREZGSnkcrmwtbUVw4cPF3//+9/b9Z9mZ2cLoP19thoaGsSyZcuEs7OzsLe3Fw888EC74DKG5OTkLvtYr/vjvuTl5YmpU6cKFxcXIZVKRUhIiHjuuef6dRyqEEJs2rRJ+Pn5CRsbGxERESF+/fVX3XMxMTEiPj6+XfsvvvhCDBs2TNjY2IiRI0eK7777rl/r7UxXn/31+7EJ0XFfnnnmGd1+e3h4iNmzZ4uTJ0/2f/E3mDdvnvDy8hI2NjbCx8dHzJs3r11/urn8PbrD6fuIiPSE41CJiPSEgUpEpCcMVCIiPWGgEhHpCQOViEhPGKhERHrCQCUi0hMGKhGRnjBQiYj0hIFKRKQnDFQiIj1hoBIR6cn/B7Cey/fdGBQAAAAAAElFTkSuQmCC",
      "text/plain": [
       "<Figure size 350x350 with 1 Axes>"
      ]
     },
     "metadata": {},
     "output_type": "display_data"
    }
   ],
   "source": [
    "Xs = np.arange(-2*np.pi, 2*np.pi, 0.1)\n",
    "Ys = np.arctan(Xs)\n",
    "simple_plot(Xs,Ys,\"arc tan graph\")"
   ]
  },
  {
   "cell_type": "code",
   "execution_count": 405,
=======
   "execution_count": 129,
>>>>>>> 95239bcaaad35ab96f4cecf3e761153bd069c86f
   "id": "0158d8c2",
   "metadata": {},
   "outputs": [
    {
     "data": {
<<<<<<< HEAD
      "image/png": "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",
      "text/plain": [
       "<Figure size 350x350 with 1 Axes>"
      ]
     },
     "metadata": {},
=======
      "image/png": "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",
      "text/plain": [
       "<Figure size 252x252 with 1 Axes>"
      ]
     },
     "metadata": {
      "needs_background": "light"
     },
>>>>>>> 95239bcaaad35ab96f4cecf3e761153bd069c86f
     "output_type": "display_data"
    }
   ],
   "source": [
    "# Call our previously-defined simple plot function and display your result! Give the plot a suitable title\n",
<<<<<<< HEAD
    "Xs = np.arange(-2*np.pi, 2*np.pi, 0.1)\n",
    "Ys = np.power(Xs,2)\n",
    "simple_plot(Xs,Ys,\"pow 2 graph\")"
=======
    "simple_plot(Xs, Ys, \"tanh(Xs)\")"
>>>>>>> 95239bcaaad35ab96f4cecf3e761153bd069c86f
   ]
  },
  {
   "cell_type": "code",
<<<<<<< HEAD
   "execution_count": 406,
   "id": "d557dcde",
   "metadata": {},
   "outputs": [
    {
     "data": {
      "image/png": "iVBORw0KGgoAAAANSUhEUgAAAVQAAAFUCAYAAAB7ksS1AAAAOXRFWHRTb2Z0d2FyZQBNYXRwbG90bGliIHZlcnNpb24zLjguMSwgaHR0cHM6Ly9tYXRwbG90bGliLm9yZy/SrBM8AAAACXBIWXMAAA9hAAAPYQGoP6dpAAA2IUlEQVR4nO3deVxU9f4/8NcMzAyLDIsIiAKCG+47iLlkkZS2aJumN7HUtNQyrcwWl7pd+qndFrO61Q293zLLNnNJr6klKbklqCgqCoLAgIrMsM8w8/n9gc51ZBF0Zs4MvJ6PxzxqPvM557zPjL78nHM+c0YmhBAgIqJbJpe6ACKi5oKBSkRkJQxUIiIrYaASEVkJA5WIyEoYqEREVsJAJSKyEgYqEZGVMFCJiKyEgUrkRLKysiCTybBixQqpS6E6MFCpWSovL8eqVaswatQotG3bFl5eXujXrx8+/vhjGI1GqcujZoqBSs3S2bNnMWfOHAghMG/ePKxYsQLh4eF45pln8OSTT0pdHjVTrlIXQGQLQUFBOHr0KHr06GFumzFjBp588kkkJibi9ddfR6dOnWy2/bKyMnh6etps/eSYOEKlm7ZkyRLIZDKkp6fj0UcfhVqtRuvWrfHcc8+hsrLSom91dTXefPNNdOzYESqVCh06dMArr7yCqqoqc5958+ahdevWuPYGaHPmzIFMJsMHH3xgbisoKIBMJsPHH39cb23+/v4WYXrVuHHjAAAnTpy44f5dunQJjz/+ONRqNXx8fBAfH4/U1FTIZDKsXr3a3G/KlClo1aoVzpw5g9GjR8PLywuTJk0CACQlJeGRRx5BaGgoVCoVQkJC8Pzzz6OiosJiW1fXcfbsWcTFxcHT0xPBwcF44403UN8N4T799FPz+zlo0CAcOHDghvtEtsVApVv26KOPorKyEgkJCRg9ejQ++OADPPXUUxZ9pk2bhkWLFqF///549913MWLECCQkJGDChAnmPsOGDUNRURHS0tLMbUlJSZDL5UhKSrJoA4Dhw4c3uVaNRgOgJnAbYjKZcN999+Hrr79GfHw83nrrLeTn5yM+Pr7O/tXV1YiLi0NAQABWrFiBhx56CACwfv16lJeX4+mnn8bKlSsRFxeHlStXYvLkybXWYTQacffddyMwMBDLli3DgAEDsHjxYixevLhW37Vr12L58uWYMWMG/v73vyMrKwsPPvggDAZDU98SsiZBdJMWL14sAIj777/fov2ZZ54RAERqaqoQQoiUlBQBQEybNs2i3wsvvCAAiJ07dwohhCgsLBQAxEcffSSEEKK4uFjI5XLxyCOPiMDAQPNyzz77rPDz8xMmk6lJ9VZVVYnu3buL8PBwYTAYGuz7/fffCwDivffeM7cZjUZxxx13CAAiMTHR3B4fHy8AiJdffrnWesrLy2u1JSQkCJlMJs6dO1drHXPmzDG3mUwmMWbMGKFUKsWFCxeEEEJkZmYKAKJ169aiqKjI3HfDhg0CgNi4ceON3wiyGY5Q6ZbNmjXL4vmcOXMAAFu2bLH477x58yz6zZ8/HwCwefNmAECbNm0QGRmJ3bt3AwD27NkDFxcXvPjiiygoKMDp06cB1IxQhw4dCplM1qQ6Z8+ejePHj+PDDz+Eq2vDlw+2bt0KhUKB6dOnm9vkcnmtfb3W008/XavN3d3d/P9lZWW4ePEihgwZAiEEDh8+XGeNV8lkMsyePRt6vR6//vqrRb/x48fD19fX/HzYsGEAai7GkXQYqHTLOnfubPG8Y8eOkMvlyMrKAgCcO3cOcrm81kWgoKAg+Pj44Ny5c+a2YcOGmQ/pk5KSMHDgQAwcOBB+fn5ISkqCTqdDamqqOUAaa/ny5fjss8/w5ptvYvTo0Tfsf+7cObRt2xYeHh4W7fVdyHJ1dUX79u1rtWdnZ2PKlCnw8/NDq1at0KZNG4wYMQIAoNVqLfrK5XJERERYtHXp0gUAzO/lVaGhoRbPr4br5cuXb7BnZEu8yk9WV9/IsTEjyqFDh+Kzzz7D2bNnkZSUhGHDhkEmk2Ho0KFISkpCcHAwTCZTkwJ19erVWLBgAWbOnInXXnut0cs1hUqlglxuOT4xGo246667UFRUhAULFiAyMhKenp7Izc3FlClTYDKZbnp7Li4udbYL/qKRpDhCpVt29VD8qoyMDJhMJnTo0AEAEBYWBpPJVKtfQUEBiouLERYWZm67GpTbt2/HgQMHzM+HDx+OpKQkJCUlwdPTEwMGDGhUbRs2bMC0adPw4IMPYtWqVY3ep7CwMOTn56O8vLzWvjXW0aNHcerUKbzzzjtYsGABHnjgAcTGxiI4OLjO/iaTqdYh+6lTpwDA/F6SY2Og0i27PqhWrlwJALjnnnsAwHyI/d5771n0++c//wkAGDNmjLktPDwc7dq1w7vvvguDwYDbbrsNQE3QnjlzBt999x0GDx58w3OgALB7925MmDABw4cPx1dffVVrBNmQuLg4GAwGfPbZZ+Y2k8nUpFC+Ooq8dtQohMD7779f7zIffvihRd8PP/wQCoUCd955Z6O3S9LhIT/dsszMTNx///24++67kZycjC+//BITJ05Enz59AAB9+vRBfHw8Pv30UxQXF2PEiBHYv38/1qxZg7Fjx2LkyJEW6xs2bBjWrVuHXr16mc8N9u/fH56enjh16hQmTpx4w5rOnTuH+++/HzKZDA8//DDWr19v8Xrv3r3Ru3fvepcfO3YsoqKiMH/+fGRkZCAyMhI///wzioqKADTu9EVkZCQ6duyIF154Abm5uVCr1fj+++/rPc/p5uaGrVu3Ij4+HtHR0fjll1+wefNmvPLKK2jTps0Nt0cOQNI5BuTUrk6bOn78uHj44YeFl5eX8PX1FbNnzxYVFRUWfQ0Gg1i6dKkIDw8XCoVChISEiIULF4rKyspa6121apUAIJ5++mmL9tjYWAFA7Nix44a17dq1SwCo97F48eIbruPChQti4sSJwsvLS3h7e4spU6aIPXv2CABi3bp15n7x8fHC09OzznUcP35cxMbGilatWgl/f38xffp0kZqaWufUK09PT3HmzBkxatQo4eHhIQIDA8XixYuF0Wg097s6bWr58uW1ttXY/SLbkQnBs9h0c5YsWYKlS5fiwoULN5wo31z89NNPGDduHP744w/z6QhrmDJlCr777juUlpZabZ1kfzyHSlSP678eajQasXLlSqjVavTv31+iqsiR8RwqUT3mzJmDiooKxMTEoKqqCj/88AP27t2Lf/zjHxYT9omuYqAS1eOOO+7AO++8g02bNqGyshKdOnXCypUrLb7NRHQtnkMlIrISnkMlIrISBioRkZW0iHOoJpMJeXl58PLyavIdioioZRNCoKSkBMHBwTf8tl2LCNS8vDyEhIRIXQYRObGcnJw67yh2rRYRqF5eXgBq3hC1Wi1xNUTkTHQ6HUJCQsw50pAWEahXD/PVajUDlYhuSmNOF/KiFBGRlTBQiYishIFKRGQlDFQiIithoBIRWQkDlYjIShioRERWwkAlIrISBioRtRjacgN+PHweJZUGm6yfgUpELca2NA2e/yYVkz7fZ5P1M1CJqMXYeCQPADCqe6BN1s9AJaIW4VJpFfaeuQQAuLd3sE22wUAlohZha5oGRpNAz3ZqdPD3tMk2GKhE1CJsTK053LfV6BRgoBJRC1Coq8S+zCIAwJhebW22HQYqETV7W47mQwigb4gPQvw8bLYdBioRNXsbrhzu39/Hdof7AAOViJq57EvlOJxdDLkMuLeP7Q73AQYqETVzP6fmAgBu6+SPAC83m26LgUpEzZYQAj+l2OdwH2CgElEzdiK/BBmFpVC6yhHXM8jm22OgElGz9VNKzeH+HV0DoHZT2Hx7DFQiapaMJoGfDtcE6rj+7eyyTQYqETVLezIuorCkCj4eCozsGmCXbTJQiahZ+vHK6PTe3m2hdLVP1DFQiajZKauqxtZjGgDAuH7t7bZdmwZqQkICBg0aBC8vLwQEBGDs2LE4efKkRZ/KykrMmjULrVu3RqtWrfDQQw+hoKDAok92djbGjBkDDw8PBAQE4MUXX0R1dbUtSyciJ7YtTYMKgxEdWnugf6iP3bZr00D9/fffMWvWLPz555/Yvn07DAYDRo0ahbKyMnOf559/Hhs3bsT69evx+++/Iy8vDw8++KD5daPRiDFjxkCv12Pv3r1Ys2YNVq9ejUWLFtmydCJyYt8dOg8AeLB/e8hkMvttWNhRYWGhACB+//13IYQQxcXFQqFQiPXr15v7nDhxQgAQycnJQgghtmzZIuRyudBoNOY+H3/8sVCr1aKqqqpR29VqtQKA0Gq1VtwbInJEOUVlImzBJtHh5U3i/OXyW15fU/LDrudQtVotAMDPzw8AcOjQIRgMBsTGxpr7REZGIjQ0FMnJyQCA5ORk9OrVC4GB//vJgri4OOh0OqSlpdW5naqqKuh0OosHEbUM3x+quRg1pGNrtPNxt+u27RaoJpMJc+fOxW233YaePXsCADQaDZRKJXx8fCz6BgYGQqPRmPtcG6ZXX7/6Wl0SEhLg7e1tfoSEhFh5b4jIEZlMAt/9lQMAeHiA/S5GXWW3QJ01axaOHTuGdevW2XxbCxcuhFarNT9ycnJsvk0ikt7+rCLkFFWglcoVd/ew7Z2l6uJqj43Mnj0bmzZtwu7du9G+/f/+1QgKCoJer0dxcbHFKLWgoABBQUHmPvv377dY39VZAFf7XE+lUkGlUll5L4jI0X17oGbwdG/vtnBXuth9+zYdoQohMHv2bPz444/YuXMnwsPDLV4fMGAAFAoFduzYYW47efIksrOzERMTAwCIiYnB0aNHUVhYaO6zfft2qNVqdO/e3ZblE5ET0VYYsOVYPgBg/CBpTvPZdIQ6a9YsrF27Fhs2bICXl5f5nKe3tzfc3d3h7e2NqVOnYt68efDz84NarcacOXMQExODwYMHAwBGjRqF7t274/HHH8eyZcug0Wjw2muvYdasWRyFEpHZz6l5qDSY0CWwFfqG+EhTxC3PKWgAgDofiYmJ5j4VFRXimWeeEb6+vsLDw0OMGzdO5OfnW6wnKytL3HPPPcLd3V34+/uL+fPnC4PB0Og6OG2KqPkb88FuEbZgk/g86axV19uU/JAJIYQ0UW4/Op0O3t7e0Gq1UKvVUpdDRFZ2LFeLe1f+AYWLDPteiYWfp9Jq625KfvC7/ETk9L7enw0AGNUjyKph2lQMVCJyaqVV1eb7nk6KCpW0FgYqETm1n1PyUKY3ItzfEzEdW0taCwOViJza2v3nAAATo0LteyOUOjBQichpHTlfjGO5Oihd5HhIgq+aXo+BSkRO6z/JNaPTe3pJezHqKgYqETmly2V6bEzNAwBMjgmTuJoaDFQickrrD+WgqtqE7m3V6B/qK3U5ABioROSETCaBL/+smXs6OSZM8otRVzFQicjp/HaqENlF5VC7ueKBvu2kLseMgUpETidxTxaAmrtKSXGbvvowUInIqZwuKEHS6YuQy4DJMR2kLscCA5WInEri3iwAwF3dAxHi5yFtMddhoBKR0ygu1+OHv2p+IvqJ28Jv0Nv+GKhE5DTW7s9GpcGEbm3ViA73k7qcWhioROQU9NUmrLlyuD9taLjDTJW6FgOViJzCxtQ8FOiqEKhW4b4+wVKXUycGKhE5PCEEPks6CwCIH9IBSlfHjC7HrIqI6Bp/ZFxEuqYE7goXTJT4JtINYaASkcP75PczAGom8vt4SH9XqfowUInIoR05X4w9GZfgKpdh2jDHmyp1LQYqETm0q6PT+/sGo72vY03kvx4DlYgc1tkLpfjlmAYAMHNER4mruTEGKhE5rI9+OwMhgNhuAegS6CV1OTfEQCUih5RTVI4fr/w89Ow7OktcTeMwUInIIX3y+xkYTQLDOvujb4iP1OU0CgOViBxOvrYC6w/W3ARljpOMTgEGKhE5oI92nYHeaEJUuB+iHPAmKPVhoBKRQ8krrsA3B3IAAM/HdpG4mqZhoBKRQ1m1KwN6owmDI/wQ07G11OU0CQOViBzG+cvl+PZgzeh0rpONTgEGKhE5kPd/PQ2DUWBIx9YYHOFco1OAgUpEDiKjsATfX/l5kxfiukpczc1hoBKRQ/jn9lMwiZof3+sf6it1OTeFgUpEkkvNKcaWoxrIZMD8Uc537vQqBioRSUoIgYRfTgAAxvZth8ggtcQV3TwGKhFJ6reTF/Dn2SIoXeVOPToFGKhEJCGjSeDtX9IBAE8M6eDw9zu9EQYqEUnmmwM5OFlQAm93BZ65vZPU5dwyBioRSUJXacA7/z0JAJgb2xneHgqJK7p1Ng3U3bt347777kNwcDBkMhl++ukni9eFEFi0aBHatm0Ld3d3xMbG4vTp0xZ9ioqKMGnSJKjVavj4+GDq1KkoLS21ZdlEZAerdmbgUpkeEW088bfBYVKXYxU2DdSysjL06dMHq1atqvP1ZcuW4YMPPsAnn3yCffv2wdPTE3FxcaisrDT3mTRpEtLS0rB9+3Zs2rQJu3fvxlNPPWXLsonIxjIvliFxTxYA4PUx3aFwaSYHy8JOAIgff/zR/NxkMomgoCCxfPlyc1txcbFQqVTi66+/FkIIcfz4cQFAHDhwwNznl19+ETKZTOTm5jZ621qtVgAQWq321neEiG6JyWQS8V/sE2ELNonH/71PmEwmqUtqUFPyQ7J/FjIzM6HRaBAbG2tu8/b2RnR0NJKTkwEAycnJ8PHxwcCBA819YmNjIZfLsW/fvnrXXVVVBZ1OZ/EgIsew40Qhfjt5AQoXGZbc1x0ymUzqkqxGskDVaGp+yTAwMNCiPTAw0PyaRqNBQECAxeuurq7w8/Mz96lLQkICvL29zY+QkBArV09EN6PSYMTSTWkAgGnDIhDRppXEFVlXMzlxYWnhwoXQarXmR05OjtQlERGAD3dmIKeoAkFqN8we6fzTpK4nWaAGBQUBAAoKCizaCwoKzK8FBQWhsLDQ4vXq6moUFRWZ+9RFpVJBrVZbPIhIWhmFJfjX7jMAgCX3d4enylXiiqxPskANDw9HUFAQduzYYW7T6XTYt28fYmJiAAAxMTEoLi7GoUOHzH127twJk8mE6Ohou9dMRDdHCIFXfzwGg1HgzsgAxPWof0DkzGz6T0RpaSkyMjLMzzMzM5GSkgI/Pz+EhoZi7ty5+Pvf/47OnTsjPDwcr7/+OoKDgzF27FgAQLdu3XD33Xdj+vTp+OSTT2AwGDB79mxMmDABwcHBtiydiKxo3YEc7MssgrvCBUsf6NGsLkRZsOV0g127dgkAtR7x8fFCiJrpE6+//roIDAwUKpVK3HnnneLkyZMW67h06ZJ47LHHRKtWrYRarRZPPPGEKCkpaVIdnDZFJJ384grRc9FWEbZgk/g86azU5TRZU/JDJoQQEua5Xeh0Onh7e0Or1fJ8KpEdCSEw/T+H8OuJAvQN8cH3Tw+Bi9y5RqdNyY9meZWfiBzDTym5+PVEARQuMix7uLfThWlTMVCJyCbytRVYtKFmzunc2C7oEuglcUW2x0AlIqsTQmDB90dRUlmNPiE+mDE8QuqS7IKBSkRWt2ZvFnafugCVqxzvPNIHrs3l5ic30DL2kojs5qSmBP+4chf+V0Z3Q6eA5vX10oYwUInIaioNRjy37jD01SaM7NoGk2Oax31OG4uBSkRWs3TjcaRrSuDfSollD/dpvhP468FAJSKr+Dk1D1/vz4ZMBrw7vi/aeKmkLsnuGKhEdMsyCkux8PsjAIBZt3fCsM5tJK5IGgxUIrolpVXVmPnlIZTpjYgO98Pc2M5SlyQZBioR3TQhBBZ8dwQZhaUIVKvw4cT+LWaKVF1a7p4T0S37cGcGNh/Nh8JFho8mDWiR502vxUAlopuy9ZgG72w/BQB444GeGBDmK3FF0mOgElGTHT2vxfPfpAAApgzpgMeiQqUtyEEwUImoSXKLK/DkmgOoMBgxrLM/XhvTTeqSHAYDlYgaTVtuwBOJ+3GhpApdA72walLLvgh1Pb4TRNQoFXojpq45gFMFpQjwUuGLJwZB7aaQuiyHwkAlohvSV5swa+1fOHjuMtRurvjP1Ci083GXuiyHw0AlogZVG02Y+81h7EwvhMpVjn9PGYTIIP6UUF0YqERUL6NJ4IX1qdhyVAOlixyfTh6IQR38pC7LYdn0Z6SJyHlVG014/ttUbEzNg6tchg8n9sOILi3zO/qNxUAlolqqqo14/psUbDmquRKm/TGqR5DUZTk8BioRWSjXV2PG/x1C0umL5q+U3tU9UOqynAIDlYjMLpVWYeqag0jJKYa7wgWfTh7QYm/FdzMYqEQEAMi8WIYpiftx7lI5vN0V+GLKIH4/v4kYqESEPRkX8cxXf0FbYUCInzsSp0S1qB/XsxYGKlELJoTAmr1ZeHPzCRhNAn1CfPD55IEt/jZ8N4uBStRCleursfCHo9iQkgcAGNevHRIe7AU3hYvElTkvBipRC3QiX4c5Xx9GRmEpXOQyLLwnElOHhre4Xym1NgYqUQtiMgmsSc5Cwi/p0FebEOBV87MlUeH89pM1MFCJWoiconK89N0RJJ+9BAC4IzIAyx/ujdateL7UWhioRM1ctdGE1Xuz8M5/T6HCYIS7wgWvjI7E3waH8RDfyhioRM3YwawiLP45DWl5OgBAVLgflj/cG2GtPSWurHlioBI1QzlF5Vi+7SR+Tq25gq92c8Uro7vh0YEhkMs5KrUVBipRM1JYUomPdp3B2n3Z0BtNkMmACYNC8MKorjxXagcMVKJmIK+4Ap8nZWLt/nOoNJgAALd1ao2F93RDz3beElfXcjBQiZzYkfPFSNyThY2peag2CQBAv1AfzLurC4Z28udFJztjoBI5mdKqamxKzcPXB3KQmlNsbh8c4Yenb++E4Z0ZpFJhoBI5gUqDEbtPXcDGI/nYflxjPqxXuMhwb+9gTBnSAX1CfKQtkhioRI6qsKQSSacuYmd6IX4/dQGlVdXm1yLaeGL8wBA8NKA9/HmxyWE4TaCuWrUKy5cvh0ajQZ8+fbBy5UpERUVJXRaR1eRrK/DXuWIcyCrCn2cvIV1TYvF6W2833NOzLR7oG4ze7b15WO+AnCJQv/nmG8ybNw+ffPIJoqOj8d577yEuLg4nT55EQECA1OURNUmlwYisS2U4VVCK0wUlSMvTIS1PiwJdVa2+PYLVuCMyAHdEBqBPex/OIXVwMiGEkLqIG4mOjsagQYPw4YcfAgBMJhNCQkIwZ84cvPzyyzdcXqfTwdvbG1qtFmo1f0+crE8IgTK9ESWVBhSXG3C5XI9LpXpcLK1Cga4KBbpK5F6uQM7lcuRrK+tch4tchq6BXhjUwReDwv0QE9Gac0cdQFPyw+FHqHq9HocOHcLChQvNbXK5HLGxsUhOTq5zmaqqKlRV/e9fe51OZ/M6yT6qqo24VKpHUZkel8v1KC43oKSyGqVVBpTrjajQG1FpMKKq2gR9tQkGk0C10YRqk4DJJGASAiYB1DeKuDq+EAIQEBACNcuYgGqTCUaTgN4ooK+u2UZVtQkVeiPK9NVoytDEy80VnQNaoUugF7q1VaN7sBo9gtXwUDr8X0lqgMN/ehcvXoTRaERgoOWvLgYGBiI9Pb3OZRISErB06VJ7lEdWZjIJ5BZXIONCKTIvlCG7qBznL5cjt7gSGm0FLpcbpC6xQS5yGXzcFfD2UMDfUwV/LyUCvNwQ5O2GYB93tPNxR4fWHvDzVPIcaDPk8IF6MxYuXIh58+aZn+t0OoSEhEhYEdVFCIEzF8pwOPsyjpzXIi1Pi5OaEpTpjQ0u5yqXwc9TCV8PJbw9FFC7ucLLTQEPpQs8lC5QubrATSGH0lUOV7kcClc5XGQyuMplgAyQy2SQAagvz662yyCD7Ep/uUwGF7kMChcZFC5yKFzkcFPIoXJ1MW+3lZsr3BUuDMoWzOED1d/fHy4uLigoKLBoLygoQFBQUJ3LqFQqqFQ89+RohBDIvFiGpNMXsffMRezPLKpzxKl0kSPc3xPh/p4I8/dAiK8H2vm6o623GwK93ODjoWBokUNy+EBVKpUYMGAAduzYgbFjxwKouSi1Y8cOzJ49W9ri6IaMJoFD5y5jW5oGv54owLlL5Ravq1zl6NPeB31CvNGrvQ+6t/VCh9aecHWRS1Qx0c1z+EAFgHnz5iE+Ph4DBw5EVFQU3nvvPZSVleGJJ56QujSqR1qeFj/+lYuNR/IspgMpXGQY1MEPt3XyR0zH1ugZ7A2lK8OTmgenCNTx48fjwoULWLRoETQaDfr27YutW7fWulBF0iqrqsZPKblYuy/bfENjoOaK9l3dAjGqRxCGdvZHK5VT/LEjajKnmId6qzgP1bbytRX44o9MrNufg5IrX49UushxV/dAjO3XDsO7+EPlyp8mJufUrOahkuM6d6kMq3Zl4Ie/cs23juvQ2gN/GxyGB/u3h5+nUuIKieyLgUpNlq+twHvbT+O7v87DeCVIB0f44anhEbi9SwC/HkktFgOVGq20qhof7crAv//IRFV1ze3jbu/aBs/e2Rn9Q30lro5IegxUuiEhBH5OzcNbm0+gsKTmin1UBz8suKcrBoT5SVwdkeNgoFKDzl0qw6s/HsMfGRcBAKF+Hnh1TDeM6h7IyfVE12GgUp1MJoE1yVlYtvUkKgxGKF3lmDOyE54aEcEr9kT1YKBSLfnaCsz/NhV7z1wCAMREtEbCg73Qwd9T4sqIHBsDlSxsS9Pgpe+OQFthgLvCBa+M6YZJUaG8ck/UCAxUAgAYjCb8v1/S8fkfmQCA3u298f6EfgjnqJSo0RiohIulVXjmq7+wP7MIADB9WDhejIvkd+yJmoiB2sIdy9Xiqf8cRJ62Eq1Urnjn0T6I61H3bRGJqGEM1BZsx4kCzPn6MMr1RkT4e+LTyQPRKaCV1GUROS0Gagv15Z/nsGjDMZgEMLSTP1ZN6g9vd4XUZRE5NQZqCyOEwHu/nsb7O04DACYMCsGbY3tCwRs6E90yBmoLYjIJvLHpOFbvzQIAPHdnZ8yN7cxvPBFZCQO1hTCZBF796Si+3p8DAHjzgR54PKaDtEURNTMM1BbAZBJ4+Ycj+PbgechlwLKH++DhAe2lLouo2WGgNnM1I9Nj5jB9b0I/3N8nWOqyiJolXoloxoQQ+PvmE/h6fzbkMuDd8X0ZpkQ2xEBtxlbuzMAXe2q+Srrs4T54oG87iSsiat4YqM3UV/vO4Z/bTwEAFt/XnedMieyAgdoM7ThRgNd/OgYAePaOTnjitnCJKyJqGRiozcyR88WYvfYwTAJ4dGB7PH9XF6lLImoxGKjNiEZbiWlrDqLCYMTwLm3w1rhenLRPZEcM1GaiQm/EtP8cQGFJFboEtsKqif34dVIiO+PfuGZACIEF3x/BsVwd/DyV+Hf8IHi58UYnRPbGQG0G/v1HJn5OzYOrXIaPJ/VHiJ+H1CURtUgMVCeXfOYS/rHlBADg9Xu7IzqitcQVEbVcDFQnVlhSiTlf11zRf7B/O0yOCZO6JKIWjYHqpIwmgWe/PoyLpVXoGuiFt8byij6R1BioTmrlztP482wRPJQuWDWpP9yVLlKXRNTiMVCd0MGsInxw5Y77b43ryd+BInIQDFQno60w4Ll1KTXnTfu1w7h+/I4+kaNgoDqZJT+nIbe4AqF+Hlj6QA+pyyGiazBQnciWo/n48XDulRtF9+XkfSIHw0B1EoUllXj1x6MAgGdu74T+ob4SV0RE12OgOgEhBF7/6RgulxvQva0az97ZWeqSiKgODFQnsOlIPralFcBVLsM7j/aB0pUfG5Ej4t9MB3eptAqLf04DAMwa2Qnd2qolroiI6sNAdXBvbT6BojI9IoO8MGtkJ6nLIaIG2CxQ33rrLQwZMgQeHh7w8fGps092djbGjBkDDw8PBAQE4MUXX0R1dbVFn99++w39+/eHSqVCp06dsHr1aluV7HD+OH0RPxzOhUwGvP1Qbx7qEzk4m/0N1ev1eOSRR/D000/X+brRaMSYMWOg1+uxd+9erFmzBqtXr8aiRYvMfTIzMzFmzBiMHDkSKSkpmDt3LqZNm4Zt27bZqmyHUWkw4tWfaq7qTx4chr4hPtIWREQ3JmwsMTFReHt712rfsmWLkMvlQqPRmNs+/vhjoVarRVVVlRBCiJdeekn06NHDYrnx48eLuLi4JtWg1WoFAKHVapu+AxJ5578nRdiCTSL6rV+FrkIvdTlELVZT8kOyY8jk5GT06tULgYGB5ra4uDjodDqkpaWZ+8TGxlosFxcXh+Tk5AbXXVVVBZ1OZ/FwJlkXy/DJ72cAAIvu684J/EROQrJA1Wg0FmEKwPxco9E02Een06GioqLedSckJMDb29v8CAkJsXL1tiOEwJKNadBXmzCssz/u6RkkdUlE1EhNCtSXX34ZMpmswUd6erqtam20hQsXQqvVmh85OTlSl9Rov54oxG8nL0DhIsPS+3vwHqdETsS1KZ3nz5+PKVOmNNgnIiKiUesKCgrC/v37LdoKCgrMr13979W2a/uo1Wq4u7vXu26VSgWVStWoOhxJVbURf998HAAwbVgEItrwtnxEzqRJgdqmTRu0adPGKhuOiYnBW2+9hcLCQgQEBAAAtm/fDrVaje7du5v7bNmyxWK57du3IyYmxio1OJrEPVk4d6kcAV4qzjklckI2O4eanZ2NlJQUZGdnw2g0IiUlBSkpKSgtLQUAjBo1Ct27d8fjjz+O1NRUbNu2Da+99hpmzZplHl3OnDkTZ8+exUsvvYT09HR89NFH+Pbbb/H888/bqmzJXCipwsorN41ecHckWqma9G8dETkCW001iI+PFwBqPXbt2mXuk5WVJe655x7h7u4u/P39xfz584XBYLBYz65du0Tfvn2FUqkUERERIjExscm1OMO0qYU/HBFhCzaJ+1cmCaPRJHU5RHRFU/JDJoQQEua5Xeh0Onh7e0Or1UKtdrzvwp8uKEHce7thEsD6mTEY1MFP6pKI6Iqm5Ae/y+gAEn5Jh0kAcT0CGaZEToyBKrHkM5ewM70QrnIZFtwdKXU5RHQLGKgSEkLg/22tmbf7WFQop0kROTkGqoT+e7wAKTnFcFe4YM6dnCZF5OwYqBIxmgSWbzsJAJg6NBwBXm4SV0REt4qBKpGfDucio7AUPh4KPDWicd8uIyLHxkCVgMFowvtXJvHPGN4Rat5NiqhZYKBK4PtD55FdVA7/VkrEDwmTuhwishIGqp3pq01YuTMDADBzREd4KPkVU6LmgoFqZ98dOo/c4goEeKnwt8EcnRI1JwxUOzIYTfjot/+NTt0ULhJXRETWxEC1ox8P5+L85Qr4t1LhsahQqcshIitjoNpJtdGEVbtqRqdPDQ+Hu5KjU6LmhoFqJ5uP5uPcpXL4eigwKZrnTomaIwaqHQgh8PFvNb9i+uRt4fDkzaOJmiUGqh3sTC9EuqYEnkoXTI7pIHU5RGQjDFQbE0Lgoyuj07/FhMHbg9+KImquGKg2dvDcZRw6dxlKVzmmDg2XuhwisiEGqo19uvssAOCh/u15RymiZo6BakNnLpTi1xMFAIBpwzg6JWruGKg29HnSWQgBxHYLREfejZ+o2WOg2sjF0ip8/1cuAGAG73dK1CIwUG3kqz+zoa82oU97bwwM85W6HCKyAwaqDVRVG/F/f54DADw5NBwymUziiojIHhioNrApNR8XS6sQpHbD6F5tpS6HiOyEgWplQgh8sScTADB5SBgULnyLiVoK/m23sgNZl5GWp4ObQo7HBvEWfUQtCQPVytYkZwEAxvZtB19PpbTFEJFdMVCtSKOtxLZjGgDgTVCIWiAGqhWt3XcO1SaBqA5+6B6slrocIrIzBqqV6KtNWLs/B0DNxSgiankYqFayLU2Di6VVCPBSIa5HkNTlEJEEGKhW8uWVifwTokI5VYqoheLffCvIKCzBvswiyGXAhEEhUpdDRBJhoFrBV/uyAQB3dgtEsI+7xNUQkVQYqLeoQm/E94fOAwAmRXMiP1FLxkC9RVuO5kNXWY32vu4Y3rmN1OUQkYQYqLdo3YGaw/0Jg0Igl/OuUkQtGQP1FmQUluJA1mXIZcDDA3gxiqilY6Degm+ujE7viAxAkDd/gI+opbNZoGZlZWHq1KkIDw+Hu7s7OnbsiMWLF0Ov11v0O3LkCIYNGwY3NzeEhIRg2bJltda1fv16REZGws3NDb169cKWLVtsVXaj6atN5p84mcC7ShERbBio6enpMJlM+Ne//oW0tDS8++67+OSTT/DKK6+Y++h0OowaNQphYWE4dOgQli9fjiVLluDTTz8199m7dy8ee+wxTJ06FYcPH8bYsWMxduxYHDt2zFalN8rO9AIUlekR4KXC7V15MYqIAAg7WrZsmQgPDzc//+ijj4Svr6+oqqoyty1YsEB07drV/PzRRx8VY8aMsVhPdHS0mDFjRqO3q9VqBQCh1WpvoXpLTyTuF2ELNomELSestk4icjxNyQ+7nkPVarXw8/MzP09OTsbw4cOhVP7vvqFxcXE4efIkLl++bO4TGxtrsZ64uDgkJyfXu52qqirodDqLhzUV6Crx28lCAMAjA9tbdd1E5LzsFqgZGRlYuXIlZsyYYW7TaDQIDAy06Hf1uUajabDP1dfrkpCQAG9vb/MjJMS6V+B/+CsXJgEMCPNFxzatrLpuInJeTQ7Ul19+GTKZrMFHenq6xTK5ubm4++678cgjj2D69OlWK74+CxcuhFarNT9ycnKstm4hBNYfqlnfIwM4OiWi/3Ft6gLz58/HlClTGuwTERFh/v+8vDyMHDkSQ4YMsbjYBABBQUEoKCiwaLv6PCgoqME+V1+vi0qlgkqluuG+3IyUnGKcvVAGN4UcY3rzF02J6H+aHKht2rRBmzaNu6qdm5uLkSNHYsCAAUhMTIRcbjkgjomJwauvvgqDwQCFQgEA2L59O7p27QpfX19znx07dmDu3Lnm5bZv346YmJimlm4VP1yZKnV3jyB4uSkkqYGIHJPNzqHm5ubi9ttvR2hoKFasWIELFy5Ao9FYnPucOHEilEolpk6dirS0NHzzzTd4//33MW/ePHOf5557Dlu3bsU777yD9PR0LFmyBAcPHsTs2bNtVXq9qqqN2HgkDwDwYH8e7hPRdWw11SAxMVEAqPNxrdTUVDF06FChUqlEu3btxNtvv11rXd9++63o0qWLUCqVokePHmLz5s1NqsVa06Z+OZovwhZsElFvbRfVRtMtrYuInENT8kMmhBDSxbl96HQ6eHt7Q6vVQq2++R/Pe+o/B/Hf4wWYMSICC+/pZsUKichRNSU/+F3+RrpcpseuK3NPH+zHw30iqo2B2kibj+bDYBTo3laNrkFeUpdDRA6IgdpIG1Jqru6P7RcscSVE5KgYqI1w/nI5DmRdhkwG3N+nndTlEJGDYqA2woaUmqlSg8Nb876nRFQvBuoNCCF4uE9EjcJAvYGTBSU4VVAKpYscd/fkV02JqH4M1BvYmFpzuD+iaxt4u/OrpkRUPwZqA4QQ2JiaDwC4rw8P94moYQzUBhw5r0V2UTncFS6I7RYgdTlE5OAYqA3YdOVGKHd2C4CHssk35iKiFoaBWg+TSWDTkZrD/ft5uE9EjcBArcfhnMvI11ailcoVw7vwV02J6MYYqPXYfKTmvq13dQ+Em8JF4mqIyBkwUOtgMglsOVpzuD+6F+eeElHjMFDrcDjnMjS6msP9YZ39pS6HiJwEA7UOPNwnopvBQL0OD/eJ6GZxcuV1iisM6BzYCpXVRh7uE1GTMFCv4+epxP9NjUalwcjDfSJqEh7y14NhSkRNxUAlIrISBioRkZUwUImIrISBSkRkJQxUIiIrYaASEVkJA5WIyEoYqEREVtIiviklhAAA6HQ6iSshImdzNTeu5khDWkSglpSUAABCQkIkroSInFVJSQm8vb0b7CMTjYldJ2cymZCXlwcvLy/IZDKpyzHT6XQICQlBTk4O1Gq11OXclOawD0Dz2I/msA+A4+2HEAIlJSUIDg6GXN7wWdIWMUKVy+Vo37691GXUS61WO8QfnFvRHPYBaB770Rz2AXCs/bjRyPQqXpQiIrISBioRkZUwUCWkUqmwePFiqFQqqUu5ac1hH4DmsR/NYR8A596PFnFRiojIHjhCJSKyEgYqEZGVMFCJiKyEgUpEZCUMVDvq0KEDZDKZxePtt99ucJnKykrMmjULrVu3RqtWrfDQQw+hoKDAThXXlpWVhalTpyI8PBzu7u7o2LEjFi9eDL1e3+Byt99+e619nzlzpp2qBlatWoUOHTrAzc0N0dHR2L9/f4P9169fj8jISLi5uaFXr17YsmWLnSqtW0JCAgYNGgQvLy8EBARg7NixOHnyZIPLrF69utZ77ubmZqeK67ZkyZJaNUVGRja4jKN9Fg0SZDdhYWHijTfeEPn5+eZHaWlpg8vMnDlThISEiB07doiDBw+KwYMHiyFDhtip4tp++eUXMWXKFLFt2zZx5swZsWHDBhEQECDmz5/f4HIjRowQ06dPt9h3rVZrl5rXrVsnlEql+OKLL0RaWpqYPn268PHxEQUFBXX237Nnj3BxcRHLli0Tx48fF6+99ppQKBTi6NGjdqm3LnFxcSIxMVEcO3ZMpKSkiNGjR4vQ0NAG//wkJiYKtVpt8Z5rNBo7Vl3b4sWLRY8ePSxqunDhQr39HfGzaAgD1Y7CwsLEu+++2+j+xcXFQqFQiPXr15vbTpw4IQCI5ORkG1R4c5YtWybCw8Mb7DNixAjx3HPP2aeg60RFRYlZs2aZnxuNRhEcHCwSEhLq7P/oo4+KMWPGWLRFR0eLGTNm2LTOpigsLBQAxO+//15vn8TEROHt7W2/ohph8eLFok+fPo3u7wyfxbV4yG9nb7/9Nlq3bo1+/fph+fLlqK6urrfvoUOHYDAYEBsba26LjIxEaGgokpOT7VFuo2i1Wvj5+d2w31dffQV/f3/07NkTCxcuRHl5uc1r0+v1OHTokMV7KJfLERsbW+97mJycbNEfAOLi4hzuPQdww/e9tLQUYWFhCAkJwQMPPIC0tDR7lNeg06dPIzg4GBEREZg0aRKys7Pr7esMn8W1WsTNURzFs88+i/79+8PPzw979+7FwoULkZ+fj3/+85919tdoNFAqlfDx8bFoDwwMhEajsUPFN5aRkYGVK1dixYoVDfabOHEiwsLCEBwcjCNHjmDBggU4efIkfvjhB5vWd/HiRRiNRgQGBlq0BwYGIj09vc5lNBpNnf0d5T03mUyYO3cubrvtNvTs2bPefl27dsUXX3yB3r17Q6vVYsWKFRgyZAjS0tIku1lQdHQ0Vq9eja5duyI/Px9Lly7FsGHDcOzYMXh5edXq7+ifRS1SD5Gd3YIFCwSABh8nTpyoc9l///vfwtXVVVRWVtb5+ldffSWUSmWt9kGDBomXXnpJ8v04f/686Nixo5g6dWqTt7djxw4BQGRkZFhrF+qUm5srAIi9e/datL/44osiKiqqzmUUCoVYu3atRduqVatEQECAzepsipkzZ4qwsDCRk5PTpOX0er3o2LGjeO2112xUWdNdvnxZqNVq8fnnn9f5uqN/FtfjCPUWzZ8/H1OmTGmwT0RERJ3t0dHRqK6uRlZWFrp27Vrr9aCgIOj1ehQXF1uMUgsKChAUFHQrZdfS1P3Iy8vDyJEjMWTIEHz66adN3l50dDSAmhFux44dm7x8Y/n7+8PFxaXWzIiG3sOgoKAm9ben2bNnY9OmTdi9e3eTR5kKhQL9+vVDRkaGjaprOh8fH3Tp0qXemhz5s6iT1Inekn355ZdCLpeLoqKiOl+/elHqu+++M7elp6dLflHq/PnzonPnzmLChAmiurr6ptbxxx9/CAAiNTXVytXVFhUVJWbPnm1+bjQaRbt27Rq8KHXvvfdatMXExEh6IcRkMolZs2aJ4OBgcerUqZtaR3V1tejatat4/vnnrVzdzSspKRG+vr7i/fffr/N1R/wsGsJAtZO9e/eKd999V6SkpIgzZ86IL7/8UrRp00ZMnjzZ3Of8+fOia9euYt++fea2mTNnitDQULFz505x8OBBERMTI2JiYqTYBXONnTp1Enfeeac4f/68xfSXa/tcux8ZGRnijTfeEAcPHhSZmZliw4YNIiIiQgwfPtwuNa9bt06oVCqxevVqcfz4cfHUU08JHx8f8xSixx9/XLz88svm/nv27BGurq5ixYoV4sSJE2Lx4sWST9V5+umnhbe3t/jtt98s3vPy8nJzn+v3Y+nSpebpbYcOHRITJkwQbm5uIi0tTYpdEEIIMX/+fPHbb7+JzMxMsWfPHhEbGyv8/f1FYWGhEMI5PouGMFDt5NChQyI6Olp4e3sLNzc30a1bN/GPf/zD4vxpZmamACB27dplbquoqBDPPPOM8PX1FR4eHmLcuHEW4WVviYmJ9Z5jver6/cjOzhbDhw8Xfn5+QqVSiU6dOokXX3zRbvNQhRBi5cqVIjQ0VCiVShEVFSX+/PNP82sjRowQ8fHxFv2//fZb0aVLF6FUKkWPHj3E5s2b7VZrXep7zxMTE819rt+PuXPnmvc5MDBQjB49Wvz111/2L/4a48ePF23bthVKpVK0a9dOjB8/3uI8ujN8Fg3h7fuIiKyE81CJiKyEgUpEZCUMVCIiK2GgEhFZCQOViMhKGKhERFbCQCUishIGKhGRlTBQiYishIFKRGQlDFQiIithoBIRWcn/B36qHHtOzDydAAAAAElFTkSuQmCC",
      "text/plain": [
       "<Figure size 350x350 with 1 Axes>"
      ]
     },
     "metadata": {},
     "output_type": "display_data"
    }
   ],
   "source": [
    "Xs = np.arange(-2*np.pi, 2*np.pi, 0.1)\n",
    "Ys = np.power(Xs,3)\n",
    "simple_plot(Xs,Ys,\"pow 2 graph\")"
   ]
  },
  {
   "cell_type": "code",
   "execution_count": 407,
=======
   "execution_count": 130,
>>>>>>> 95239bcaaad35ab96f4cecf3e761153bd069c86f
   "id": "cb7444e7",
   "metadata": {},
   "outputs": [
    {
     "name": "stdout",
     "output_type": "stream",
     "text": [
<<<<<<< HEAD
      "6.216814692820369\n"
=======
      "0.9999920352594386\n"
>>>>>>> 95239bcaaad35ab96f4cecf3e761153bd069c86f
     ]
    }
   ],
   "source": [
    "# Use a suitable Numpy reduce function to find the maximum value of your function's result\n",
<<<<<<< HEAD
    "max_val = Xs.max()\n",
=======
    "max_val = Ys.max()\n",
>>>>>>> 95239bcaaad35ab96f4cecf3e761153bd069c86f
    "print(max_val)"
   ]
  },
  {
   "attachments": {},
   "cell_type": "markdown",
   "id": "bd2d92ce",
   "metadata": {},
   "source": [
    "## 1.4 numpy.where\n",
    "This allows us to conditionally modify the elements of an array, which can be useful for tasks like thresholding or masking."
   ]
  },
  {
   "cell_type": "code",
<<<<<<< HEAD
   "execution_count": 408,
=======
   "execution_count": 131,
>>>>>>> 95239bcaaad35ab96f4cecf3e761153bd069c86f
   "id": "25e1bea8",
   "metadata": {},
   "outputs": [
    {
<<<<<<< HEAD
     "name": "stdout",
     "output_type": "stream",
     "text": [
      "[[0 0 0 0 0 0 0 0 0 0]\n",
      " [0 0 0 0 0 0 0 0 0 0]\n",
      " [0 0 0 0 0 0 0 0 0 0]\n",
      " [0 0 0 0 0 0 0 0 0 0]\n",
      " [0 0 0 0 0 0 0 0 0 0]\n",
      " [1 1 1 1 1 1 1 1 1 1]\n",
      " [1 1 1 1 1 1 1 1 1 1]\n",
      " [1 1 1 1 1 1 1 1 1 1]\n",
      " [1 1 1 1 1 1 1 1 1 1]\n",
      " [1 1 1 1 1 1 1 1 1 1]]\n"
     ]
    }
   ],
   "source": [
    "img = np.arange(10*10).reshape(10,10)\n",
    "img_threshold = np.where(img < 50, 0, 1)\n",
    "#img_threshold = np.where(img < 50, 0, img)\n",
    "print(img_threshold)\n"
=======
     "data": {
      "text/plain": [
       "array([[ 0. ,  0. ,  0. ,  0. ,  0. ,  0. ,  0. ,  0. ,  0. ,  0. ],\n",
       "       [ 0. ,  0. ,  0. ,  0. ,  0. ,  0. ,  0. ,  0. ,  0. ,  0. ],\n",
       "       [ 0. ,  0. ,  0. ,  0. ,  0. ,  0. ,  0. ,  0. ,  0. ,  0. ],\n",
       "       [ 0. ,  0. ,  0. ,  0. ,  0. ,  0. ,  0. ,  0. ,  0. ,  0. ],\n",
       "       [ 0. ,  0. ,  0. ,  0. ,  0. ,  0. ,  0. ,  0. ,  0. ,  0. ],\n",
       "       [25. , 25.5, 26. , 26.5, 27. , 27.5, 28. , 28.5, 29. , 29.5],\n",
       "       [30. , 30.5, 31. , 31.5, 32. , 32.5, 33. , 33.5, 34. , 34.5],\n",
       "       [35. , 35.5, 36. , 36.5, 37. , 37.5, 38. , 38.5, 39. , 39.5],\n",
       "       [40. , 40.5, 41. , 41.5, 42. , 42.5, 43. , 43.5, 44. , 44.5],\n",
       "       [45. , 45.5, 46. , 46.5, 47. , 47.5, 48. , 48.5, 49. , 49.5]])"
      ]
     },
     "execution_count": 131,
     "metadata": {},
     "output_type": "execute_result"
    }
   ],
   "source": [
    "big_image = np.arange(10*10).reshape(10, 10)\n",
    "big_image_thresh = np.where(big_image < 50, 0, big_image / 2)\n",
    "big_image_thresh"
>>>>>>> 95239bcaaad35ab96f4cecf3e761153bd069c86f
   ]
  },
  {
   "attachments": {},
   "cell_type": "markdown",
   "id": "21cba204",
   "metadata": {},
   "source": [
    "### 1.4.1 Exercises\n"
   ]
  },
  {
   "cell_type": "code",
<<<<<<< HEAD
   "execution_count": 409,
=======
   "execution_count": 132,
>>>>>>> 95239bcaaad35ab96f4cecf3e761153bd069c86f
   "id": "b0c50f34",
   "metadata": {},
   "outputs": [
    {
     "name": "stdout",
     "output_type": "stream",
     "text": [
<<<<<<< HEAD
      "[[0.87350902 0.58831605 0.87915683 0.29938315 0.77889103]\n",
      " [0.87864808 0.59052345 0.9344773  0.57519152 0.06277829]\n",
      " [0.82505551 0.05818042 0.62018038 0.99296245 0.09083168]\n",
      " [0.3777933  0.10175469 0.95172933 0.27644307 0.86253772]\n",
      " [0.7826125  0.738796   0.47410955 0.82068044 0.76631157]\n",
      " [0.02544267 0.67203065 0.61784359 0.47325769 0.97951356]\n",
      " [0.95106397 0.36940838 0.89538093 0.55254332 0.41926932]\n",
      " [0.60099276 0.32682782 0.65370983 0.97789857 0.3391939 ]\n",
      " [0.45727883 0.82062324 0.55767289 0.665785   0.0338539 ]\n",
      " [0.38494915 0.35281673 0.86380894 0.87629637 0.49718623]\n",
      " [0.40195559 0.74546003 0.05413444 0.9662855  0.5240045 ]\n",
      " [0.21563635 0.07697125 0.14830918 0.18042425 0.77211102]\n",
      " [0.36271322 0.18331582 0.46676499 0.70022707 0.47976369]\n",
      " [0.93050885 0.54934559 0.78049679 0.21028927 0.21192096]\n",
      " [0.96011521 0.81851539 0.24278827 0.07250978 0.66673863]\n",
      " [0.69658314 0.71942545 0.63792278 0.2517212  0.0629925 ]\n",
      " [0.33497068 0.16604818 0.40367586 0.52951082 0.82636267]\n",
      " [0.43925589 0.37669397 0.23248193 0.29816545 0.93790738]\n",
      " [0.79433957 0.11887383 0.32323915 0.18321095 0.62079437]\n",
      " [0.19829503 0.4315229  0.19851266 0.79328536 0.95282486]]\n"
=======
      "[[0.87163067 0.29510891 0.75165945 0.55135109 0.09569675]\n",
      " [0.46090516 0.9579623  0.12648068 0.03449916 0.08861705]\n",
      " [0.97053682 0.63324143 0.35074232 0.98733841 0.81142608]\n",
      " [0.04222029 0.04999845 0.98029201 0.47929151 0.26781435]\n",
      " [0.61451358 0.48327363 0.62592263 0.64631053 0.04889921]\n",
      " [0.57206565 0.44718355 0.77988358 0.9708396  0.95868845]\n",
      " [0.4571169  0.08733939 0.83149753 0.79123784 0.03567614]\n",
      " [0.56933149 0.24462318 0.75180903 0.55798355 0.15373791]\n",
      " [0.59352978 0.32623847 0.74664981 0.27790879 0.25384295]\n",
      " [0.38577662 0.50372145 0.6600113  0.24711904 0.61008507]]\n"
>>>>>>> 95239bcaaad35ab96f4cecf3e761153bd069c86f
     ]
    }
   ],
   "source": [
    "# Create a Numpy array of shape (10, 5) and fill it with random values between 0 and 1. Store it in a variable called J\n",
<<<<<<< HEAD
    "J = np.random.rand(100).reshape(20,5)\n",
=======
    "J = np.random.rand(10* 5).reshape(10, 5)\n",
>>>>>>> 95239bcaaad35ab96f4cecf3e761153bd069c86f
    "print(J)"
   ]
  },
  {
   "cell_type": "code",
<<<<<<< HEAD
   "execution_count": 410,
=======
   "execution_count": 133,
>>>>>>> 95239bcaaad35ab96f4cecf3e761153bd069c86f
   "id": "36292d54",
   "metadata": {},
   "outputs": [
    {
     "name": "stdout",
     "output_type": "stream",
     "text": [
<<<<<<< HEAD
      "[[1 1 1 0 1]\n",
      " [1 1 1 1 0]\n",
      " [1 0 1 1 0]\n",
      " [0 0 1 0 1]\n",
      " [1 1 0 1 1]\n",
      " [0 1 1 0 1]\n",
      " [1 0 1 1 0]\n",
      " [1 0 1 1 0]\n",
      " [0 1 1 1 0]\n",
      " [0 0 1 1 0]\n",
      " [0 1 0 1 1]\n",
      " [0 0 0 0 1]\n",
      " [0 0 0 1 0]\n",
      " [1 1 1 0 0]\n",
      " [1 1 0 0 1]\n",
      " [1 1 1 0 0]\n",
      " [0 0 0 1 1]\n",
      " [0 0 0 0 1]\n",
      " [1 0 0 0 1]\n",
      " [0 0 0 1 1]]\n"
=======
      "[[1 0 1 1 0]\n",
      " [0 1 0 0 0]\n",
      " [1 1 0 1 1]\n",
      " [0 0 1 0 0]\n",
      " [1 0 1 1 0]\n",
      " [1 0 1 1 1]\n",
      " [0 0 1 1 0]\n",
      " [1 0 1 1 0]\n",
      " [1 0 1 0 0]\n",
      " [0 1 1 0 1]]\n"
>>>>>>> 95239bcaaad35ab96f4cecf3e761153bd069c86f
     ]
    }
   ],
   "source": [
    "# Conditionally modify the array such that numbers below 0.5 are replaced with 0 and numbers above \n",
    "# or equal to 0.5 are replaced with 1. Store the result in a variable called K\n",
<<<<<<< HEAD
    "K = np.where(J < 0.5 , 0 ,1)\n",
=======
    "K = np.where(J < 0.5, 0, 1)\n",
>>>>>>> 95239bcaaad35ab96f4cecf3e761153bd069c86f
    "print(K)"
   ]
  },
  {
<<<<<<< HEAD
   "cell_type": "code",
   "execution_count": 411,
   "id": "cb928546",
   "metadata": {},
   "outputs": [
    {
     "name": "stdout",
     "output_type": "stream",
     "text": [
      "*** *\n",
      "**** \n",
      "* ** \n",
      "  * *\n",
      "** **\n",
      " ** *\n",
      "* ** \n",
      "* ** \n",
      " *** \n",
      "  ** \n",
      " * **\n",
      "    *\n",
      "   * \n",
      "***  \n",
      "**  *\n",
      "***  \n",
      "   **\n",
      "    *\n",
      "*   *\n",
      "   **\n"
     ]
    }
   ],
   "source": [
    "for i in K:\n",
    "    for j in i:\n",
    "        res = \"*\" if j == 1 else \" \"\n",
    "        print(res,end=\"\")\n",
    "    print()"
   ]
  },
  {
=======
>>>>>>> 95239bcaaad35ab96f4cecf3e761153bd069c86f
   "attachments": {},
   "cell_type": "markdown",
   "id": "1e67bef4",
   "metadata": {},
   "source": [
    "## 1.5 Practical example\n",
    "\n",
    "Putting everything together for a practical example, and visulalise the output of some Numpy operations"
   ]
  },
  {
   "cell_type": "code",
<<<<<<< HEAD
   "execution_count": 412,
=======
   "execution_count": 134,
>>>>>>> 95239bcaaad35ab96f4cecf3e761153bd069c86f
   "id": "053dfac8",
   "metadata": {},
   "outputs": [],
   "source": [
    "# Defining some helper functions\n",
    "def plot_point(point):\n",
    "    plt.rcParams[\"figure.figsize\"] = [3.50, 3.50]\n",
    "    plt.rcParams[\"figure.autolayout\"] = True\n",
    "    x = point[0]\n",
    "    y = point[1]\n",
    "    \n",
    "    lims = 3\n",
    "    fig = plt.figure()\n",
    "    ax = fig.add_subplot(111)\n",
    "    plt.xlim(-lims, lims)\n",
    "    plt.ylim(-lims, lims)\n",
    "    plt.grid()\n",
    "    ax.plot(x, y, marker=\"o\", markersize=7, markeredgecolor=\"black\", markerfacecolor=\"red\")\n",
    "    ax.spines['left'].set_position('zero')\n",
    "    ax.spines['right'].set_color('none')\n",
    "    ax.spines['bottom'].set_position('zero')\n",
    "    ax.spines['top'].set_color('none')\n",
    "    plt.show()\n",
    "\n",
    "\n",
    "\n",
    "# This function returns an np array that describes a 2d rotation \n",
    "# matrix [https://www1.udel.edu/biology/rosewc/kaap686/notes/matrices_rotations.pdf]. \n",
    "# These kinds of structures are often used in computer graphics to rotate and translate points in space\n",
    "def get_rot_clockwise_matrix(angle):\n",
    "    return np.array([\n",
    "        [ np.cos(angle), np.sin(angle)],\n",
    "        [-np.sin(angle), np.cos(angle)]\n",
    "    ])"
   ]
  },
  {
   "cell_type": "code",
<<<<<<< HEAD
   "execution_count": 413,
=======
   "execution_count": 135,
>>>>>>> 95239bcaaad35ab96f4cecf3e761153bd069c86f
   "id": "e5bedc69",
   "metadata": {},
   "outputs": [
    {
     "name": "stdout",
     "output_type": "stream",
     "text": [
<<<<<<< HEAD
      "[0.06155664 0.72711833]\n"
=======
      "[0.95283504 0.43576252]\n"
>>>>>>> 95239bcaaad35ab96f4cecf3e761153bd069c86f
     ]
    }
   ],
   "source": [
    "# Create a random 2-element array containing values from 0 - 1. Assign this array to a variable `p`\n",
    "p = np.random.rand(2)\n",
    "print(p)"
   ]
  },
  {
   "cell_type": "code",
<<<<<<< HEAD
   "execution_count": 414,
=======
   "execution_count": 136,
>>>>>>> 95239bcaaad35ab96f4cecf3e761153bd069c86f
   "id": "d3454cb0",
   "metadata": {},
   "outputs": [
    {
     "name": "stdout",
     "output_type": "stream",
     "text": [
<<<<<<< HEAD
      "[0.12311328 1.45423667]\n"
=======
      "[1.90567007 0.87152504]\n"
>>>>>>> 95239bcaaad35ab96f4cecf3e761153bd069c86f
     ]
    }
   ],
   "source": [
    "# Use scalar multiplication to double the value of the elements in `p`. Assign the result back to `p`\n",
<<<<<<< HEAD
    "p = 2*p\n",
=======
    "p = 2 * p\n",
>>>>>>> 95239bcaaad35ab96f4cecf3e761153bd069c86f
    "print(p)"
   ]
  },
  {
   "cell_type": "code",
<<<<<<< HEAD
   "execution_count": 415,
=======
   "execution_count": 137,
>>>>>>> 95239bcaaad35ab96f4cecf3e761153bd069c86f
   "id": "00655ac8",
   "metadata": {},
   "outputs": [
    {
     "data": {
<<<<<<< HEAD
      "image/png": "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",
      "text/plain": [
       "<Figure size 350x350 with 1 Axes>"
      ]
     },
     "metadata": {},
=======
      "image/png": "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",
      "text/plain": [
       "<Figure size 252x252 with 1 Axes>"
      ]
     },
     "metadata": {
      "needs_background": "light"
     },
>>>>>>> 95239bcaaad35ab96f4cecf3e761153bd069c86f
     "output_type": "display_data"
    }
   ],
   "source": [
    "# Reshape `p` to be (2, 1), assign the result to `p` and plot the point.\n",
<<<<<<< HEAD
    "p = p.reshape(2,1)\n",
=======
    "p = p.reshape(2, 1)\n",
>>>>>>> 95239bcaaad35ab96f4cecf3e761153bd069c86f
    "plot_point(p)"
   ]
  },
  {
   "cell_type": "code",
<<<<<<< HEAD
   "execution_count": 416,
=======
   "execution_count": 138,
>>>>>>> 95239bcaaad35ab96f4cecf3e761153bd069c86f
   "id": "1937533d",
   "metadata": {},
   "outputs": [
    {
     "name": "stdout",
     "output_type": "stream",
     "text": [
<<<<<<< HEAD
      "115.21418739886423\n"
=======
      "126.41757241179826\n"
>>>>>>> 95239bcaaad35ab96f4cecf3e761153bd069c86f
     ]
    }
   ],
   "source": [
    "# We will now rotate this point about the origin of the plot using the funciton we defined above\n",
    "# This cell is just some setup for the rest of the exercise, just run it once\n",
    "min_angle = np.pi/2 # 90 degrees\n",
    "max_angle = np.pi   # 180 degrees\n",
    "angle = np.random.uniform(min_angle, max_angle) # get a random angle between 90 and 180 degrees\n",
    "print(np.degrees(angle)) # print the angle in degrees so we can check the rotation is correct!"
   ]
  },
  {
   "cell_type": "code",
<<<<<<< HEAD
   "execution_count": 417,
=======
   "execution_count": 139,
>>>>>>> 95239bcaaad35ab96f4cecf3e761153bd069c86f
   "id": "0ea1d746",
   "metadata": {},
   "outputs": [
    {
     "name": "stdout",
     "output_type": "stream",
     "text": [
<<<<<<< HEAD
      "[[-0.42600333  0.90472159]\n",
      " [-0.90472159 -0.42600333]]\n"
=======
      "[[-0.59366572  0.80471176]\n",
      " [-0.80471176 -0.59366572]]\n"
>>>>>>> 95239bcaaad35ab96f4cecf3e761153bd069c86f
     ]
    }
   ],
   "source": [
    "# Call the previously-defined roation matrix function with the angle. Assign the result to \n",
<<<<<<< HEAD
    "# a variable called `rot`\n",
    "rot = get_rot_clockwise_matrix(angle= angle)\n",
=======
    "# a variable called `rot90`\n",
    "rot = get_rot_clockwise_matrix(angle)\n",
>>>>>>> 95239bcaaad35ab96f4cecf3e761153bd069c86f
    "print(rot)\n"
   ]
  },
  {
   "cell_type": "code",
<<<<<<< HEAD
   "execution_count": 418,
=======
   "execution_count": 140,
>>>>>>> 95239bcaaad35ab96f4cecf3e761153bd069c86f
   "id": "350ff0ba",
   "metadata": {},
   "outputs": [
    {
     "data": {
<<<<<<< HEAD
      "image/png": "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",
      "text/plain": [
       "<Figure size 350x350 with 1 Axes>"
      ]
     },
     "metadata": {},
=======
      "image/png": "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",
      "text/plain": [
       "<Figure size 252x252 with 1 Axes>"
      ]
     },
     "metadata": {
      "needs_background": "light"
     },
>>>>>>> 95239bcaaad35ab96f4cecf3e761153bd069c86f
     "output_type": "display_data"
    }
   ],
   "source": [
    "# Apply a matrix multiplication operation between rot90 and p. assign the result back to p and plot it.\n",
<<<<<<< HEAD
    "p = np.matmul(rot,p)\n",
=======
    "p = np.matmul(rot, p)\n",
>>>>>>> 95239bcaaad35ab96f4cecf3e761153bd069c86f
    "plot_point(p)\n"
   ]
  },
  {
   "cell_type": "code",
<<<<<<< HEAD
   "execution_count": 419,
=======
   "execution_count": 141,
>>>>>>> 95239bcaaad35ab96f4cecf3e761153bd069c86f
   "id": "65e93aeb",
   "metadata": {},
   "outputs": [
    {
     "name": "stdout",
     "output_type": "stream",
     "text": [
      "[[2]\n",
      " [2]]\n"
     ]
    }
   ],
   "source": [
    "# Create an array named `translation` which has the same shape as `p`, and fill it with 2's\n",
<<<<<<< HEAD
    "translation = np.full(p.shape,2)\n",
=======
    "translation = np.full(p.shape, 2)\n",
>>>>>>> 95239bcaaad35ab96f4cecf3e761153bd069c86f
    "print(translation)"
   ]
  },
  {
   "cell_type": "code",
<<<<<<< HEAD
   "execution_count": 420,
=======
   "execution_count": 142,
>>>>>>> 95239bcaaad35ab96f4cecf3e761153bd069c86f
   "id": "0fff9269",
   "metadata": {},
   "outputs": [
    {
     "data": {
<<<<<<< HEAD
      "image/png": "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",
      "text/plain": [
       "<Figure size 350x350 with 1 Axes>"
      ]
     },
     "metadata": {},
=======
      "image/png": "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",
      "text/plain": [
       "<Figure size 252x252 with 1 Axes>"
      ]
     },
     "metadata": {
      "needs_background": "light"
     },
>>>>>>> 95239bcaaad35ab96f4cecf3e761153bd069c86f
     "output_type": "display_data"
    }
   ],
   "source": [
    "# Add this result to p and plot it!\n",
<<<<<<< HEAD
    "p += translation\n",
    "plot_point(p) "
=======
    "p = p + translation\n",
    "plot_point(p)\n"
>>>>>>> 95239bcaaad35ab96f4cecf3e761153bd069c86f
   ]
  }
 ],
 "metadata": {
  "kernelspec": {
   "display_name": "Python 3 (ipykernel)",
   "language": "python",
   "name": "python3"
  },
  "language_info": {
   "codemirror_mode": {
    "name": "ipython",
    "version": 3
   },
   "file_extension": ".py",
   "mimetype": "text/x-python",
   "name": "python",
   "nbconvert_exporter": "python",
   "pygments_lexer": "ipython3",
   "version": "3.11.5"
  }
 },
 "nbformat": 4,
 "nbformat_minor": 5
}
