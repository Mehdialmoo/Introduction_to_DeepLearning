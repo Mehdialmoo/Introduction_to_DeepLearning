{
 "cells": [
  {
   "attachments": {},
   "cell_type": "markdown",
   "id": "4d2c698f",
   "metadata": {},
   "source": [
    "# 1. Numpy \n",
    "Numpy is a powerful Python module that should be in the toolbelt of any AI/Deep learning practitioner. It provides functions and data structures that allow fast, efficient manipulation of mathematical structures like matrices and vectors. It represents these structures internally using Numpy arrays, which are like Python Lists, but highly optimised for calculations on large amounts of numerical data. Let's import this module now.\n",
    "\n",
    "Numpy arrays are almost the exact same as Pytorch Tensors, which you will have heard about by now. The only difference is that Pytorch Tensors can be operated on by the GPU; Numpy array operations are always performed by the CPU.  "
   ]
  },
  {
   "cell_type": "code",
   "execution_count": 1,
   "id": "a352c02e",
   "metadata": {},
   "outputs": [],
   "source": [
    "import numpy as np"
   ]
  },
  {
   "attachments": {},
   "cell_type": "markdown",
   "id": "fe0a2fda",
   "metadata": {},
   "source": [
    "### 1.1.1 Array creation\n",
    "Numpy arrays can be created in a few different ways. Common ones are:\n",
    "1. Instantiated using values from a normal Python list\n",
    "2. Filled with sequential values upto a target number\n",
    "3. Filled with a specific value\n",
    "4. Filled with random values (various random distributions available) - see https://numpy.org/doc/stable/reference/random/index.html\n",
    "\n",
    "For a full list of array creation routines, please see: https://numpy.org/doc/stable/reference/routines.array-creation.html\n"
   ]
  },
  {
   "cell_type": "code",
   "execution_count": 2,
   "id": "cc36ef32",
   "metadata": {},
   "outputs": [
    {
     "name": "stdout",
     "output_type": "stream",
     "text": [
      "[ 2  4  8 16 32]\n"
     ]
    }
   ],
   "source": [
    "#Array creation from python list\n",
    "python_list = [2, 4, 8, 16, 32]\n",
    "np_from_list = np.array(python_list)\n",
    "print(np_from_list)"
   ]
  },
  {
   "cell_type": "code",
   "execution_count": 3,
   "id": "0ccacf1d",
   "metadata": {},
   "outputs": [
    {
     "data": {
      "text/plain": [
       "array([10, 15, 20, 25, 30, 35, 40, 45])"
      ]
     },
     "execution_count": 3,
     "metadata": {},
     "output_type": "execute_result"
    }
   ],
   "source": [
    "#Array creation with sequential values \n",
    "seq_array = np.arange(start=10, stop=50, step=5)\n",
    "seq_array"
   ]
  },
  {
   "cell_type": "code",
   "execution_count": 4,
   "id": "3b4a7775",
   "metadata": {},
   "outputs": [
    {
     "data": {
      "text/plain": [
       "array([0.2641266 , 0.33911909, 0.79547396, 0.36131212, 0.12693043,\n",
       "       0.21530096, 0.28825529, 0.52620354, 0.7810857 , 0.66370165,\n",
       "       0.69097905, 0.53908691, 0.56863567, 0.05199983, 0.93698768,\n",
       "       0.81149988, 0.64634614, 0.63055677, 0.95951056, 0.75151926])"
      ]
     },
     "execution_count": 4,
     "metadata": {},
     "output_type": "execute_result"
    }
   ],
   "source": [
    "#Array creation with random values \n",
    "random_array = np.random.rand(20)\n",
    "random_array"
   ]
  },
  {
   "cell_type": "code",
   "execution_count": 5,
   "id": "68a1cf04",
   "metadata": {},
   "outputs": [
    {
     "data": {
      "text/plain": [
       "array([256, 256, 256, 256, 256, 256, 256, 256, 256, 256])"
      ]
     },
     "execution_count": 5,
     "metadata": {},
     "output_type": "execute_result"
    }
   ],
   "source": [
    "#Array filled with the same specific value\n",
    "filled_array = np.full(10, 256)\n",
    "filled_array"
   ]
  },
  {
   "attachments": {},
   "cell_type": "markdown",
   "id": "e92f617f",
   "metadata": {},
   "source": [
    "### 1.1.2 Reshaping arrays\n",
    "\n",
    "One of the many things that set Numpy arrays apart from Python lists is their `reshape` method. This allows you to define the number of dimensions that the structure represented by the array has. For example, the array `np_from_list` that we have just defined is just a flat list of numbers at the moment. `reshape` helps us represent it as a 2D data structure (a matrix). Keep in mind that the shape that you put into this method must agree with the number of elements in the array. In our example, the array has 10 elements, so acceptable shapes include:\n",
    "* 5, 2\n",
    "* 2, 5\n",
    "* 1, 10\n",
    "* 10, 1"
   ]
  },
  {
   "cell_type": "code",
   "execution_count": 6,
   "id": "e5e2f39c",
   "metadata": {},
   "outputs": [
    {
     "name": "stdout",
     "output_type": "stream",
     "text": [
      "[[256 256]\n",
      " [256 256]\n",
      " [256 256]\n",
      " [256 256]\n",
      " [256 256]]\n",
      "matrix has shape: (5, 2)\n"
     ]
    }
   ],
   "source": [
    "matrix_5_2 = filled_array.reshape(5, 2)\n",
    "print(matrix_5_2)\n",
    "print(f\"matrix has shape: {matrix_5_2.shape}\")"
   ]
  },
  {
   "cell_type": "code",
   "execution_count": 7,
   "id": "440acb3f",
   "metadata": {},
   "outputs": [
    {
     "name": "stdout",
     "output_type": "stream",
     "text": [
      "[[0.2641266  0.33911909 0.79547396 0.36131212 0.12693043 0.21530096\n",
      "  0.28825529 0.52620354 0.7810857  0.66370165]\n",
      " [0.69097905 0.53908691 0.56863567 0.05199983 0.93698768 0.81149988\n",
      "  0.64634614 0.63055677 0.95951056 0.75151926]]\n",
      "matrix has shape: (2, 10)\n"
     ]
    }
   ],
   "source": [
    "matrix_2_10 = random_array.reshape(2, 10)\n",
    "print(matrix_2_10)\n",
    "print(f\"matrix has shape: {matrix_2_10.shape}\")"
   ]
  },
  {
   "cell_type": "code",
   "execution_count": 8,
   "id": "5b7ecc7c",
   "metadata": {},
   "outputs": [
    {
     "data": {
      "text/plain": [
       "array([[32, 32],\n",
       "       [32, 32],\n",
       "       [32, 32],\n",
       "       [32, 32],\n",
       "       [32, 32]])"
      ]
     },
     "execution_count": 8,
     "metadata": {},
     "output_type": "execute_result"
    }
   ],
   "source": [
    "# You can also pass a desired shape into the array creation function to instantiate\n",
    "# an array with a pre-defined shape\n",
    "array_from_shape = np.full(matrix_5_2.shape, 32)\n",
    "array_from_shape\n"
   ]
  },
  {
   "attachments": {},
   "cell_type": "markdown",
   "id": "e5f458bc",
   "metadata": {},
   "source": [
    "### 1.1.3 Exercises"
   ]
  },
  {
   "cell_type": "code",
   "execution_count": 9,
   "id": "f97ac428",
   "metadata": {},
   "outputs": [
    {
     "name": "stdout",
     "output_type": "stream",
     "text": [
      "[ 0  1  2  3  4  5  6  7  8  9 10 11 12 13 14 15 16 17 18 19 20 21 22 23\n",
      " 24 25 26 27 28 29 30 31]\n"
     ]
    }
   ],
   "source": [
    "# Create a Numpy array A that contains the integers from 0 - 31 (32 elements long)\n",
    "A = np.arange(32)\n",
    "print(A)"
   ]
  },
  {
   "cell_type": "code",
   "execution_count": 10,
   "id": "4c06fa53",
   "metadata": {},
   "outputs": [
    {
     "name": "stdout",
     "output_type": "stream",
     "text": [
      "[0.09186007 0.53107435 0.11208219 0.06854671 0.45213107 0.86813105\n",
      " 0.77208572 0.93390665 0.74891708 0.18600244 0.11899323 0.73455707]\n"
     ]
    }
   ],
   "source": [
    "# Create a Numpy array B that contains 12 random numbers between 0 and 1\n",
    "B = np.random.rand(12)\n",
    "print(B)"
   ]
  },
  {
   "cell_type": "code",
   "execution_count": 11,
   "id": "b5ad76b4",
   "metadata": {},
   "outputs": [
    {
     "name": "stdout",
     "output_type": "stream",
     "text": [
      "[[ 0  1  2  3]\n",
      " [ 4  5  6  7]\n",
      " [ 8  9 10 11]\n",
      " [12 13 14 15]\n",
      " [16 17 18 19]\n",
      " [20 21 22 23]\n",
      " [24 25 26 27]\n",
      " [28 29 30 31]]\n"
     ]
    }
   ],
   "source": [
    "# Turn A into a 2d matrix of shape (8, 4) - 8 rows, 4 columns\n",
    "A = A.reshape(8, 4)\n",
    "print(A)"
   ]
  },
  {
   "cell_type": "code",
   "execution_count": 12,
   "id": "f28e3f39",
   "metadata": {},
   "outputs": [
    {
     "name": "stdout",
     "output_type": "stream",
     "text": [
      "[[0.09186007 0.53107435 0.11208219]\n",
      " [0.06854671 0.45213107 0.86813105]\n",
      " [0.77208572 0.93390665 0.74891708]\n",
      " [0.18600244 0.11899323 0.73455707]]\n"
     ]
    }
   ],
   "source": [
    "# Turn B into a 2d matrix of shape (4, 3)\n",
    "B = B.reshape(4, 3)\n",
    "print(B)"
   ]
  },
  {
   "attachments": {},
   "cell_type": "markdown",
   "id": "e3e3ea19",
   "metadata": {},
   "source": [
    "## 1.2 Array operations\n",
    "Once you have created an array, there are various operations you may want to perform on them. We'll go through some of the most common ones in the next few cells.\n",
    "\n",
    "### 1.2.1 Binary operators\n",
    "Similar to normal counting numbers, Numpy arrays can be used as arguments to binary arithmetic operators like `*` (multiplication), `+` (addition), `-`(subtraction) and `/`(division). However, these can only be applied to arrays under certain conditions:\n",
    "1. The arrays have the same shape, OR\n",
    "2. The operation is between an array and a scalar, OR\n",
    "3. The operations is between 2 arrays of different shapes that can be \"broadcast\" together - more on this later\n",
    "\n",
    "These operations are applied **element-wise** meaning each element in the array is combined with its corresponding element at the same position in the other array"
   ]
  },
  {
   "cell_type": "code",
   "execution_count": 13,
   "id": "d630c356",
   "metadata": {},
   "outputs": [
    {
     "data": {
      "text/plain": [
       "array([[11.45371984, 11.49554797, 11.0483521 , 11.95303922],\n",
       "       [11.42107789, 11.31047521, 11.99051191, 11.98370835],\n",
       "       [11.66301087, 11.00088433, 11.76560953, 11.03429952],\n",
       "       [11.07721602, 11.01185495, 11.15023004, 11.26188452],\n",
       "       [11.53215073, 11.0873226 , 11.531525  , 11.87720527],\n",
       "       [11.96355917, 11.2785004 , 11.10693664, 11.3644114 ],\n",
       "       [11.0670702 , 11.41789539, 11.12566032, 11.33987087],\n",
       "       [11.50548511, 11.7471631 , 11.02924563, 11.44379037]])"
      ]
     },
     "execution_count": 13,
     "metadata": {},
     "output_type": "execute_result"
    }
   ],
   "source": [
    "# Addition with a scalar\n",
    "arr = np.random.rand(32).reshape(A.shape)\n",
    "scalar_add = arr + 11\n",
    "scalar_add"
   ]
  },
  {
   "cell_type": "code",
   "execution_count": 14,
   "id": "b729a52e",
   "metadata": {},
   "outputs": [
    {
     "data": {
      "text/plain": [
       "array([[  0.45371984,  -0.50445203,  -1.9516479 ,  -2.04696078],\n",
       "       [ -3.57892211,  -4.68952479,  -5.00948809,  -6.01629165],\n",
       "       [ -7.33698913,  -8.99911567,  -9.23439047, -10.96570048],\n",
       "       [-11.92278398, -12.98814505, -13.84976996, -14.73811548],\n",
       "       [-15.46784927, -16.9126774 , -17.468475  , -18.12279473],\n",
       "       [-19.03644083, -20.7214996 , -21.89306336, -22.6355886 ],\n",
       "       [-23.9329298 , -24.58210461, -25.87433968, -26.66012913],\n",
       "       [-27.49451489, -28.2528369 , -29.97075437, -30.55620963]])"
      ]
     },
     "execution_count": 14,
     "metadata": {},
     "output_type": "execute_result"
    }
   ],
   "source": [
    "# Subtraction with another array of same shape\n",
    "sub_array = arr - A\n",
    "sub_array"
   ]
  },
  {
   "cell_type": "code",
   "execution_count": 15,
   "id": "d3454d04",
   "metadata": {},
   "outputs": [
    {
     "data": {
      "text/plain": [
       "array([[0.00000000e+00, 4.95547970e-01, 9.67042026e-02, 2.85911767e+00],\n",
       "       [1.68431156e+00, 1.55237604e+00, 5.94307145e+00, 6.88595846e+00],\n",
       "       [5.30408692e+00, 7.95900671e-03, 7.65609526e+00, 3.77294757e-01],\n",
       "       [9.26592208e-01, 1.54114409e-01, 2.10322060e+00, 3.92826773e+00],\n",
       "       [8.51441165e+00, 1.48448418e+00, 9.56745008e+00, 1.66669001e+01],\n",
       "       [1.92711835e+01, 5.84850832e+00, 2.35260605e+00, 8.38146213e+00],\n",
       "       [1.60968470e+00, 1.04473847e+01, 3.26716821e+00, 9.17651338e+00],\n",
       "       [1.41535831e+01, 2.16677300e+01, 8.77368794e-01, 1.37575014e+01]])"
      ]
     },
     "execution_count": 15,
     "metadata": {},
     "output_type": "execute_result"
    }
   ],
   "source": [
    "# Multiplication with another array of same shape\n",
    "mul_array = arr * A\n",
    "mul_array"
   ]
  },
  {
   "cell_type": "code",
   "execution_count": 16,
   "id": "9ae00ef0",
   "metadata": {},
   "outputs": [
    {
     "data": {
      "text/plain": [
       "array([[2.42440356e+01, 2.21976492e+01, 2.27497869e+02, 1.15420223e+01],\n",
       "       [2.61234329e+01, 3.54295600e+01, 1.11053688e+01, 1.11821761e+01],\n",
       "       [1.65909800e+01, 1.24387381e+04, 1.43676373e+01, 3.20704165e+02],\n",
       "       [1.42457490e+02, 9.27882093e+02, 7.32210401e+01, 4.20032471e+01],\n",
       "       [2.06708352e+01, 1.25969682e+02, 2.06951694e+01, 1.25398244e+01],\n",
       "       [1.14160088e+01, 3.94972508e+01, 1.02864651e+02, 3.01856640e+01],\n",
       "       [1.64007275e+02, 2.63223770e+01, 8.75375803e+01, 3.23652337e+01],\n",
       "       [2.17612740e+01, 1.47223544e+01, 3.76124615e+02, 2.47864776e+01]])"
      ]
     },
     "execution_count": 16,
     "metadata": {},
     "output_type": "execute_result"
    }
   ],
   "source": [
    "# Division by a scalar\n",
    "div_array = 11 / arr\n",
    "div_array"
   ]
  },
  {
   "attachments": {},
   "cell_type": "markdown",
   "id": "2e285677",
   "metadata": {},
   "source": [
    "### 1.2.2 Broadcasting\n",
    "As long as an array's dimensions are compatible with their counterparts in the other array, they can be \"broadcasted\" together. This means that numpy will 'stretch' the smaller dimension along its axis so that element-wise operations can be applied between them. In general, 2 arrays can be broadcast together if each dimension in one array is compatible with its counterpart in the other array. Dimensions are compatible if they are equal or one of them is equal to 1. The dimension of size 1 is expanded to fit the size of its counterpart [https://numpy.org/doc/stable/user/basics.broadcasting.html]"
   ]
  },
  {
   "cell_type": "code",
   "execution_count": 17,
   "id": "be491c00",
   "metadata": {},
   "outputs": [
    {
     "name": "stdout",
     "output_type": "stream",
     "text": [
      "[[0]\n",
      " [1]\n",
      " [2]\n",
      " [3]]\n",
      "--------\n",
      "[[ 0  1  2]\n",
      " [ 3  4  5]\n",
      " [ 6  7  8]\n",
      " [ 9 10 11]]\n",
      "--------\n",
      "[[ 0  1  2]\n",
      " [ 4  5  6]\n",
      " [ 8  9 10]\n",
      " [12 13 14]]\n"
     ]
    }
   ],
   "source": [
    "B = np.arange(12).reshape(4, 3)\n",
    "array_4_1 = np.arange(4).reshape(4, 1)\n",
    "print(array_4_1)\n",
    "print(\"--------\")\n",
    "print(B)\n",
    "print(\"--------\")\n",
    "\n",
    "broadcasted = array_4_1 + B\n",
    "print(broadcasted)"
   ]
  },
  {
   "cell_type": "code",
   "execution_count": 18,
   "id": "8af7f502",
   "metadata": {},
   "outputs": [
    {
     "name": "stdout",
     "output_type": "stream",
     "text": [
      "[[0 1 2]]\n",
      "-------------\n",
      "[[ 0  1  2]\n",
      " [ 3  4  5]\n",
      " [ 6  7  8]\n",
      " [ 9 10 11]]\n",
      "-------------\n"
     ]
    },
    {
     "data": {
      "text/plain": [
       "array([[ 0,  2,  4],\n",
       "       [ 3,  5,  7],\n",
       "       [ 6,  8, 10],\n",
       "       [ 9, 11, 13]])"
      ]
     },
     "execution_count": 18,
     "metadata": {},
     "output_type": "execute_result"
    }
   ],
   "source": [
    "# Similarly, we can also broadcast an array of shape (1, 3) along B's vertical axis\n",
    "array_1_3 = np.arange(3).reshape(1, 3)\n",
    "print(array_1_3)\n",
    "print(\"-------------\")\n",
    "print(B)\n",
    "print(\"-------------\")\n",
    "broadcasted = B + array_1_3\n",
    "broadcasted\n"
   ]
  },
  {
   "attachments": {},
   "cell_type": "markdown",
   "id": "5cfde7f5",
   "metadata": {},
   "source": [
    "### 1.2.3 Array products\n",
    "Contrary to the `*` operator, which performs element-wise multiplication between the arrays, `np.matmul` is the matrix product of the arrays."
   ]
  },
  {
   "cell_type": "code",
   "execution_count": 19,
   "id": "4a8b3147",
   "metadata": {},
   "outputs": [
    {
     "name": "stdout",
     "output_type": "stream",
     "text": [
      "A: (8, 4), B: (4, 3), A.B: (8, 3)\n",
      "[[ 42  48  54]\n",
      " [114 136 158]\n",
      " [186 224 262]\n",
      " [258 312 366]\n",
      " [330 400 470]\n",
      " [402 488 574]\n",
      " [474 576 678]\n",
      " [546 664 782]]\n"
     ]
    }
   ],
   "source": [
    "matmul_matrix = np.matmul(A, B)\n",
    "print(f\"A: {A.shape}, B: {B.shape}, A.B: {matmul_matrix.shape}\")\n",
    "print(matmul_matrix)"
   ]
  },
  {
   "attachments": {},
   "cell_type": "markdown",
   "id": "f70b44ed",
   "metadata": {},
   "source": [
    "### 1.2.4 Exercises"
   ]
  },
  {
   "cell_type": "code",
   "execution_count": 20,
   "id": "9db105a1",
   "metadata": {},
   "outputs": [
    {
     "name": "stdout",
     "output_type": "stream",
     "text": [
      "[[0.  0.4 0.8]\n",
      " [1.2 1.6 2. ]\n",
      " [2.4 2.8 3.2]\n",
      " [3.6 4.  4.4]]\n"
     ]
    }
   ],
   "source": [
    "# Divide your array B by the number 2.5. Store the result in a variable C\n",
    "C = B / 2.5\n",
    "print(C)"
   ]
  },
  {
   "cell_type": "code",
   "execution_count": 21,
   "id": "69a4a760",
   "metadata": {},
   "outputs": [
    {
     "name": "stdout",
     "output_type": "stream",
     "text": [
      "[[-1 -1 -1]\n",
      " [-1 -1 -1]\n",
      " [-1 -1 -1]\n",
      " [-1 -1 -1]]\n"
     ]
    }
   ],
   "source": [
    "# Create a new array filled with -1. The array must have the same shape as B. Store the result in a variable D\n",
    "D = np.full(B.shape, -1)\n",
    "print(D)"
   ]
  },
  {
   "cell_type": "code",
   "execution_count": 22,
   "id": "27789dc5",
   "metadata": {},
   "outputs": [
    {
     "name": "stdout",
     "output_type": "stream",
     "text": [
      "[[  0  -1  -2]\n",
      " [ -3  -4  -5]\n",
      " [ -6  -7  -8]\n",
      " [ -9 -10 -11]]\n"
     ]
    }
   ],
   "source": [
    "# Multiply this new array ELEMENT-WISE with B and store the result in a variable called E.\n",
    "E = D* B\n",
    "print(E)"
   ]
  },
  {
   "cell_type": "code",
   "execution_count": 23,
   "id": "9e7d9a92",
   "metadata": {},
   "outputs": [
    {
     "name": "stdout",
     "output_type": "stream",
     "text": [
      "[[0 1]\n",
      " [2 3]]\n"
     ]
    }
   ],
   "source": [
    "# Consider the intermediate array below. \n",
    "intermediate_arr = np.arange(4).reshape(2, 2)\n",
    "print(intermediate_arr)"
   ]
  },
  {
   "cell_type": "code",
   "execution_count": 24,
   "id": "bf5bb2bd",
   "metadata": {},
   "outputs": [
    {
     "name": "stdout",
     "output_type": "stream",
     "text": [
      "[[-42 -48 -54]]\n"
     ]
    }
   ],
   "source": [
    "# Try and multiply it with D element-wise. What happens? What could \n",
    "# you do to make this multiplication work? (hint: try and make\n",
    "# the intermediate array broadcastable to C)\n",
    "intermediate_arr = intermediate_arr.reshape(1, 4)\n",
    "F = np.matmul(intermediate_arr, E)\n",
    "print(F)"
   ]
  },
  {
   "attachments": {},
   "cell_type": "markdown",
   "id": "5f4be63d",
   "metadata": {},
   "source": [
    "## 1.3 Functions\n",
    "Another useful thing we might want to do with an array is to apply a function to each element. Generally speaking, it is best to use the built-in Numpy functions to work on numpy arrays instead of defining your own. This is because Numpy functions are highly optimised for speed, which is important when working with large amounts of data. Chances are, whatever kind of mathematical operation you want to perform on a Numpy array is already built in. See below for a full list:  \n",
    "https://numpy.org/doc/stable/reference/routines.math.html  \n",
    "\n",
    "### 1.3.1 Element-wise functions\n",
    "Common uses are applying trig functions to an array of values:"
   ]
  },
  {
   "cell_type": "code",
   "execution_count": 25,
   "id": "0d99a1ba",
   "metadata": {},
   "outputs": [
    {
     "data": {
      "image/png": "[encoded data removed]",
      "text/plain": [
       "<Figure size 640x480 with 1 Axes>"
      ]
     },
     "metadata": {},
     "output_type": "display_data"
    },
    {
     "data": {
      "image/png": "[encoded data removed]",
      "text/plain": [
       "<Figure size 640x480 with 1 Axes>"
      ]
     },
     "metadata": {},
     "output_type": "display_data"
    }
   ],
   "source": [
    "import matplotlib.pyplot as plt\n",
    "\n",
    "def simple_plot(x, y, label):\n",
    "    plt.plot(x, y)\n",
    "    plt.suptitle(label)\n",
    "    plt.show()\n",
    "\n",
    "    \n",
    "\n",
    "# Element-wise functions: \n",
    "X = np.arange(0, 2*np.pi, 0.2)\n",
    "Y = np.sin(X)\n",
    "simple_plot(X, Y, \"sin(X)\")\n",
    "\n",
    "Y_1  = np.exp(X)\n",
    "simple_plot(X, Y_1, \"exp(X)\")\n"
   ]
  },
  {
   "attachments": {},
   "cell_type": "markdown",
   "id": "abc97f70",
   "metadata": {},
   "source": [
    "### 1.3.2 Reduce functions\n",
    "These are applied along the selected axis, consume all the elements and reduce the axis down to 1 element. If no axis is specified, the function is applied to the whole array, and reduces it to a scalar"
   ]
  },
  {
   "cell_type": "code",
   "execution_count": 26,
   "id": "5d79e457",
   "metadata": {},
   "outputs": [
    {
     "name": "stdout",
     "output_type": "stream",
     "text": [
      "[[ 0  1  2  3]\n",
      " [ 4  5  6  7]\n",
      " [ 8  9 10 11]\n",
      " [12 13 14 15]\n",
      " [16 17 18 19]\n",
      " [20 21 22 23]\n",
      " [24 25 26 27]\n",
      " [28 29 30 31]]\n",
      "-----------\n",
      "max: 31\n",
      "[[ 1.5]\n",
      " [ 5.5]\n",
      " [ 9.5]\n",
      " [13.5]\n",
      " [17.5]\n",
      " [21.5]\n",
      " [25.5]\n",
      " [29.5]]\n"
     ]
    }
   ],
   "source": [
    "# Max, mean minimun functions:\n",
    "A = np.arange(32).reshape(8, 4)\n",
    "print(A)\n",
    "print(\"-----------\")\n",
    "I = A.max()\n",
    "print(f\"max: {I}\")\n",
    "\n",
    "I_2 = np.mean(A, axis=1, keepdims=True)\n",
    "print(I_2)"
   ]
  },
  {
   "attachments": {},
   "cell_type": "markdown",
   "id": "c796c03c",
   "metadata": {},
   "source": [
    "### 1.3.3 Exercises\n"
   ]
  },
  {
   "cell_type": "code",
   "execution_count": 27,
   "id": "bfef5c5f",
   "metadata": {},
   "outputs": [
    {
     "name": "stdout",
     "output_type": "stream",
     "text": [
      "[-0.99999303 -0.99999148 -0.9999896  -0.99998729 -0.99998448 -0.99998104\n",
      " -0.99997684 -0.99997172 -0.99996545 -0.99995781 -0.99994846 -0.99993706\n",
      " -0.99992312 -0.9999061  -0.99988531 -0.99985992 -0.99982891 -0.99979103\n",
      " -0.99974477 -0.99968827 -0.99961927 -0.99953499 -0.99943207 -0.99930637\n",
      " -0.99915286 -0.9989654  -0.99873648 -0.99845695 -0.99811564 -0.99769892\n",
      " -0.99719016 -0.99656913 -0.99581111 -0.99488605 -0.99375734 -0.99238047\n",
      " -0.99070133 -0.98865425 -0.98615966 -0.98312123 -0.97942267 -0.97492392\n",
      " -0.96945679 -0.96282015 -0.95477457 -0.94503671 -0.93327368 -0.91909789\n",
      " -0.90206306 -0.88166254 -0.85733128 -0.82845337 -0.79437734 -0.75444149\n",
      " -0.70801148 -0.65453119 -0.59358628 -0.52497672 -0.44879099 -0.36547052\n",
      " -0.27585058 -0.1811634  -0.08299396  0.01681311  0.11628624  0.21348\n",
      "  0.30662392  0.39424359  0.47523785  0.54890634  0.61493237  0.67333244\n",
      "  0.72438705  0.76856596  0.80645811  0.83871205  0.8659896   0.88893254\n",
      "  0.90814095  0.92416076  0.93747833  0.94851987  0.95765405  0.96519649\n",
      "  0.97141513  0.9765359   0.98074828  0.98421047  0.9870541   0.98938834\n",
      "  0.99130355  0.99287433  0.99416222  0.9952179   0.99608305  0.99679194\n",
      "  0.9973727   0.99784843  0.9982381   0.99855725  0.99881862  0.99903267\n",
      "  0.99920794  0.99935147  0.999469    0.99956523  0.99964403  0.99970855\n",
      "  0.99976137  0.99980462  0.99984004  0.99986903  0.99989277  0.99991221\n",
      "  0.99992812  0.99994115  0.99995182  0.99996055  0.9999677   0.99997356\n",
      "  0.99997835  0.99998227  0.99998549  0.99998812  0.99999027  0.99999204]\n"
     ]
    }
   ],
   "source": [
    "# Have a look at the trigonometric functions listed in the official numpy documentation: \n",
    "# https://numpy.org/doc/stable/reference/routines.math.html\n",
    "# Pick any element-wise function that takes 1 numpy array as an argument and apply it to the following\n",
    "# array. store the result in a variable called Ys\n",
    "Xs = np.arange(-2*np.pi, 2*np.pi, 0.1)\n",
    "Ys = np.tanh(Xs)\n",
    "print(Ys)"
   ]
  },
  {
   "cell_type": "code",
   "execution_count": 28,
   "id": "0158d8c2",
   "metadata": {},
   "outputs": [
    {
     "data": {
      "image/png": "[encoded data removed]",
      "text/plain": [
       "<Figure size 640x480 with 1 Axes>"
      ]
     },
     "metadata": {},
     "output_type": "display_data"
    }
   ],
   "source": [
    "# Call our previously-defined simple plot function and display your result! Give the plot a suitable title\n",
    "simple_plot(Xs, Ys, \"tanh(Xs)\")"
   ]
  },
  {
   "cell_type": "code",
   "execution_count": 29,
   "id": "cb7444e7",
   "metadata": {},
   "outputs": [
    {
     "name": "stdout",
     "output_type": "stream",
     "text": [
      "0.9999920352594386\n"
     ]
    }
   ],
   "source": [
    "# Use a suitable Numpy reduce function to find the maximum value of your function's result\n",
    "max_val = Ys.max()\n",
    "print(max_val)"
   ]
  },
  {
   "attachments": {},
   "cell_type": "markdown",
   "id": "bd2d92ce",
   "metadata": {},
   "source": [
    "## 1.4 numpy.where\n",
    "This allows us to conditionally modify the elements of an array, which can be useful for tasks like thresholding or masking."
   ]
  },
  {
   "cell_type": "code",
   "execution_count": 30,
   "id": "25e1bea8",
   "metadata": {},
   "outputs": [
    {
     "data": {
      "text/plain": [
       "array([[ 0. ,  0. ,  0. ,  0. ,  0. ,  0. ,  0. ,  0. ,  0. ,  0. ],\n",
       "       [ 0. ,  0. ,  0. ,  0. ,  0. ,  0. ,  0. ,  0. ,  0. ,  0. ],\n",
       "       [ 0. ,  0. ,  0. ,  0. ,  0. ,  0. ,  0. ,  0. ,  0. ,  0. ],\n",
       "       [ 0. ,  0. ,  0. ,  0. ,  0. ,  0. ,  0. ,  0. ,  0. ,  0. ],\n",
       "       [ 0. ,  0. ,  0. ,  0. ,  0. ,  0. ,  0. ,  0. ,  0. ,  0. ],\n",
       "       [25. , 25.5, 26. , 26.5, 27. , 27.5, 28. , 28.5, 29. , 29.5],\n",
       "       [30. , 30.5, 31. , 31.5, 32. , 32.5, 33. , 33.5, 34. , 34.5],\n",
       "       [35. , 35.5, 36. , 36.5, 37. , 37.5, 38. , 38.5, 39. , 39.5],\n",
       "       [40. , 40.5, 41. , 41.5, 42. , 42.5, 43. , 43.5, 44. , 44.5],\n",
       "       [45. , 45.5, 46. , 46.5, 47. , 47.5, 48. , 48.5, 49. , 49.5]])"
      ]
     },
     "execution_count": 30,
     "metadata": {},
     "output_type": "execute_result"
    }
   ],
   "source": [
    "big_image = np.arange(10*10).reshape(10, 10)\n",
    "big_image_thresh = np.where(big_image < 50, 0, big_image / 2)\n",
    "big_image_thresh"
   ]
  },
  {
   "attachments": {},
   "cell_type": "markdown",
   "id": "21cba204",
   "metadata": {},
   "source": [
    "### 1.4.1 Exercises\n"
   ]
  },
  {
   "cell_type": "code",
   "execution_count": 31,
   "id": "b0c50f34",
   "metadata": {},
   "outputs": [
    {
     "name": "stdout",
     "output_type": "stream",
     "text": [
      "[[0.47644616 0.97085326 0.67425492 0.07305609 0.91323322]\n",
      " [0.09524564 0.31224382 0.92168498 0.60557185 0.1948898 ]\n",
      " [0.71968991 0.7472805  0.98600681 0.42093346 0.25400643]\n",
      " [0.50353068 0.22458806 0.22473891 0.19310669 0.43984365]\n",
      " [0.13968697 0.59013743 0.5623125  0.49163238 0.0194009 ]\n",
      " [0.30140917 0.59596635 0.2758173  0.69799153 0.40587508]\n",
      " [0.46000438 0.03217878 0.37936156 0.16588695 0.23788017]\n",
      " [0.41221919 0.00891906 0.80641787 0.50255884 0.37078423]\n",
      " [0.55460698 0.78869012 0.55516186 0.80990381 0.27573568]\n",
      " [0.44994722 0.47214961 0.35025469 0.77857661 0.91356123]]\n"
     ]
    }
   ],
   "source": [
    "# Create a Numpy array of shape (10, 5) and fill it with random values between 0 and 1. Store it in a variable called J\n",
    "J = np.random.rand(10* 5).reshape(10, 5)\n",
    "print(J)"
   ]
  },
  {
   "cell_type": "code",
   "execution_count": 32,
   "id": "36292d54",
   "metadata": {},
   "outputs": [
    {
     "name": "stdout",
     "output_type": "stream",
     "text": [
      "[[0 1 1 0 1]\n",
      " [0 0 1 1 0]\n",
      " [1 1 1 0 0]\n",
      " [1 0 0 0 0]\n",
      " [0 1 1 0 0]\n",
      " [0 1 0 1 0]\n",
      " [0 0 0 0 0]\n",
      " [0 0 1 1 0]\n",
      " [1 1 1 1 0]\n",
      " [0 0 0 1 1]]\n"
     ]
    }
   ],
   "source": [
    "# Conditionally modify the array such that numbers below 0.5 are replaced with 0 and numbers above \n",
    "# or equal to 0.5 are replaced with 1. Store the result in a variable called K\n",
    "K = np.where(J < 0.5, 0, 1)\n",
    "print(K)"
   ]
  },
  {
   "attachments": {},
   "cell_type": "markdown",
   "id": "1e67bef4",
   "metadata": {},
   "source": [
    "## 1.5 Practical example\n",
    "\n",
    "Putting everything together for a practical example, and visulalise the output of some Numpy operations"
   ]
  },
  {
   "cell_type": "code",
   "execution_count": 33,
   "id": "053dfac8",
   "metadata": {},
   "outputs": [],
   "source": [
    "# Defining some helper functions\n",
    "def plot_point(point):\n",
    "    plt.rcParams[\"figure.figsize\"] = [3.50, 3.50]\n",
    "    plt.rcParams[\"figure.autolayout\"] = True\n",
    "    x = point[0]\n",
    "    y = point[1]\n",
    "    \n",
    "    lims = 3\n",
    "    fig = plt.figure()\n",
    "    ax = fig.add_subplot(111)\n",
    "    plt.xlim(-lims, lims)\n",
    "    plt.ylim(-lims, lims)\n",
    "    plt.grid()\n",
    "    ax.plot(x, y, marker=\"o\", markersize=7, markeredgecolor=\"black\", markerfacecolor=\"red\")\n",
    "    ax.spines['left'].set_position('zero')\n",
    "    ax.spines['right'].set_color('none')\n",
    "    ax.spines['bottom'].set_position('zero')\n",
    "    ax.spines['top'].set_color('none')\n",
    "    plt.show()\n",
    "\n",
    "\n",
    "\n",
    "# This function returns an np array that describes a 2d rotation \n",
    "# matrix [https://www1.udel.edu/biology/rosewc/kaap686/notes/matrices_rotations.pdf]. \n",
    "# These kinds of structures are often used in computer graphics to rotate and translate points in space\n",
    "def get_rot_clockwise_matrix(angle):\n",
    "    return np.array([\n",
    "        [ np.cos(angle), np.sin(angle)],\n",
    "        [-np.sin(angle), np.cos(angle)]\n",
    "    ])"
   ]
  },
  {
   "cell_type": "code",
   "execution_count": 34,
   "id": "e5bedc69",
   "metadata": {},
   "outputs": [
    {
     "name": "stdout",
     "output_type": "stream",
     "text": [
      "[0.19326314 0.36393949]\n"
     ]
    }
   ],
   "source": [
    "# Create a random 2-element array containing values from 0 - 1. Assign this array to a variable `p`\n",
    "p = np.random.rand(2)\n",
    "print(p)"
   ]
  },
  {
   "cell_type": "code",
   "execution_count": 35,
   "id": "d3454cb0",
   "metadata": {},
   "outputs": [
    {
     "name": "stdout",
     "output_type": "stream",
     "text": [
      "[0.38652629 0.72787898]\n"
     ]
    }
   ],
   "source": [
    "# Use scalar multiplication to double the value of the elements in `p`. Assign the result back to `p`\n",
    "p = 2 * p\n",
    "print(p)"
   ]
  },
  {
   "cell_type": "code",
   "execution_count": 36,
   "id": "00655ac8",
   "metadata": {},
   "outputs": [
    {
     "data": {
      "image/png": "[encoded data removed]",
      "text/plain": [
       "<Figure size 350x350 with 1 Axes>"
      ]
     },
     "metadata": {},
     "output_type": "display_data"
    }
   ],
   "source": [
    "# Reshape `p` to be (2, 1), assign the result to `p` and plot the point.\n",
    "p = p.reshape(2, 1)\n",
    "plot_point(p)"
   ]
  },
  {
   "cell_type": "code",
   "execution_count": 37,
   "id": "1937533d",
   "metadata": {},
   "outputs": [
    {
     "name": "stdout",
     "output_type": "stream",
     "text": [
      "148.32892722635717\n"
     ]
    }
   ],
   "source": [
    "# We will now rotate this point about the origin of the plot using the funciton we defined above\n",
    "# This cell is just some setup for the rest of the exercise, just run it once\n",
    "min_angle = np.pi/2 # 90 degrees\n",
    "max_angle = np.pi   # 180 degrees\n",
    "angle = np.random.uniform(min_angle, max_angle) # get a random angle between 90 and 180 degrees\n",
    "print(np.degrees(angle)) # print the angle in degrees so we can check the rotation is correct!"
   ]
  },
  {
   "cell_type": "code",
   "execution_count": 38,
   "id": "0ea1d746",
   "metadata": {},
   "outputs": [
    {
     "name": "stdout",
     "output_type": "stream",
     "text": [
      "[[-0.8510763   0.52504203]\n",
      " [-0.52504203 -0.8510763 ]]\n"
     ]
    }
   ],
   "source": [
    "# Call the previously-defined roation matrix function with the angle. Assign the result to \n",
    "# a variable called `rot90`\n",
    "rot = get_rot_clockwise_matrix(angle)\n",
    "print(rot)\n"
   ]
  },
  {
   "cell_type": "code",
   "execution_count": 39,
   "id": "350ff0ba",
   "metadata": {},
   "outputs": [
    {
     "data": {
      "image/png": "[encoded data removed]",
      "text/plain": [
       "<Figure size 350x350 with 1 Axes>"
      ]
     },
     "metadata": {},
     "output_type": "display_data"
    }
   ],
   "source": [
    "# Apply a matrix multiplication operation between rot90 and p. assign the result back to p and plot it.\n",
    "p = np.matmul(rot, p)\n",
    "plot_point(p)\n"
   ]
  },
  {
   "cell_type": "code",
   "execution_count": 40,
   "id": "65e93aeb",
   "metadata": {},
   "outputs": [
    {
     "name": "stdout",
     "output_type": "stream",
     "text": [
      "[[2]\n",
      " [2]]\n"
     ]
    }
   ],
   "source": [
    "# Create an array named `translation` which has the same shape as `p`, and fill it with 2's\n",
    "translation = np.full(p.shape, 2)\n",
    "print(translation)"
   ]
  },
  {
   "cell_type": "code",
   "execution_count": 41,
   "id": "0fff9269",
   "metadata": {},
   "outputs": [
    {
     "data": {
      "image/png": "[encoded data removed]",
      "text/plain": [
       "<Figure size 350x350 with 1 Axes>"
      ]
     },
     "metadata": {},
     "output_type": "display_data"
    }
   ],
   "source": [
    "# Add this result to p and plot it!\n",
    "p = p + translation\n",
    "plot_point(p)\n"
   ]
  }
 ],
 "metadata": {
  "kernelspec": {
   "display_name": "Python 3 (ipykernel)",
   "language": "python",
   "name": "python3"
  },
  "language_info": {
   "codemirror_mode": {
    "name": "ipython",
    "version": 3
   },
   "file_extension": ".py",
   "mimetype": "text/x-python",
   "name": "python",
   "nbconvert_exporter": "python",
   "pygments_lexer": "ipython3",
   "version": "3.11.5"
  }
 },
 "nbformat": 4,
 "nbformat_minor": 5
}
